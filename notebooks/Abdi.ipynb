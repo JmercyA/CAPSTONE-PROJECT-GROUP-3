{
 "cells": [
  {
   "cell_type": "code",
   "execution_count": 192,
   "metadata": {},
   "outputs": [],
   "source": [
    "import pandas as pd\n",
    "import seaborn as sns\n",
    "import matplotlib.pyplot as plt"
   ]
  },
  {
   "cell_type": "code",
   "execution_count": 102,
   "metadata": {},
   "outputs": [
    {
     "name": "stderr",
     "output_type": "stream",
     "text": [
      "C:\\Users\\lenovo\\AppData\\Local\\Temp\\ipykernel_12148\\1484242852.py:1: DtypeWarning: Columns (3,15) have mixed types. Specify dtype option on import or set low_memory=False.\n",
      "  df=pd.read_csv('Traffic_Crashes_Resulting_in_Injury_20250306.csv')\n"
     ]
    },
    {
     "data": {
      "text/html": [
       "<div>\n",
       "<style scoped>\n",
       "    .dataframe tbody tr th:only-of-type {\n",
       "        vertical-align: middle;\n",
       "    }\n",
       "\n",
       "    .dataframe tbody tr th {\n",
       "        vertical-align: top;\n",
       "    }\n",
       "\n",
       "    .dataframe thead th {\n",
       "        text-align: right;\n",
       "    }\n",
       "</style>\n",
       "<table border=\"1\" class=\"dataframe\">\n",
       "  <thead>\n",
       "    <tr style=\"text-align: right;\">\n",
       "      <th></th>\n",
       "      <th>unique_id</th>\n",
       "      <th>cnn_intrsctn_fkey</th>\n",
       "      <th>cnn_sgmt_fkey</th>\n",
       "      <th>case_id_pkey</th>\n",
       "      <th>tb_latitude</th>\n",
       "      <th>tb_longitude</th>\n",
       "      <th>geocode_source</th>\n",
       "      <th>geocode_location</th>\n",
       "      <th>collision_datetime</th>\n",
       "      <th>collision_date</th>\n",
       "      <th>...</th>\n",
       "      <th>data_updated_at</th>\n",
       "      <th>data_loaded_at</th>\n",
       "      <th>analysis_neighborhood</th>\n",
       "      <th>supervisor_district</th>\n",
       "      <th>police_district</th>\n",
       "      <th>Current Police Districts</th>\n",
       "      <th>Current Supervisor Districts</th>\n",
       "      <th>Analysis Neighborhoods</th>\n",
       "      <th>Neighborhoods</th>\n",
       "      <th>SF Find Neighborhoods</th>\n",
       "    </tr>\n",
       "  </thead>\n",
       "  <tbody>\n",
       "    <tr>\n",
       "      <th>0</th>\n",
       "      <td>82049</td>\n",
       "      <td>20208000.0</td>\n",
       "      <td>8087000.0</td>\n",
       "      <td>230041955</td>\n",
       "      <td>37.734019</td>\n",
       "      <td>-122.388046</td>\n",
       "      <td>SFPD-INTERIM DB</td>\n",
       "      <td>CITY STREET</td>\n",
       "      <td>01/18/2023 05:53:00 PM</td>\n",
       "      <td>2023 January 18</td>\n",
       "      <td>...</td>\n",
       "      <td>01/21/2025 12:00:00 AM</td>\n",
       "      <td>02/10/2025 01:42:44 PM</td>\n",
       "      <td>Bayview Hunters Point</td>\n",
       "      <td>10.0</td>\n",
       "      <td>BAYVIEW</td>\n",
       "      <td>2.0</td>\n",
       "      <td>9.0</td>\n",
       "      <td>1.0</td>\n",
       "      <td>86.0</td>\n",
       "      <td>86.0</td>\n",
       "    </tr>\n",
       "    <tr>\n",
       "      <th>1</th>\n",
       "      <td>82166</td>\n",
       "      <td>25723000.0</td>\n",
       "      <td>805000.0</td>\n",
       "      <td>230111655</td>\n",
       "      <td>37.762886</td>\n",
       "      <td>-122.428578</td>\n",
       "      <td>SFPD-INTERIM DB</td>\n",
       "      <td>CITY STREET</td>\n",
       "      <td>02/15/2023 09:30:00 AM</td>\n",
       "      <td>2023 February 15</td>\n",
       "      <td>...</td>\n",
       "      <td>01/21/2025 12:00:00 AM</td>\n",
       "      <td>02/10/2025 01:42:44 PM</td>\n",
       "      <td>Castro/Upper Market</td>\n",
       "      <td>8.0</td>\n",
       "      <td>MISSION</td>\n",
       "      <td>3.0</td>\n",
       "      <td>5.0</td>\n",
       "      <td>5.0</td>\n",
       "      <td>37.0</td>\n",
       "      <td>37.0</td>\n",
       "    </tr>\n",
       "    <tr>\n",
       "      <th>2</th>\n",
       "      <td>41951</td>\n",
       "      <td>32862000.0</td>\n",
       "      <td>7826101.0</td>\n",
       "      <td>3491922</td>\n",
       "      <td>37.768636</td>\n",
       "      <td>-122.454858</td>\n",
       "      <td>SFPD-CROSSROADS</td>\n",
       "      <td>CITY STREET</td>\n",
       "      <td>11/11/2007 03:50:00 PM</td>\n",
       "      <td>2007 November 11</td>\n",
       "      <td>...</td>\n",
       "      <td>04/26/2023 12:00:00 AM</td>\n",
       "      <td>02/10/2025 01:42:44 PM</td>\n",
       "      <td>Golden Gate Park</td>\n",
       "      <td>5.0</td>\n",
       "      <td>PARK</td>\n",
       "      <td>7.0</td>\n",
       "      <td>11.0</td>\n",
       "      <td>12.0</td>\n",
       "      <td>9.0</td>\n",
       "      <td>9.0</td>\n",
       "    </tr>\n",
       "    <tr>\n",
       "      <th>3</th>\n",
       "      <td>48546</td>\n",
       "      <td>23904000.0</td>\n",
       "      <td>NaN</td>\n",
       "      <td>190523857</td>\n",
       "      <td>37.780363</td>\n",
       "      <td>-122.399080</td>\n",
       "      <td>SFPD-INTERIM DB</td>\n",
       "      <td>CITY STREET</td>\n",
       "      <td>07/19/2019 01:50:00 PM</td>\n",
       "      <td>2019 July 19</td>\n",
       "      <td>...</td>\n",
       "      <td>04/26/2023 12:00:00 AM</td>\n",
       "      <td>02/10/2025 01:42:44 PM</td>\n",
       "      <td>South of Market</td>\n",
       "      <td>6.0</td>\n",
       "      <td>SOUTHERN</td>\n",
       "      <td>1.0</td>\n",
       "      <td>10.0</td>\n",
       "      <td>34.0</td>\n",
       "      <td>32.0</td>\n",
       "      <td>32.0</td>\n",
       "    </tr>\n",
       "    <tr>\n",
       "      <th>4</th>\n",
       "      <td>35692</td>\n",
       "      <td>26705000.0</td>\n",
       "      <td>NaN</td>\n",
       "      <td>170390767</td>\n",
       "      <td>37.804146</td>\n",
       "      <td>-122.425110</td>\n",
       "      <td>SFPD-CROSSROADS</td>\n",
       "      <td>CITY STREET</td>\n",
       "      <td>05/11/2017 07:53:00 AM</td>\n",
       "      <td>2017 May 11</td>\n",
       "      <td>...</td>\n",
       "      <td>04/26/2023 12:00:00 AM</td>\n",
       "      <td>02/10/2025 01:42:44 PM</td>\n",
       "      <td>Russian Hill</td>\n",
       "      <td>2.0</td>\n",
       "      <td>CENTRAL</td>\n",
       "      <td>6.0</td>\n",
       "      <td>6.0</td>\n",
       "      <td>32.0</td>\n",
       "      <td>98.0</td>\n",
       "      <td>98.0</td>\n",
       "    </tr>\n",
       "  </tbody>\n",
       "</table>\n",
       "<p>5 rows × 63 columns</p>\n",
       "</div>"
      ],
      "text/plain": [
       "   unique_id  cnn_intrsctn_fkey  cnn_sgmt_fkey case_id_pkey  tb_latitude  \\\n",
       "0      82049         20208000.0      8087000.0    230041955    37.734019   \n",
       "1      82166         25723000.0       805000.0    230111655    37.762886   \n",
       "2      41951         32862000.0      7826101.0      3491922    37.768636   \n",
       "3      48546         23904000.0            NaN    190523857    37.780363   \n",
       "4      35692         26705000.0            NaN    170390767    37.804146   \n",
       "\n",
       "   tb_longitude   geocode_source geocode_location      collision_datetime  \\\n",
       "0   -122.388046  SFPD-INTERIM DB      CITY STREET  01/18/2023 05:53:00 PM   \n",
       "1   -122.428578  SFPD-INTERIM DB      CITY STREET  02/15/2023 09:30:00 AM   \n",
       "2   -122.454858  SFPD-CROSSROADS      CITY STREET  11/11/2007 03:50:00 PM   \n",
       "3   -122.399080  SFPD-INTERIM DB      CITY STREET  07/19/2019 01:50:00 PM   \n",
       "4   -122.425110  SFPD-CROSSROADS      CITY STREET  05/11/2017 07:53:00 AM   \n",
       "\n",
       "     collision_date  ...         data_updated_at          data_loaded_at  \\\n",
       "0   2023 January 18  ...  01/21/2025 12:00:00 AM  02/10/2025 01:42:44 PM   \n",
       "1  2023 February 15  ...  01/21/2025 12:00:00 AM  02/10/2025 01:42:44 PM   \n",
       "2  2007 November 11  ...  04/26/2023 12:00:00 AM  02/10/2025 01:42:44 PM   \n",
       "3      2019 July 19  ...  04/26/2023 12:00:00 AM  02/10/2025 01:42:44 PM   \n",
       "4       2017 May 11  ...  04/26/2023 12:00:00 AM  02/10/2025 01:42:44 PM   \n",
       "\n",
       "   analysis_neighborhood supervisor_district police_district  \\\n",
       "0  Bayview Hunters Point                10.0         BAYVIEW   \n",
       "1    Castro/Upper Market                 8.0         MISSION   \n",
       "2       Golden Gate Park                 5.0            PARK   \n",
       "3        South of Market                 6.0        SOUTHERN   \n",
       "4           Russian Hill                 2.0         CENTRAL   \n",
       "\n",
       "  Current Police Districts Current Supervisor Districts  \\\n",
       "0                      2.0                          9.0   \n",
       "1                      3.0                          5.0   \n",
       "2                      7.0                         11.0   \n",
       "3                      1.0                         10.0   \n",
       "4                      6.0                          6.0   \n",
       "\n",
       "  Analysis Neighborhoods Neighborhoods SF Find Neighborhoods  \n",
       "0                    1.0          86.0                  86.0  \n",
       "1                    5.0          37.0                  37.0  \n",
       "2                   12.0           9.0                   9.0  \n",
       "3                   34.0          32.0                  32.0  \n",
       "4                   32.0          98.0                  98.0  \n",
       "\n",
       "[5 rows x 63 columns]"
      ]
     },
     "execution_count": 102,
     "metadata": {},
     "output_type": "execute_result"
    }
   ],
   "source": [
    "df=pd.read_csv('Traffic_Crashes_Resulting_in_Injury_20250306.csv')\n",
    "df.head()"
   ]
  },
  {
   "cell_type": "code",
   "execution_count": 103,
   "metadata": {},
   "outputs": [
    {
     "data": {
      "text/plain": [
       "Index(['unique_id', 'cnn_intrsctn_fkey', 'cnn_sgmt_fkey', 'case_id_pkey',\n",
       "       'tb_latitude', 'tb_longitude', 'geocode_source', 'geocode_location',\n",
       "       'collision_datetime', 'collision_date', 'collision_time',\n",
       "       'accident_year', 'month', 'day_of_week', 'time_cat', 'juris',\n",
       "       'officer_id', 'reporting_district', 'beat_number', 'primary_rd',\n",
       "       'secondary_rd', 'distance', 'direction', 'weather_1', 'weather_2',\n",
       "       'collision_severity', 'type_of_collision', 'mviw', 'ped_action',\n",
       "       'road_surface', 'road_cond_1', 'road_cond_2', 'lighting',\n",
       "       'control_device', 'intersection', 'vz_pcf_code', 'vz_pcf_group',\n",
       "       'vz_pcf_description', 'vz_pcf_link', 'number_killed', 'number_injured',\n",
       "       'street_view', 'dph_col_grp', 'dph_col_grp_description',\n",
       "       'party_at_fault', 'party1_type', 'party1_dir_of_travel',\n",
       "       'party1_move_pre_acc', 'party2_type', 'party2_dir_of_travel',\n",
       "       'party2_move_pre_acc', 'point', 'data_as_of', 'data_updated_at',\n",
       "       'data_loaded_at', 'analysis_neighborhood', 'supervisor_district',\n",
       "       'police_district', 'Current Police Districts',\n",
       "       'Current Supervisor Districts', 'Analysis Neighborhoods',\n",
       "       'Neighborhoods', 'SF Find Neighborhoods'],\n",
       "      dtype='object')"
      ]
     },
     "execution_count": 103,
     "metadata": {},
     "output_type": "execute_result"
    }
   ],
   "source": [
    "df.columns"
   ]
  },
  {
   "cell_type": "code",
   "execution_count": 104,
   "metadata": {},
   "outputs": [
    {
     "data": {
      "text/html": [
       "<div>\n",
       "<style scoped>\n",
       "    .dataframe tbody tr th:only-of-type {\n",
       "        vertical-align: middle;\n",
       "    }\n",
       "\n",
       "    .dataframe tbody tr th {\n",
       "        vertical-align: top;\n",
       "    }\n",
       "\n",
       "    .dataframe thead th {\n",
       "        text-align: right;\n",
       "    }\n",
       "</style>\n",
       "<table border=\"1\" class=\"dataframe\">\n",
       "  <thead>\n",
       "    <tr style=\"text-align: right;\">\n",
       "      <th></th>\n",
       "      <th>tb_latitude</th>\n",
       "      <th>tb_longitude</th>\n",
       "      <th>collision_date</th>\n",
       "      <th>collision_time</th>\n",
       "      <th>accident_year</th>\n",
       "      <th>month</th>\n",
       "      <th>day_of_week</th>\n",
       "      <th>primary_rd</th>\n",
       "      <th>secondary_rd</th>\n",
       "      <th>distance</th>\n",
       "      <th>...</th>\n",
       "      <th>control_device</th>\n",
       "      <th>number_killed</th>\n",
       "      <th>number_injured</th>\n",
       "      <th>party_at_fault</th>\n",
       "      <th>party1_type</th>\n",
       "      <th>party1_dir_of_travel</th>\n",
       "      <th>party1_move_pre_acc</th>\n",
       "      <th>party2_type</th>\n",
       "      <th>party2_dir_of_travel</th>\n",
       "      <th>party2_move_pre_acc</th>\n",
       "    </tr>\n",
       "  </thead>\n",
       "  <tbody>\n",
       "    <tr>\n",
       "      <th>0</th>\n",
       "      <td>37.734019</td>\n",
       "      <td>-122.388046</td>\n",
       "      <td>2023 January 18</td>\n",
       "      <td>17:53:00</td>\n",
       "      <td>2023</td>\n",
       "      <td>January</td>\n",
       "      <td>Wednesday</td>\n",
       "      <td>LANE ST</td>\n",
       "      <td>NEWCOMB AVE</td>\n",
       "      <td>68.0</td>\n",
       "      <td>...</td>\n",
       "      <td>NaN</td>\n",
       "      <td>0.0</td>\n",
       "      <td>1</td>\n",
       "      <td>NaN</td>\n",
       "      <td>Driver</td>\n",
       "      <td>West</td>\n",
       "      <td>Proceeding Straight</td>\n",
       "      <td>NaN</td>\n",
       "      <td>NaN</td>\n",
       "      <td>NaN</td>\n",
       "    </tr>\n",
       "    <tr>\n",
       "      <th>1</th>\n",
       "      <td>37.762886</td>\n",
       "      <td>-122.428578</td>\n",
       "      <td>2023 February 15</td>\n",
       "      <td>09:30:00</td>\n",
       "      <td>2023</td>\n",
       "      <td>February</td>\n",
       "      <td>Wednesday</td>\n",
       "      <td>17TH ST</td>\n",
       "      <td>CHURCH ST</td>\n",
       "      <td>20.0</td>\n",
       "      <td>...</td>\n",
       "      <td>NaN</td>\n",
       "      <td>0.0</td>\n",
       "      <td>1</td>\n",
       "      <td>NaN</td>\n",
       "      <td>Bicyclist</td>\n",
       "      <td>East</td>\n",
       "      <td>Proceeding Straight</td>\n",
       "      <td>NaN</td>\n",
       "      <td>NaN</td>\n",
       "      <td>NaN</td>\n",
       "    </tr>\n",
       "    <tr>\n",
       "      <th>2</th>\n",
       "      <td>37.768636</td>\n",
       "      <td>-122.454858</td>\n",
       "      <td>2007 November 11</td>\n",
       "      <td>15:50:00</td>\n",
       "      <td>2007</td>\n",
       "      <td>November</td>\n",
       "      <td>Sunday</td>\n",
       "      <td>KEZAR DR</td>\n",
       "      <td>WALLER ST</td>\n",
       "      <td>210.0</td>\n",
       "      <td>...</td>\n",
       "      <td>NaN</td>\n",
       "      <td>0.0</td>\n",
       "      <td>2</td>\n",
       "      <td>NaN</td>\n",
       "      <td>Driver</td>\n",
       "      <td>North</td>\n",
       "      <td>Proceeding Straight</td>\n",
       "      <td>NaN</td>\n",
       "      <td>NaN</td>\n",
       "      <td>NaN</td>\n",
       "    </tr>\n",
       "    <tr>\n",
       "      <th>3</th>\n",
       "      <td>37.780363</td>\n",
       "      <td>-122.399080</td>\n",
       "      <td>2019 July 19</td>\n",
       "      <td>13:50:00</td>\n",
       "      <td>2019</td>\n",
       "      <td>July</td>\n",
       "      <td>Friday</td>\n",
       "      <td>PERRY ST</td>\n",
       "      <td>04TH ST</td>\n",
       "      <td>0.0</td>\n",
       "      <td>...</td>\n",
       "      <td>Functioning</td>\n",
       "      <td>0.0</td>\n",
       "      <td>1</td>\n",
       "      <td>NaN</td>\n",
       "      <td>Bicyclist</td>\n",
       "      <td>East</td>\n",
       "      <td>Making Left Turn</td>\n",
       "      <td>Driver</td>\n",
       "      <td>East</td>\n",
       "      <td>Making Left Turn</td>\n",
       "    </tr>\n",
       "    <tr>\n",
       "      <th>4</th>\n",
       "      <td>37.804146</td>\n",
       "      <td>-122.425110</td>\n",
       "      <td>2017 May 11</td>\n",
       "      <td>07:53:00</td>\n",
       "      <td>2017</td>\n",
       "      <td>May</td>\n",
       "      <td>Thursday</td>\n",
       "      <td>BAY ST</td>\n",
       "      <td>VAN NESS AVE</td>\n",
       "      <td>0.0</td>\n",
       "      <td>...</td>\n",
       "      <td>Not Stated</td>\n",
       "      <td>0.0</td>\n",
       "      <td>1</td>\n",
       "      <td>NaN</td>\n",
       "      <td>Driver</td>\n",
       "      <td>North</td>\n",
       "      <td>Not Stated</td>\n",
       "      <td>Pedestrian</td>\n",
       "      <td>West</td>\n",
       "      <td>Not Stated</td>\n",
       "    </tr>\n",
       "  </tbody>\n",
       "</table>\n",
       "<p>5 rows × 30 columns</p>\n",
       "</div>"
      ],
      "text/plain": [
       "   tb_latitude  tb_longitude    collision_date collision_time  accident_year  \\\n",
       "0    37.734019   -122.388046   2023 January 18       17:53:00           2023   \n",
       "1    37.762886   -122.428578  2023 February 15       09:30:00           2023   \n",
       "2    37.768636   -122.454858  2007 November 11       15:50:00           2007   \n",
       "3    37.780363   -122.399080      2019 July 19       13:50:00           2019   \n",
       "4    37.804146   -122.425110       2017 May 11       07:53:00           2017   \n",
       "\n",
       "      month day_of_week primary_rd  secondary_rd  distance  ...  \\\n",
       "0   January   Wednesday    LANE ST   NEWCOMB AVE      68.0  ...   \n",
       "1  February   Wednesday    17TH ST     CHURCH ST      20.0  ...   \n",
       "2  November      Sunday   KEZAR DR     WALLER ST     210.0  ...   \n",
       "3      July      Friday   PERRY ST       04TH ST       0.0  ...   \n",
       "4       May    Thursday     BAY ST  VAN NESS AVE       0.0  ...   \n",
       "\n",
       "  control_device number_killed number_injured party_at_fault party1_type  \\\n",
       "0            NaN           0.0              1            NaN      Driver   \n",
       "1            NaN           0.0              1            NaN   Bicyclist   \n",
       "2            NaN           0.0              2            NaN      Driver   \n",
       "3    Functioning           0.0              1            NaN   Bicyclist   \n",
       "4     Not Stated           0.0              1            NaN      Driver   \n",
       "\n",
       "  party1_dir_of_travel  party1_move_pre_acc party2_type party2_dir_of_travel  \\\n",
       "0                 West  Proceeding Straight         NaN                  NaN   \n",
       "1                 East  Proceeding Straight         NaN                  NaN   \n",
       "2                North  Proceeding Straight         NaN                  NaN   \n",
       "3                 East     Making Left Turn      Driver                 East   \n",
       "4                North           Not Stated  Pedestrian                 West   \n",
       "\n",
       "  party2_move_pre_acc  \n",
       "0                 NaN  \n",
       "1                 NaN  \n",
       "2                 NaN  \n",
       "3    Making Left Turn  \n",
       "4          Not Stated  \n",
       "\n",
       "[5 rows x 30 columns]"
      ]
     },
     "execution_count": 104,
     "metadata": {},
     "output_type": "execute_result"
    }
   ],
   "source": [
    "df_selected = df[['tb_latitude','tb_longitude','collision_date', 'collision_time','accident_year','month','day_of_week','primary_rd','secondary_rd','distance','direction','weather_1','collision_severity','type_of_collision','mviw','ped_action','road_surface','road_cond_1','lighting','dph_col_grp_description','control_device','number_killed','number_injured','party_at_fault','party1_type', 'party1_dir_of_travel','party1_move_pre_acc','party2_type','party2_dir_of_travel','party2_move_pre_acc']]\n",
    "df_selected.head()"
   ]
  },
  {
   "cell_type": "code",
   "execution_count": 105,
   "metadata": {},
   "outputs": [
    {
     "data": {
      "text/plain": [
       "Index(['tb_latitude', 'tb_longitude', 'collision_date', 'collision_time',\n",
       "       'accident_year', 'month', 'day_of_week', 'primary_rd', 'secondary_rd',\n",
       "       'distance', 'direction', 'weather_1', 'collision_severity',\n",
       "       'type_of_collision', 'mviw', 'ped_action', 'road_surface',\n",
       "       'road_cond_1', 'lighting', 'dph_col_grp_description', 'control_device',\n",
       "       'number_killed', 'number_injured', 'party_at_fault', 'party1_type',\n",
       "       'party1_dir_of_travel', 'party1_move_pre_acc', 'party2_type',\n",
       "       'party2_dir_of_travel', 'party2_move_pre_acc'],\n",
       "      dtype='object')"
      ]
     },
     "execution_count": 105,
     "metadata": {},
     "output_type": "execute_result"
    }
   ],
   "source": [
    "df_selected.columns"
   ]
  },
  {
   "cell_type": "code",
   "execution_count": 106,
   "metadata": {},
   "outputs": [
    {
     "data": {
      "text/plain": [
       "control_device\n",
       "Functioning        39459\n",
       "Not Stated           911\n",
       "Not Functioning      189\n",
       "Obscured              45\n",
       "Name: count, dtype: int64"
      ]
     },
     "execution_count": 106,
     "metadata": {},
     "output_type": "execute_result"
    }
   ],
   "source": [
    "df_selected['control_device'].value_counts()"
   ]
  },
  {
   "cell_type": "code",
   "execution_count": 107,
   "metadata": {},
   "outputs": [
    {
     "data": {
      "text/plain": [
       "mviw\n",
       "Other Motor Vehicle               28121\n",
       "Pedestrian                        14373\n",
       "Bicycle                            8341\n",
       "Fixed Object                       2737\n",
       "Parked Motor Vehicle               2613\n",
       "Non-Collision                      1429\n",
       "Not Stated                         1365\n",
       "Other Object                       1173\n",
       "Motor Vehicle on Other Roadway      912\n",
       "Train                               140\n",
       "Animal                               25\n",
       "Name: count, dtype: int64"
      ]
     },
     "execution_count": 107,
     "metadata": {},
     "output_type": "execute_result"
    }
   ],
   "source": [
    "df_selected['mviw'].value_counts()"
   ]
  },
  {
   "cell_type": "code",
   "execution_count": 108,
   "metadata": {},
   "outputs": [
    {
     "data": {
      "text/plain": [
       "party1_dir_of_travel\n",
       "South         15350\n",
       "East          15009\n",
       "North         14910\n",
       "West          14146\n",
       "Not Stated     1803\n",
       "Name: count, dtype: int64"
      ]
     },
     "execution_count": 108,
     "metadata": {},
     "output_type": "execute_result"
    }
   ],
   "source": [
    "df_selected['party1_dir_of_travel'].value_counts()"
   ]
  },
  {
   "cell_type": "code",
   "execution_count": 109,
   "metadata": {},
   "outputs": [
    {
     "data": {
      "text/plain": [
       "ped_action\n",
       "No Pedestrian Involved                       45655\n",
       "Crossing in Crosswalk at Intersection         8805\n",
       "Crossing Not in Crosswalk                     3121\n",
       "In Road, Including Shoulder                   1900\n",
       "Not in Road                                    820\n",
       "Not Stated                                     695\n",
       "Crossing in Crosswalk Not at Intersection      209\n",
       "Approaching/Leaving School Bus                  13\n",
       "Not In Road                                     11\n",
       "Name: count, dtype: int64"
      ]
     },
     "execution_count": 109,
     "metadata": {},
     "output_type": "execute_result"
    }
   ],
   "source": [
    "df_selected['ped_action'].value_counts()"
   ]
  },
  {
   "cell_type": "code",
   "execution_count": 110,
   "metadata": {},
   "outputs": [
    {
     "data": {
      "text/plain": [
       "dph_col_grp_description\n",
       "Vehicle(s) Only Involved                    36096\n",
       "Vehicle-Pedestrian                          14789\n",
       "Vehicle-Bicycle                              8241\n",
       "Bicycle Only                                 1107\n",
       "Bicycle-Pedestrian                            481\n",
       "Bicycle-Parked Car                            445\n",
       "Pedestrian Only or Pedestrian-Parked Car       33\n",
       "Vehicle-Bicycle-Pedestrian                     18\n",
       "Unknown/Not Stated                             15\n",
       "Bicycle-Unknown/Not Stated                      3\n",
       "Name: count, dtype: int64"
      ]
     },
     "execution_count": 110,
     "metadata": {},
     "output_type": "execute_result"
    }
   ],
   "source": [
    "df_selected['dph_col_grp_description'].value_counts()"
   ]
  },
  {
   "cell_type": "code",
   "execution_count": 111,
   "metadata": {},
   "outputs": [
    {
     "data": {
      "text/plain": [
       "primary_rd\n",
       "MISSION ST                        2638\n",
       "MARKET ST                         2179\n",
       "VAN NESS AVE                      1482\n",
       "GEARY BLVD                        1178\n",
       "03RD ST                           1153\n",
       "                                  ... \n",
       "COLIN P KELLY JR ST                  1\n",
       "HALLAM ST                            1\n",
       "SERGEANT JOHN V YOUNG ST             1\n",
       "ARBOR ST                             1\n",
       "491 BAY SHORE BLVD PARKING LOT       1\n",
       "Name: count, Length: 1260, dtype: int64"
      ]
     },
     "execution_count": 111,
     "metadata": {},
     "output_type": "execute_result"
    }
   ],
   "source": [
    "df_selected['primary_rd'].value_counts()"
   ]
  },
  {
   "cell_type": "code",
   "execution_count": 112,
   "metadata": {},
   "outputs": [
    {
     "data": {
      "text/plain": [
       "secondary_rd\n",
       "MISSION ST     1007\n",
       "FOLSOM ST       692\n",
       "HARRISON ST     640\n",
       "MARKET ST       621\n",
       "16TH ST         612\n",
       "               ... \n",
       "MELBA AVE         1\n",
       "MONTCALM ST       1\n",
       "ECKER ST          1\n",
       "BAYWOOD CT        1\n",
       "KENNY ALY         1\n",
       "Name: count, Length: 1702, dtype: int64"
      ]
     },
     "execution_count": 112,
     "metadata": {},
     "output_type": "execute_result"
    }
   ],
   "source": [
    "df_selected['secondary_rd'].value_counts()"
   ]
  },
  {
   "cell_type": "code",
   "execution_count": 113,
   "metadata": {},
   "outputs": [
    {
     "data": {
      "text/plain": [
       "tb_latitude                  167\n",
       "tb_longitude                 167\n",
       "collision_date                 0\n",
       "collision_time                60\n",
       "accident_year                  0\n",
       "month                          0\n",
       "day_of_week                    9\n",
       "primary_rd                     0\n",
       "secondary_rd                 142\n",
       "distance                      79\n",
       "direction                      1\n",
       "weather_1                      0\n",
       "collision_severity             0\n",
       "type_of_collision              0\n",
       "mviw                           0\n",
       "ped_action                     0\n",
       "road_surface                   0\n",
       "road_cond_1                    0\n",
       "lighting                       0\n",
       "dph_col_grp_description        1\n",
       "control_device             20625\n",
       "number_killed                  3\n",
       "number_injured                 0\n",
       "party_at_fault              6066\n",
       "party1_type                   11\n",
       "party1_dir_of_travel          11\n",
       "party1_move_pre_acc           10\n",
       "party2_type                 4386\n",
       "party2_dir_of_travel        4384\n",
       "party2_move_pre_acc         4383\n",
       "dtype: int64"
      ]
     },
     "execution_count": 113,
     "metadata": {},
     "output_type": "execute_result"
    }
   ],
   "source": [
    "df_selected.isna().sum()"
   ]
  },
  {
   "cell_type": "code",
   "execution_count": 114,
   "metadata": {},
   "outputs": [
    {
     "data": {
      "text/plain": [
       "tb_latitude\n",
       "37.771886    88\n",
       "37.777300    70\n",
       "37.769815    70\n",
       "37.780791    66\n",
       "37.795737    64\n",
       "             ..\n",
       "37.760059     1\n",
       "37.769743     1\n",
       "37.769988     1\n",
       "37.746262     1\n",
       "37.731788     1\n",
       "Name: count, Length: 36257, dtype: int64"
      ]
     },
     "execution_count": 114,
     "metadata": {},
     "output_type": "execute_result"
    }
   ],
   "source": [
    "df_selected['tb_latitude'].value_counts()"
   ]
  },
  {
   "cell_type": "code",
   "execution_count": 115,
   "metadata": {},
   "outputs": [
    {
     "data": {
      "text/plain": [
       "37.765793636010976"
      ]
     },
     "execution_count": 115,
     "metadata": {},
     "output_type": "execute_result"
    }
   ],
   "source": [
    "tb_latitude_mean=df_selected['tb_latitude'].mean()\n",
    "tb_latitude_mean"
   ]
  },
  {
   "cell_type": "code",
   "execution_count": 116,
   "metadata": {},
   "outputs": [
    {
     "name": "stderr",
     "output_type": "stream",
     "text": [
      "C:\\Users\\lenovo\\AppData\\Local\\Temp\\ipykernel_12148\\2386062642.py:1: SettingWithCopyWarning: \n",
      "A value is trying to be set on a copy of a slice from a DataFrame.\n",
      "Try using .loc[row_indexer,col_indexer] = value instead\n",
      "\n",
      "See the caveats in the documentation: https://pandas.pydata.org/pandas-docs/stable/user_guide/indexing.html#returning-a-view-versus-a-copy\n",
      "  df_selected['tb_latitude']=df_selected['tb_latitude'].fillna(tb_latitude_mean)\n"
     ]
    }
   ],
   "source": [
    "df_selected['tb_latitude']=df_selected['tb_latitude'].fillna(tb_latitude_mean)"
   ]
  },
  {
   "cell_type": "code",
   "execution_count": 117,
   "metadata": {},
   "outputs": [
    {
     "data": {
      "text/plain": [
       "tb_latitude                    0\n",
       "tb_longitude                 167\n",
       "collision_date                 0\n",
       "collision_time                60\n",
       "accident_year                  0\n",
       "month                          0\n",
       "day_of_week                    9\n",
       "primary_rd                     0\n",
       "secondary_rd                 142\n",
       "distance                      79\n",
       "direction                      1\n",
       "weather_1                      0\n",
       "collision_severity             0\n",
       "type_of_collision              0\n",
       "mviw                           0\n",
       "ped_action                     0\n",
       "road_surface                   0\n",
       "road_cond_1                    0\n",
       "lighting                       0\n",
       "dph_col_grp_description        1\n",
       "control_device             20625\n",
       "number_killed                  3\n",
       "number_injured                 0\n",
       "party_at_fault              6066\n",
       "party1_type                   11\n",
       "party1_dir_of_travel          11\n",
       "party1_move_pre_acc           10\n",
       "party2_type                 4386\n",
       "party2_dir_of_travel        4384\n",
       "party2_move_pre_acc         4383\n",
       "dtype: int64"
      ]
     },
     "execution_count": 117,
     "metadata": {},
     "output_type": "execute_result"
    }
   ],
   "source": [
    "df_selected.isna().sum()"
   ]
  },
  {
   "cell_type": "code",
   "execution_count": 118,
   "metadata": {},
   "outputs": [
    {
     "data": {
      "text/plain": [
       "-122.42866830738393"
      ]
     },
     "execution_count": 118,
     "metadata": {},
     "output_type": "execute_result"
    }
   ],
   "source": [
    "tb_longtitude_mean=df_selected['tb_longitude'].mean()\n",
    "tb_longtitude_mean"
   ]
  },
  {
   "cell_type": "code",
   "execution_count": 119,
   "metadata": {},
   "outputs": [
    {
     "name": "stderr",
     "output_type": "stream",
     "text": [
      "C:\\Users\\lenovo\\AppData\\Local\\Temp\\ipykernel_12148\\892257539.py:1: SettingWithCopyWarning: \n",
      "A value is trying to be set on a copy of a slice from a DataFrame.\n",
      "Try using .loc[row_indexer,col_indexer] = value instead\n",
      "\n",
      "See the caveats in the documentation: https://pandas.pydata.org/pandas-docs/stable/user_guide/indexing.html#returning-a-view-versus-a-copy\n",
      "  df_selected['tb_longitude']=df_selected['tb_longitude'].fillna(tb_longtitude_mean)\n"
     ]
    }
   ],
   "source": [
    "df_selected['tb_longitude']=df_selected['tb_longitude'].fillna(tb_longtitude_mean)"
   ]
  },
  {
   "cell_type": "code",
   "execution_count": 120,
   "metadata": {},
   "outputs": [
    {
     "data": {
      "text/plain": [
       "collision_time\n",
       "18:00:00    289\n",
       "16:00:00    273\n",
       "14:00:00    272\n",
       "15:00:00    259\n",
       "14:30:00    244\n",
       "           ... \n",
       "04:38:00      2\n",
       "04:44:00      2\n",
       "04:51:00      2\n",
       "04:41:00      2\n",
       "03:49:00      1\n",
       "Name: count, Length: 1440, dtype: int64"
      ]
     },
     "execution_count": 120,
     "metadata": {},
     "output_type": "execute_result"
    }
   ],
   "source": [
    "df_selected['collision_time'].value_counts()\n"
   ]
  },
  {
   "cell_type": "code",
   "execution_count": 121,
   "metadata": {},
   "outputs": [
    {
     "name": "stderr",
     "output_type": "stream",
     "text": [
      "C:\\Users\\lenovo\\AppData\\Local\\Temp\\ipykernel_12148\\2826741115.py:1: FutureWarning: A value is trying to be set on a copy of a DataFrame or Series through chained assignment using an inplace method.\n",
      "The behavior will change in pandas 3.0. This inplace method will never work because the intermediate object on which we are setting values always behaves as a copy.\n",
      "\n",
      "For example, when doing 'df[col].method(value, inplace=True)', try using 'df.method({col: value}, inplace=True)' or df[col] = df[col].method(value) instead, to perform the operation inplace on the original object.\n",
      "\n",
      "\n",
      "  df_selected['collision_time'].fillna(method='ffill',inplace=True)\n",
      "C:\\Users\\lenovo\\AppData\\Local\\Temp\\ipykernel_12148\\2826741115.py:1: FutureWarning: Series.fillna with 'method' is deprecated and will raise in a future version. Use obj.ffill() or obj.bfill() instead.\n",
      "  df_selected['collision_time'].fillna(method='ffill',inplace=True)\n",
      "C:\\Users\\lenovo\\AppData\\Local\\Temp\\ipykernel_12148\\2826741115.py:1: SettingWithCopyWarning: \n",
      "A value is trying to be set on a copy of a slice from a DataFrame\n",
      "\n",
      "See the caveats in the documentation: https://pandas.pydata.org/pandas-docs/stable/user_guide/indexing.html#returning-a-view-versus-a-copy\n",
      "  df_selected['collision_time'].fillna(method='ffill',inplace=True)\n"
     ]
    }
   ],
   "source": [
    "df_selected['collision_time'].fillna(method='ffill',inplace=True)"
   ]
  },
  {
   "cell_type": "code",
   "execution_count": 122,
   "metadata": {},
   "outputs": [
    {
     "data": {
      "text/plain": [
       "day_of_week\n",
       "Friday       9589\n",
       "Wednesday    9207\n",
       "Thursday     9100\n",
       "Tuesday      9099\n",
       "Saturday     8410\n",
       "Monday       8295\n",
       "Sunday       7520\n",
       "Name: count, dtype: int64"
      ]
     },
     "execution_count": 122,
     "metadata": {},
     "output_type": "execute_result"
    }
   ],
   "source": [
    "df_selected['day_of_week'].value_counts()"
   ]
  },
  {
   "cell_type": "code",
   "execution_count": 123,
   "metadata": {},
   "outputs": [
    {
     "data": {
      "text/plain": [
       "0    Friday\n",
       "Name: day_of_week, dtype: object"
      ]
     },
     "execution_count": 123,
     "metadata": {},
     "output_type": "execute_result"
    }
   ],
   "source": [
    "day_of_week_mode=df_selected['day_of_week'].mode()\n",
    "day_of_week_mode"
   ]
  },
  {
   "cell_type": "code",
   "execution_count": 124,
   "metadata": {},
   "outputs": [
    {
     "name": "stderr",
     "output_type": "stream",
     "text": [
      "C:\\Users\\lenovo\\AppData\\Local\\Temp\\ipykernel_12148\\1658647565.py:1: SettingWithCopyWarning: \n",
      "A value is trying to be set on a copy of a slice from a DataFrame.\n",
      "Try using .loc[row_indexer,col_indexer] = value instead\n",
      "\n",
      "See the caveats in the documentation: https://pandas.pydata.org/pandas-docs/stable/user_guide/indexing.html#returning-a-view-versus-a-copy\n",
      "  df_selected['day_of_week']=df_selected['day_of_week'].fillna(day_of_week_mode[0])\n"
     ]
    }
   ],
   "source": [
    "df_selected['day_of_week']=df_selected['day_of_week'].fillna(day_of_week_mode[0])"
   ]
  },
  {
   "cell_type": "code",
   "execution_count": 125,
   "metadata": {},
   "outputs": [
    {
     "data": {
      "text/plain": [
       "control_device\n",
       "Functioning        39459\n",
       "Not Stated           911\n",
       "Not Functioning      189\n",
       "Obscured              45\n",
       "Name: count, dtype: int64"
      ]
     },
     "execution_count": 125,
     "metadata": {},
     "output_type": "execute_result"
    }
   ],
   "source": [
    "df_selected['control_device'].value_counts()"
   ]
  },
  {
   "cell_type": "code",
   "execution_count": 126,
   "metadata": {},
   "outputs": [
    {
     "data": {
      "text/plain": [
       "party_at_fault\n",
       "1.0    54488\n",
       "2.0      627\n",
       "3.0       41\n",
       "4.0        5\n",
       "5.0        2\n",
       "Name: count, dtype: int64"
      ]
     },
     "execution_count": 126,
     "metadata": {},
     "output_type": "execute_result"
    }
   ],
   "source": [
    "df_selected['party_at_fault'].value_counts()"
   ]
  },
  {
   "cell_type": "code",
   "execution_count": 127,
   "metadata": {},
   "outputs": [
    {
     "data": {
      "text/plain": [
       "1.0132697641535087"
      ]
     },
     "execution_count": 127,
     "metadata": {},
     "output_type": "execute_result"
    }
   ],
   "source": [
    "mean_at_fault=df_selected['party_at_fault'].mean()\n",
    "mean_at_fault"
   ]
  },
  {
   "cell_type": "code",
   "execution_count": 128,
   "metadata": {},
   "outputs": [
    {
     "data": {
      "text/plain": [
       "collision_severity\n",
       "Injury (Complaint of Pain)    38946\n",
       "Injury (Other Visible)        17406\n",
       "Injury (Severe)                4294\n",
       "Fatal                           582\n",
       "Medical                           1\n",
       "Name: count, dtype: int64"
      ]
     },
     "execution_count": 128,
     "metadata": {},
     "output_type": "execute_result"
    }
   ],
   "source": [
    "df_selected['collision_severity'].value_counts()"
   ]
  },
  {
   "cell_type": "code",
   "execution_count": 129,
   "metadata": {},
   "outputs": [
    {
     "name": "stderr",
     "output_type": "stream",
     "text": [
      "C:\\Users\\lenovo\\AppData\\Local\\Temp\\ipykernel_12148\\2126519801.py:1: SettingWithCopyWarning: \n",
      "A value is trying to be set on a copy of a slice from a DataFrame.\n",
      "Try using .loc[row_indexer,col_indexer] = value instead\n",
      "\n",
      "See the caveats in the documentation: https://pandas.pydata.org/pandas-docs/stable/user_guide/indexing.html#returning-a-view-versus-a-copy\n",
      "  df_selected['party_at_fault']=df_selected['party_at_fault'].fillna(mean_at_fault)\n"
     ]
    }
   ],
   "source": [
    "df_selected['party_at_fault']=df_selected['party_at_fault'].fillna(mean_at_fault)"
   ]
  },
  {
   "cell_type": "code",
   "execution_count": 130,
   "metadata": {},
   "outputs": [
    {
     "data": {
      "text/plain": [
       "number_killed\n",
       "0.0    60641\n",
       "1.0      573\n",
       "2.0       10\n",
       "3.0        1\n",
       "4.0        1\n",
       "Name: count, dtype: int64"
      ]
     },
     "execution_count": 130,
     "metadata": {},
     "output_type": "execute_result"
    }
   ],
   "source": [
    "df_selected['number_killed'].value_counts()"
   ]
  },
  {
   "cell_type": "code",
   "execution_count": 150,
   "metadata": {},
   "outputs": [
    {
     "data": {
      "text/plain": [
       "tb_latitude                    0\n",
       "tb_longitude                   0\n",
       "collision_date                 0\n",
       "collision_time                 0\n",
       "accident_year                  0\n",
       "month                          0\n",
       "day_of_week                    0\n",
       "primary_rd                     0\n",
       "secondary_rd                 142\n",
       "distance                      79\n",
       "direction                      1\n",
       "weather_1                      0\n",
       "collision_severity             0\n",
       "type_of_collision              0\n",
       "mviw                           0\n",
       "ped_action                     0\n",
       "road_surface                   0\n",
       "road_cond_1                    0\n",
       "lighting                       0\n",
       "dph_col_grp_description        1\n",
       "control_device             20625\n",
       "number_killed                  3\n",
       "number_injured                 0\n",
       "party_at_fault                 0\n",
       "party1_type                   11\n",
       "party1_dir_of_travel          11\n",
       "party1_move_pre_acc            0\n",
       "party2_type                    0\n",
       "party2_dir_of_travel           0\n",
       "party2_move_pre_acc         4383\n",
       "dtype: int64"
      ]
     },
     "execution_count": 150,
     "metadata": {},
     "output_type": "execute_result"
    }
   ],
   "source": [
    "df_selected.isna().sum()"
   ]
  },
  {
   "cell_type": "code",
   "execution_count": 132,
   "metadata": {},
   "outputs": [
    {
     "data": {
      "text/plain": [
       "party2_type\n",
       "Driver            37829\n",
       "Pedestrian        10163\n",
       "Bicyclist          5383\n",
       "Parked Vehicle     2748\n",
       "Other               701\n",
       "Not Stated           19\n",
       "Name: count, dtype: int64"
      ]
     },
     "execution_count": 132,
     "metadata": {},
     "output_type": "execute_result"
    }
   ],
   "source": [
    "df_selected['party2_type'].value_counts()"
   ]
  },
  {
   "cell_type": "code",
   "execution_count": 138,
   "metadata": {},
   "outputs": [
    {
     "data": {
      "text/plain": [
       "0    Driver\n",
       "Name: party2_type, dtype: object"
      ]
     },
     "execution_count": 138,
     "metadata": {},
     "output_type": "execute_result"
    }
   ],
   "source": [
    "party2_type_mode=df_selected['party2_type'].mode([0])\n",
    "party2_type_mode"
   ]
  },
  {
   "cell_type": "code",
   "execution_count": 139,
   "metadata": {},
   "outputs": [
    {
     "name": "stderr",
     "output_type": "stream",
     "text": [
      "C:\\Users\\lenovo\\AppData\\Local\\Temp\\ipykernel_12148\\1424557625.py:1: SettingWithCopyWarning: \n",
      "A value is trying to be set on a copy of a slice from a DataFrame.\n",
      "Try using .loc[row_indexer,col_indexer] = value instead\n",
      "\n",
      "See the caveats in the documentation: https://pandas.pydata.org/pandas-docs/stable/user_guide/indexing.html#returning-a-view-versus-a-copy\n",
      "  df_selected['party2_type']=df_selected['party2_type'].fillna(party2_type_mode[0])\n"
     ]
    }
   ],
   "source": [
    "df_selected['party2_type']=df_selected['party2_type'].fillna(party2_type_mode[0])"
   ]
  },
  {
   "cell_type": "code",
   "execution_count": 141,
   "metadata": {},
   "outputs": [
    {
     "data": {
      "text/plain": [
       "party2_dir_of_travel\n",
       "East          13848\n",
       "North         13634\n",
       "South         13381\n",
       "West          12909\n",
       "Not Stated     3073\n",
       "Name: count, dtype: int64"
      ]
     },
     "execution_count": 141,
     "metadata": {},
     "output_type": "execute_result"
    }
   ],
   "source": [
    "df_selected['party2_dir_of_travel'].value_counts()"
   ]
  },
  {
   "cell_type": "code",
   "execution_count": 143,
   "metadata": {},
   "outputs": [
    {
     "data": {
      "text/plain": [
       "0    East\n",
       "Name: party2_dir_of_travel, dtype: object"
      ]
     },
     "execution_count": 143,
     "metadata": {},
     "output_type": "execute_result"
    }
   ],
   "source": [
    "dir_mode=df_selected['party2_dir_of_travel'].mode()\n",
    "dir_mode"
   ]
  },
  {
   "cell_type": "code",
   "execution_count": 144,
   "metadata": {},
   "outputs": [
    {
     "name": "stderr",
     "output_type": "stream",
     "text": [
      "C:\\Users\\lenovo\\AppData\\Local\\Temp\\ipykernel_12148\\2194133743.py:1: SettingWithCopyWarning: \n",
      "A value is trying to be set on a copy of a slice from a DataFrame.\n",
      "Try using .loc[row_indexer,col_indexer] = value instead\n",
      "\n",
      "See the caveats in the documentation: https://pandas.pydata.org/pandas-docs/stable/user_guide/indexing.html#returning-a-view-versus-a-copy\n",
      "  df_selected['party2_dir_of_travel']=df_selected['party2_dir_of_travel'].fillna(dir_mode[0])\n"
     ]
    }
   ],
   "source": [
    "df_selected['party2_dir_of_travel']=df_selected['party2_dir_of_travel'].fillna(dir_mode[0])"
   ]
  },
  {
   "cell_type": "code",
   "execution_count": 146,
   "metadata": {},
   "outputs": [
    {
     "data": {
      "text/plain": [
       "party1_move_pre_acc\n",
       "Proceeding Straight                       31778\n",
       "Making Left Turn                          10685\n",
       "Making Right Turn                          3805\n",
       "Changing Lanes                             2093\n",
       "Other                                      1760\n",
       "Entering Traffic                           1619\n",
       "Not Stated                                 1349\n",
       "Backing                                    1305\n",
       "Stopped In Road                            1211\n",
       "Making U Turn                              1115\n",
       "Parked                                      746\n",
       "Slowing/Stopping                            662\n",
       "Passing Other Vehicle                       626\n",
       "Stopped                                     488\n",
       "Traveling Wrong Way                         455\n",
       "Ran Off Road                                396\n",
       "Parking Maneuver                            347\n",
       "Other Unsafe Turning                        336\n",
       "Crossed Into Opposing Lane                  201\n",
       "Merging                                     164\n",
       "Crossed Into Opposing Lane - Unplanned       76\n",
       "North                                         1\n",
       "Xing into Opposing Lane                       1\n",
       "Name: count, dtype: int64"
      ]
     },
     "execution_count": 146,
     "metadata": {},
     "output_type": "execute_result"
    }
   ],
   "source": [
    "df_selected['party1_move_pre_acc'].value_counts()"
   ]
  },
  {
   "cell_type": "code",
   "execution_count": 148,
   "metadata": {},
   "outputs": [
    {
     "data": {
      "text/plain": [
       "0    Proceeding Straight\n",
       "Name: party1_move_pre_acc, dtype: object"
      ]
     },
     "execution_count": 148,
     "metadata": {},
     "output_type": "execute_result"
    }
   ],
   "source": [
    "move_acc_mode=df['party1_move_pre_acc'].mode()\n",
    "move_acc_mode"
   ]
  },
  {
   "cell_type": "code",
   "execution_count": 149,
   "metadata": {},
   "outputs": [
    {
     "name": "stderr",
     "output_type": "stream",
     "text": [
      "C:\\Users\\lenovo\\AppData\\Local\\Temp\\ipykernel_12148\\2173352038.py:1: SettingWithCopyWarning: \n",
      "A value is trying to be set on a copy of a slice from a DataFrame.\n",
      "Try using .loc[row_indexer,col_indexer] = value instead\n",
      "\n",
      "See the caveats in the documentation: https://pandas.pydata.org/pandas-docs/stable/user_guide/indexing.html#returning-a-view-versus-a-copy\n",
      "  df_selected['party1_move_pre_acc']=df_selected['party1_move_pre_acc'].fillna(move_acc_mode[0])\n"
     ]
    }
   ],
   "source": [
    "df_selected['party1_move_pre_acc']=df_selected['party1_move_pre_acc'].fillna(move_acc_mode[0])"
   ]
  },
  {
   "cell_type": "code",
   "execution_count": 188,
   "metadata": {},
   "outputs": [
    {
     "data": {
      "text/plain": [
       "tb_latitude                    0\n",
       "tb_longitude                   0\n",
       "collision_date                 0\n",
       "collision_time                 0\n",
       "accident_year                  0\n",
       "month                          0\n",
       "day_of_week                    0\n",
       "primary_rd                     0\n",
       "secondary_rd                   0\n",
       "distance                       0\n",
       "direction                      0\n",
       "weather_1                      0\n",
       "collision_severity             0\n",
       "type_of_collision              0\n",
       "mviw                           0\n",
       "ped_action                     0\n",
       "road_surface                   0\n",
       "road_cond_1                    0\n",
       "lighting                       0\n",
       "dph_col_grp_description        0\n",
       "control_device             20625\n",
       "number_killed                  0\n",
       "number_injured                 0\n",
       "party_at_fault                 0\n",
       "party1_type                    0\n",
       "party1_dir_of_travel           0\n",
       "party1_move_pre_acc            0\n",
       "party2_type                    0\n",
       "party2_dir_of_travel           0\n",
       "party2_move_pre_acc            0\n",
       "dtype: int64"
      ]
     },
     "execution_count": 188,
     "metadata": {},
     "output_type": "execute_result"
    }
   ],
   "source": [
    "df_selected.isna().sum()"
   ]
  },
  {
   "cell_type": "code",
   "execution_count": 153,
   "metadata": {},
   "outputs": [
    {
     "data": {
      "text/plain": [
       "0    Proceeding Straight\n",
       "Name: party2_move_pre_acc, dtype: object"
      ]
     },
     "execution_count": 153,
     "metadata": {},
     "output_type": "execute_result"
    }
   ],
   "source": [
    "move_acc_2_mode=df['party2_move_pre_acc'].mode()\n",
    "move_acc_2_mode"
   ]
  },
  {
   "cell_type": "code",
   "execution_count": 154,
   "metadata": {},
   "outputs": [
    {
     "name": "stderr",
     "output_type": "stream",
     "text": [
      "C:\\Users\\lenovo\\AppData\\Local\\Temp\\ipykernel_12148\\4189641890.py:1: SettingWithCopyWarning: \n",
      "A value is trying to be set on a copy of a slice from a DataFrame.\n",
      "Try using .loc[row_indexer,col_indexer] = value instead\n",
      "\n",
      "See the caveats in the documentation: https://pandas.pydata.org/pandas-docs/stable/user_guide/indexing.html#returning-a-view-versus-a-copy\n",
      "  df_selected['party2_move_pre_acc']=df_selected['party2_move_pre_acc'].fillna(move_acc_mode[0])\n"
     ]
    }
   ],
   "source": [
    "df_selected['party2_move_pre_acc']=df_selected['party2_move_pre_acc'].fillna(move_acc_mode[0])"
   ]
  },
  {
   "cell_type": "code",
   "execution_count": 156,
   "metadata": {},
   "outputs": [
    {
     "data": {
      "text/plain": [
       "distance\n",
       "0.0       33891\n",
       "10.0        625\n",
       "5.0         574\n",
       "20.0        553\n",
       "6.0         536\n",
       "          ...  \n",
       "5280.0        1\n",
       "2216.0        1\n",
       "3280.0        1\n",
       "621.0         1\n",
       "714.0         1\n",
       "Name: count, Length: 870, dtype: int64"
      ]
     },
     "execution_count": 156,
     "metadata": {},
     "output_type": "execute_result"
    }
   ],
   "source": [
    "df_selected['distance'].value_counts()"
   ]
  },
  {
   "cell_type": "code",
   "execution_count": 158,
   "metadata": {},
   "outputs": [
    {
     "data": {
      "text/plain": [
       "55.96129190515127"
      ]
     },
     "execution_count": 158,
     "metadata": {},
     "output_type": "execute_result"
    }
   ],
   "source": [
    "distance_mean=df_selected['distance'].mean()\n",
    "distance_mean"
   ]
  },
  {
   "cell_type": "code",
   "execution_count": 159,
   "metadata": {},
   "outputs": [
    {
     "name": "stderr",
     "output_type": "stream",
     "text": [
      "C:\\Users\\lenovo\\AppData\\Local\\Temp\\ipykernel_12148\\210721448.py:1: SettingWithCopyWarning: \n",
      "A value is trying to be set on a copy of a slice from a DataFrame.\n",
      "Try using .loc[row_indexer,col_indexer] = value instead\n",
      "\n",
      "See the caveats in the documentation: https://pandas.pydata.org/pandas-docs/stable/user_guide/indexing.html#returning-a-view-versus-a-copy\n",
      "  df_selected['distance']=df_selected['distance'].fillna(distance_mean)\n"
     ]
    }
   ],
   "source": [
    "df_selected['distance']=df_selected['distance'].fillna(distance_mean)"
   ]
  },
  {
   "cell_type": "code",
   "execution_count": 161,
   "metadata": {},
   "outputs": [
    {
     "data": {
      "text/plain": [
       "secondary_rd\n",
       "MISSION ST     1007\n",
       "FOLSOM ST       692\n",
       "HARRISON ST     640\n",
       "MARKET ST       621\n",
       "16TH ST         612\n",
       "               ... \n",
       "MELBA AVE         1\n",
       "MONTCALM ST       1\n",
       "ECKER ST          1\n",
       "BAYWOOD CT        1\n",
       "KENNY ALY         1\n",
       "Name: count, Length: 1702, dtype: int64"
      ]
     },
     "execution_count": 161,
     "metadata": {},
     "output_type": "execute_result"
    }
   ],
   "source": [
    "df_selected['secondary_rd'].value_counts()"
   ]
  },
  {
   "cell_type": "code",
   "execution_count": 163,
   "metadata": {},
   "outputs": [
    {
     "data": {
      "text/plain": [
       "0    MISSION ST\n",
       "Name: secondary_rd, dtype: object"
      ]
     },
     "execution_count": 163,
     "metadata": {},
     "output_type": "execute_result"
    }
   ],
   "source": [
    "secondary_mode=df_selected['secondary_rd'].mode()\n",
    "secondary_mode\n"
   ]
  },
  {
   "cell_type": "code",
   "execution_count": 164,
   "metadata": {},
   "outputs": [
    {
     "name": "stderr",
     "output_type": "stream",
     "text": [
      "C:\\Users\\lenovo\\AppData\\Local\\Temp\\ipykernel_12148\\2550687336.py:1: SettingWithCopyWarning: \n",
      "A value is trying to be set on a copy of a slice from a DataFrame.\n",
      "Try using .loc[row_indexer,col_indexer] = value instead\n",
      "\n",
      "See the caveats in the documentation: https://pandas.pydata.org/pandas-docs/stable/user_guide/indexing.html#returning-a-view-versus-a-copy\n",
      "  df_selected['secondary_rd']=df_selected['secondary_rd'].fillna(secondary_mode[0])\n"
     ]
    }
   ],
   "source": [
    "df_selected['secondary_rd']=df_selected['secondary_rd'].fillna(secondary_mode[0])"
   ]
  },
  {
   "cell_type": "code",
   "execution_count": 166,
   "metadata": {},
   "outputs": [
    {
     "data": {
      "text/plain": [
       "direction\n",
       "Not Stated    33893\n",
       "South          7404\n",
       "West           6775\n",
       "East           6711\n",
       "North          6444\n",
       "North Nor         1\n",
       "Name: count, dtype: int64"
      ]
     },
     "execution_count": 166,
     "metadata": {},
     "output_type": "execute_result"
    }
   ],
   "source": [
    "df_selected['direction'].value_counts()"
   ]
  },
  {
   "cell_type": "code",
   "execution_count": 168,
   "metadata": {},
   "outputs": [
    {
     "data": {
      "text/plain": [
       "0    Not Stated\n",
       "Name: direction, dtype: object"
      ]
     },
     "execution_count": 168,
     "metadata": {},
     "output_type": "execute_result"
    }
   ],
   "source": [
    "direction_mode=df_selected['direction'].mode()\n",
    "direction_mode"
   ]
  },
  {
   "cell_type": "code",
   "execution_count": 169,
   "metadata": {},
   "outputs": [
    {
     "name": "stderr",
     "output_type": "stream",
     "text": [
      "C:\\Users\\lenovo\\AppData\\Local\\Temp\\ipykernel_12148\\4270947099.py:1: SettingWithCopyWarning: \n",
      "A value is trying to be set on a copy of a slice from a DataFrame.\n",
      "Try using .loc[row_indexer,col_indexer] = value instead\n",
      "\n",
      "See the caveats in the documentation: https://pandas.pydata.org/pandas-docs/stable/user_guide/indexing.html#returning-a-view-versus-a-copy\n",
      "  df_selected['direction']=df_selected['direction'].fillna(direction_mode[0])\n"
     ]
    }
   ],
   "source": [
    "df_selected['direction']=df_selected['direction'].fillna(direction_mode[0])"
   ]
  },
  {
   "cell_type": "code",
   "execution_count": 171,
   "metadata": {},
   "outputs": [
    {
     "data": {
      "text/plain": [
       "dph_col_grp_description\n",
       "Vehicle(s) Only Involved                    36096\n",
       "Vehicle-Pedestrian                          14789\n",
       "Vehicle-Bicycle                              8241\n",
       "Bicycle Only                                 1107\n",
       "Bicycle-Pedestrian                            481\n",
       "Bicycle-Parked Car                            445\n",
       "Pedestrian Only or Pedestrian-Parked Car       33\n",
       "Vehicle-Bicycle-Pedestrian                     18\n",
       "Unknown/Not Stated                             15\n",
       "Bicycle-Unknown/Not Stated                      3\n",
       "Name: count, dtype: int64"
      ]
     },
     "execution_count": 171,
     "metadata": {},
     "output_type": "execute_result"
    }
   ],
   "source": [
    "df_selected['dph_col_grp_description'].value_counts()"
   ]
  },
  {
   "cell_type": "code",
   "execution_count": 173,
   "metadata": {},
   "outputs": [
    {
     "data": {
      "text/plain": [
       "0    Vehicle(s) Only Involved\n",
       "Name: dph_col_grp_description, dtype: object"
      ]
     },
     "execution_count": 173,
     "metadata": {},
     "output_type": "execute_result"
    }
   ],
   "source": [
    "dph_mode=df_selected['dph_col_grp_description'].mode()\n",
    "dph_mode"
   ]
  },
  {
   "cell_type": "code",
   "execution_count": 174,
   "metadata": {},
   "outputs": [
    {
     "name": "stderr",
     "output_type": "stream",
     "text": [
      "C:\\Users\\lenovo\\AppData\\Local\\Temp\\ipykernel_12148\\1128037912.py:1: SettingWithCopyWarning: \n",
      "A value is trying to be set on a copy of a slice from a DataFrame.\n",
      "Try using .loc[row_indexer,col_indexer] = value instead\n",
      "\n",
      "See the caveats in the documentation: https://pandas.pydata.org/pandas-docs/stable/user_guide/indexing.html#returning-a-view-versus-a-copy\n",
      "  df_selected['dph_col_grp_description']=df_selected['dph_col_grp_description'].fillna(dph_mode[0])\n"
     ]
    }
   ],
   "source": [
    "df_selected['dph_col_grp_description']=df_selected['dph_col_grp_description'].fillna(dph_mode[0])"
   ]
  },
  {
   "cell_type": "code",
   "execution_count": 176,
   "metadata": {},
   "outputs": [
    {
     "data": {
      "text/plain": [
       "number_killed\n",
       "0.0    60641\n",
       "1.0      573\n",
       "2.0       10\n",
       "3.0        1\n",
       "4.0        1\n",
       "Name: count, dtype: int64"
      ]
     },
     "execution_count": 176,
     "metadata": {},
     "output_type": "execute_result"
    }
   ],
   "source": [
    "df_selected['number_killed'].value_counts()"
   ]
  },
  {
   "cell_type": "code",
   "execution_count": 178,
   "metadata": {},
   "outputs": [
    {
     "data": {
      "text/plain": [
       "0.009799758272629275"
      ]
     },
     "execution_count": 178,
     "metadata": {},
     "output_type": "execute_result"
    }
   ],
   "source": [
    "killed_mean=df_selected['number_killed'].mean()\n",
    "killed_mean"
   ]
  },
  {
   "cell_type": "code",
   "execution_count": 179,
   "metadata": {},
   "outputs": [
    {
     "name": "stderr",
     "output_type": "stream",
     "text": [
      "C:\\Users\\lenovo\\AppData\\Local\\Temp\\ipykernel_12148\\34081918.py:1: SettingWithCopyWarning: \n",
      "A value is trying to be set on a copy of a slice from a DataFrame.\n",
      "Try using .loc[row_indexer,col_indexer] = value instead\n",
      "\n",
      "See the caveats in the documentation: https://pandas.pydata.org/pandas-docs/stable/user_guide/indexing.html#returning-a-view-versus-a-copy\n",
      "  df_selected['number_killed']=df_selected['number_killed'].fillna(killed_mean)\n"
     ]
    }
   ],
   "source": [
    "df_selected['number_killed']=df_selected['number_killed'].fillna(killed_mean)"
   ]
  },
  {
   "cell_type": "code",
   "execution_count": 181,
   "metadata": {},
   "outputs": [
    {
     "data": {
      "text/plain": [
       "party1_type\n",
       "Driver            50086\n",
       "Bicyclist          4973\n",
       "Pedestrian         4816\n",
       "Other               948\n",
       "Parked Vehicle      367\n",
       "Not Stated           27\n",
       "Bicycle               1\n",
       "Name: count, dtype: int64"
      ]
     },
     "execution_count": 181,
     "metadata": {},
     "output_type": "execute_result"
    }
   ],
   "source": [
    "df_selected['party1_type'].value_counts()"
   ]
  },
  {
   "cell_type": "code",
   "execution_count": 182,
   "metadata": {},
   "outputs": [
    {
     "data": {
      "text/plain": [
       "0    Driver\n",
       "Name: party1_type, dtype: object"
      ]
     },
     "execution_count": 182,
     "metadata": {},
     "output_type": "execute_result"
    }
   ],
   "source": [
    "type_mode=df_selected['party1_type'].mode()\n",
    "type_mode"
   ]
  },
  {
   "cell_type": "code",
   "execution_count": 183,
   "metadata": {},
   "outputs": [
    {
     "name": "stderr",
     "output_type": "stream",
     "text": [
      "C:\\Users\\lenovo\\AppData\\Local\\Temp\\ipykernel_12148\\2222748846.py:1: SettingWithCopyWarning: \n",
      "A value is trying to be set on a copy of a slice from a DataFrame.\n",
      "Try using .loc[row_indexer,col_indexer] = value instead\n",
      "\n",
      "See the caveats in the documentation: https://pandas.pydata.org/pandas-docs/stable/user_guide/indexing.html#returning-a-view-versus-a-copy\n",
      "  df_selected['party1_type']=df_selected['party1_type'].fillna(type_mode[0])\n"
     ]
    }
   ],
   "source": [
    "df_selected['party1_type']=df_selected['party1_type'].fillna(type_mode[0])"
   ]
  },
  {
   "cell_type": "code",
   "execution_count": 184,
   "metadata": {},
   "outputs": [
    {
     "data": {
      "text/plain": [
       "party1_dir_of_travel\n",
       "South         15350\n",
       "East          15009\n",
       "North         14910\n",
       "West          14146\n",
       "Not Stated     1803\n",
       "Name: count, dtype: int64"
      ]
     },
     "execution_count": 184,
     "metadata": {},
     "output_type": "execute_result"
    }
   ],
   "source": [
    "df_selected['party1_dir_of_travel'].value_counts()"
   ]
  },
  {
   "cell_type": "code",
   "execution_count": 186,
   "metadata": {},
   "outputs": [
    {
     "data": {
      "text/plain": [
       "0    South\n",
       "Name: party1_dir_of_travel, dtype: object"
      ]
     },
     "execution_count": 186,
     "metadata": {},
     "output_type": "execute_result"
    }
   ],
   "source": [
    "travel_1=df_selected['party1_dir_of_travel'].mode()\n",
    "travel_1"
   ]
  },
  {
   "cell_type": "code",
   "execution_count": 187,
   "metadata": {},
   "outputs": [
    {
     "name": "stderr",
     "output_type": "stream",
     "text": [
      "C:\\Users\\lenovo\\AppData\\Local\\Temp\\ipykernel_12148\\305964846.py:1: SettingWithCopyWarning: \n",
      "A value is trying to be set on a copy of a slice from a DataFrame.\n",
      "Try using .loc[row_indexer,col_indexer] = value instead\n",
      "\n",
      "See the caveats in the documentation: https://pandas.pydata.org/pandas-docs/stable/user_guide/indexing.html#returning-a-view-versus-a-copy\n",
      "  df_selected['party1_dir_of_travel']=df_selected['party1_dir_of_travel'].fillna(travel_1[0])\n"
     ]
    }
   ],
   "source": [
    "df_selected['party1_dir_of_travel']=df_selected['party1_dir_of_travel'].fillna(travel_1[0])"
   ]
  },
  {
   "cell_type": "code",
   "execution_count": 191,
   "metadata": {},
   "outputs": [
    {
     "data": {
      "text/html": [
       "<div>\n",
       "<style scoped>\n",
       "    .dataframe tbody tr th:only-of-type {\n",
       "        vertical-align: middle;\n",
       "    }\n",
       "\n",
       "    .dataframe tbody tr th {\n",
       "        vertical-align: top;\n",
       "    }\n",
       "\n",
       "    .dataframe thead th {\n",
       "        text-align: right;\n",
       "    }\n",
       "</style>\n",
       "<table border=\"1\" class=\"dataframe\">\n",
       "  <thead>\n",
       "    <tr style=\"text-align: right;\">\n",
       "      <th></th>\n",
       "      <th>tb_latitude</th>\n",
       "      <th>tb_longitude</th>\n",
       "      <th>collision_date</th>\n",
       "      <th>collision_time</th>\n",
       "      <th>accident_year</th>\n",
       "      <th>month</th>\n",
       "      <th>day_of_week</th>\n",
       "      <th>primary_rd</th>\n",
       "      <th>secondary_rd</th>\n",
       "      <th>distance</th>\n",
       "      <th>...</th>\n",
       "      <th>dph_col_grp_description</th>\n",
       "      <th>number_killed</th>\n",
       "      <th>number_injured</th>\n",
       "      <th>party_at_fault</th>\n",
       "      <th>party1_type</th>\n",
       "      <th>party1_dir_of_travel</th>\n",
       "      <th>party1_move_pre_acc</th>\n",
       "      <th>party2_type</th>\n",
       "      <th>party2_dir_of_travel</th>\n",
       "      <th>party2_move_pre_acc</th>\n",
       "    </tr>\n",
       "  </thead>\n",
       "  <tbody>\n",
       "    <tr>\n",
       "      <th>0</th>\n",
       "      <td>37.734019</td>\n",
       "      <td>-122.388046</td>\n",
       "      <td>2023 January 18</td>\n",
       "      <td>17:53:00</td>\n",
       "      <td>2023</td>\n",
       "      <td>January</td>\n",
       "      <td>Wednesday</td>\n",
       "      <td>LANE ST</td>\n",
       "      <td>NEWCOMB AVE</td>\n",
       "      <td>68.0</td>\n",
       "      <td>...</td>\n",
       "      <td>Vehicle(s) Only Involved</td>\n",
       "      <td>0.0</td>\n",
       "      <td>1</td>\n",
       "      <td>1.01327</td>\n",
       "      <td>Driver</td>\n",
       "      <td>West</td>\n",
       "      <td>Proceeding Straight</td>\n",
       "      <td>Driver</td>\n",
       "      <td>East</td>\n",
       "      <td>Proceeding Straight</td>\n",
       "    </tr>\n",
       "    <tr>\n",
       "      <th>1</th>\n",
       "      <td>37.762886</td>\n",
       "      <td>-122.428578</td>\n",
       "      <td>2023 February 15</td>\n",
       "      <td>09:30:00</td>\n",
       "      <td>2023</td>\n",
       "      <td>February</td>\n",
       "      <td>Wednesday</td>\n",
       "      <td>17TH ST</td>\n",
       "      <td>CHURCH ST</td>\n",
       "      <td>20.0</td>\n",
       "      <td>...</td>\n",
       "      <td>Bicycle Only</td>\n",
       "      <td>0.0</td>\n",
       "      <td>1</td>\n",
       "      <td>1.01327</td>\n",
       "      <td>Bicyclist</td>\n",
       "      <td>East</td>\n",
       "      <td>Proceeding Straight</td>\n",
       "      <td>Driver</td>\n",
       "      <td>East</td>\n",
       "      <td>Proceeding Straight</td>\n",
       "    </tr>\n",
       "    <tr>\n",
       "      <th>2</th>\n",
       "      <td>37.768636</td>\n",
       "      <td>-122.454858</td>\n",
       "      <td>2007 November 11</td>\n",
       "      <td>15:50:00</td>\n",
       "      <td>2007</td>\n",
       "      <td>November</td>\n",
       "      <td>Sunday</td>\n",
       "      <td>KEZAR DR</td>\n",
       "      <td>WALLER ST</td>\n",
       "      <td>210.0</td>\n",
       "      <td>...</td>\n",
       "      <td>Vehicle(s) Only Involved</td>\n",
       "      <td>0.0</td>\n",
       "      <td>2</td>\n",
       "      <td>1.01327</td>\n",
       "      <td>Driver</td>\n",
       "      <td>North</td>\n",
       "      <td>Proceeding Straight</td>\n",
       "      <td>Driver</td>\n",
       "      <td>East</td>\n",
       "      <td>Proceeding Straight</td>\n",
       "    </tr>\n",
       "    <tr>\n",
       "      <th>3</th>\n",
       "      <td>37.780363</td>\n",
       "      <td>-122.399080</td>\n",
       "      <td>2019 July 19</td>\n",
       "      <td>13:50:00</td>\n",
       "      <td>2019</td>\n",
       "      <td>July</td>\n",
       "      <td>Friday</td>\n",
       "      <td>PERRY ST</td>\n",
       "      <td>04TH ST</td>\n",
       "      <td>0.0</td>\n",
       "      <td>...</td>\n",
       "      <td>Vehicle-Bicycle</td>\n",
       "      <td>0.0</td>\n",
       "      <td>1</td>\n",
       "      <td>1.01327</td>\n",
       "      <td>Bicyclist</td>\n",
       "      <td>East</td>\n",
       "      <td>Making Left Turn</td>\n",
       "      <td>Driver</td>\n",
       "      <td>East</td>\n",
       "      <td>Making Left Turn</td>\n",
       "    </tr>\n",
       "    <tr>\n",
       "      <th>4</th>\n",
       "      <td>37.804146</td>\n",
       "      <td>-122.425110</td>\n",
       "      <td>2017 May 11</td>\n",
       "      <td>07:53:00</td>\n",
       "      <td>2017</td>\n",
       "      <td>May</td>\n",
       "      <td>Thursday</td>\n",
       "      <td>BAY ST</td>\n",
       "      <td>VAN NESS AVE</td>\n",
       "      <td>0.0</td>\n",
       "      <td>...</td>\n",
       "      <td>Vehicle-Pedestrian</td>\n",
       "      <td>0.0</td>\n",
       "      <td>1</td>\n",
       "      <td>1.01327</td>\n",
       "      <td>Driver</td>\n",
       "      <td>North</td>\n",
       "      <td>Not Stated</td>\n",
       "      <td>Pedestrian</td>\n",
       "      <td>West</td>\n",
       "      <td>Not Stated</td>\n",
       "    </tr>\n",
       "  </tbody>\n",
       "</table>\n",
       "<p>5 rows × 29 columns</p>\n",
       "</div>"
      ],
      "text/plain": [
       "   tb_latitude  tb_longitude    collision_date collision_time  accident_year  \\\n",
       "0    37.734019   -122.388046   2023 January 18       17:53:00           2023   \n",
       "1    37.762886   -122.428578  2023 February 15       09:30:00           2023   \n",
       "2    37.768636   -122.454858  2007 November 11       15:50:00           2007   \n",
       "3    37.780363   -122.399080      2019 July 19       13:50:00           2019   \n",
       "4    37.804146   -122.425110       2017 May 11       07:53:00           2017   \n",
       "\n",
       "      month day_of_week primary_rd  secondary_rd  distance  ...  \\\n",
       "0   January   Wednesday    LANE ST   NEWCOMB AVE      68.0  ...   \n",
       "1  February   Wednesday    17TH ST     CHURCH ST      20.0  ...   \n",
       "2  November      Sunday   KEZAR DR     WALLER ST     210.0  ...   \n",
       "3      July      Friday   PERRY ST       04TH ST       0.0  ...   \n",
       "4       May    Thursday     BAY ST  VAN NESS AVE       0.0  ...   \n",
       "\n",
       "    dph_col_grp_description number_killed number_injured party_at_fault  \\\n",
       "0  Vehicle(s) Only Involved           0.0              1        1.01327   \n",
       "1              Bicycle Only           0.0              1        1.01327   \n",
       "2  Vehicle(s) Only Involved           0.0              2        1.01327   \n",
       "3           Vehicle-Bicycle           0.0              1        1.01327   \n",
       "4        Vehicle-Pedestrian           0.0              1        1.01327   \n",
       "\n",
       "  party1_type party1_dir_of_travel  party1_move_pre_acc party2_type  \\\n",
       "0      Driver                 West  Proceeding Straight      Driver   \n",
       "1   Bicyclist                 East  Proceeding Straight      Driver   \n",
       "2      Driver                North  Proceeding Straight      Driver   \n",
       "3   Bicyclist                 East     Making Left Turn      Driver   \n",
       "4      Driver                North           Not Stated  Pedestrian   \n",
       "\n",
       "  party2_dir_of_travel  party2_move_pre_acc  \n",
       "0                 East  Proceeding Straight  \n",
       "1                 East  Proceeding Straight  \n",
       "2                 East  Proceeding Straight  \n",
       "3                 East     Making Left Turn  \n",
       "4                 West           Not Stated  \n",
       "\n",
       "[5 rows x 29 columns]"
      ]
     },
     "execution_count": 191,
     "metadata": {},
     "output_type": "execute_result"
    }
   ],
   "source": [
    "df_selected=df_selected.drop(columns=\"control_device\",axis=1)\n",
    "df_selected.head()"
   ]
  },
  {
   "cell_type": "code",
   "execution_count": null,
   "metadata": {},
   "outputs": [
    {
     "name": "stderr",
     "output_type": "stream",
     "text": [
      "C:\\Users\\lenovo\\AppData\\Local\\Temp\\ipykernel_12148\\1300064767.py:3: FutureWarning: \n",
      "\n",
      "Passing `palette` without assigning `hue` is deprecated and will be removed in v0.14.0. Assign the `x` variable to `hue` and set `legend=False` for the same effect.\n",
      "\n",
      "  ax = sns.countplot(x='collision_severity', data=df_selected, palette='coolwarm')\n"
     ]
    },
    {
     "data": {
      "image/png": "[encoded data removed]",
      "text/plain": [
       "<Figure size 1200x600 with 1 Axes>"
      ]
     },
     "metadata": {},
     "output_type": "display_data"
    }
   ],
   "source": [
    "\n",
    "plt.figure(figsize=(12, 6))\n",
    "ax = sns.countplot(x='collision_severity', data=df_selected, palette='coolwarm')\n",
    "\n",
    "# Adding annotations\n",
    "for p in ax.patches:\n",
    "    ax.annotate(f'{int(p.get_height())}', \n",
    "                (p.get_x() + p.get_width() / 2., p.get_height()), \n",
    "                ha='center', va='center', \n",
    "                xytext=(0, 10), \n",
    "                textcoords='offset points')\n",
    "\n",
    "plt.title('Distribution of Collision Severity', fontsize=18)\n",
    "plt.xlabel('Collision Severity', fontsize=14)\n",
    "plt.ylabel('Count', fontsize=14)\n",
    "plt.xticks(rotation=45)  # Rotate x-axis labels if needed\n",
    "plt.show()"
   ]
  },
  {
   "cell_type": "code",
   "execution_count": null,
   "metadata": {},
   "outputs": [],
   "source": []
  }
 ],
 "metadata": {
  "kernelspec": {
   "display_name": "Python 3",
   "language": "python",
   "name": "python3"
  },
  "language_info": {
   "codemirror_mode": {
    "name": "ipython",
    "version": 3
   },
   "file_extension": ".py",
   "mimetype": "text/x-python",
   "name": "python",
   "nbconvert_exporter": "python",
   "pygments_lexer": "ipython3",
   "version": "3.10.5"
  }
 },
 "nbformat": 4,
 "nbformat_minor": 2
}
