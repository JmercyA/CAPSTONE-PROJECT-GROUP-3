{
 "cells": [
  {
   "cell_type": "markdown",
   "metadata": {},
   "source": [
    "# **Predicting Traffic Incident Severity Based on Weather and Time Factors**\n"
   ]
  },
  {
   "cell_type": "markdown",
   "metadata": {},
   "source": [
    "## 1.0 **Description**\n",
    "\n",
    "The goal of this project is to develop a predictive model that can estimate the severity of traffic incidents based on various factors such as weather conditions (rain, snow, fog, etc.) and time-related elements (time of day, day of the week, and holidays). The model will utilize historical traffic incident data from San Fransisco open data source, weather patterns, and temporal factors to predict the likelihood of incidents leading to severe outcomes, such as injuries or fatalities, rather than minor disruptions. This will help transportation authorities, emergency services, and city planners make data-driven decisions, optimize response strategies, and improve public safety."
   ]
  },
  {
   "cell_type": "markdown",
   "metadata": {},
   "source": [
    "## 1.1 Business Understanding\n",
    "\n",
    "aiming to reduce the devastating consequences of road traffic accidents,this project employs machine learning to predict accident severity. The model, trained on data including vehicle type,casualty details,the type of the road, the location, the weather at the time of the accident just to mention a few, that can be used to inform proactive strategies aimed at reducing fatalities and injuries.\n",
    "\n",
    "Traffic incidents contribute significantly to congestion, injuries, fatalities, and economic losses. Understanding the factors that influence the severity of these incidents can help reduce the overall impact on society. By leveraging data science to predict the severity of traffic incidents based on weather and time related variables, transportation agencies can:\n",
    "\n",
    "- ```Improve Safety```: Predicting severe incidents allows for timely interventions, such as dispatching emergency services more effectively.\n",
    "\n",
    "\n",
    "- ```Optimize Resource Allocation```: Traffic management and emergency responders can allocate resources in advance based on predicted severity, ensuring quicker response times in critical situations.\n",
    "\n",
    "- ```Enhance Traffic Management```: Better understanding of incident severity can guide traffic signal optimization, road closures, and detour planning to minimize disruptions.\n",
    "\n",
    "- ```Promote Public Awareness```: Through predictive insights, authorities can inform drivers about weather-related risks and encourage safer driving practices during high-risk periods.\n",
    "\n",
    "This project aims to create a solution that not only reduces the severity of traffic incidents but also improves overall traffic flow and safety."
   ]
  },
  {
   "cell_type": "markdown",
   "metadata": {},
   "source": [
    "## 1.2 Objectives\n",
    "\n",
    "1. Data collection:  The data was sourced from https://data.sfgov.org/Public-Safety/Traffic-Crashes-Resulting-in-Injury/ubvf-ztfx/about_data\n",
    "\n",
    "2. Data cleaning\n",
    "\n",
    "3. Exploratory Data analysis\n",
    "\n",
    "4. Feature Engineering\n",
    "\n",
    "5. Model development\n",
    "\n",
    "6. Model evaluation\n",
    "\n",
    "7. Model deployment"
   ]
  },
  {
   "cell_type": "markdown",
   "metadata": {},
   "source": [
    "## 1.3 Shareholders\n",
    "\n",
    "- ```Transportation Authorities```: Local and regional traffic management departments who would benefit from predictive tools to optimize response times and reduce traffic disruptions.\n",
    "\n",
    "- ```Emergency Services```: Police, fire departments, and medical teams who could use severity predictions to prepare resources and prioritize high-risk incidents.\n",
    "- ```City Planners and Government Agencies```: Municipal decision makers focused on infrastructure planning and public safety initiatives could use these insights to improve roadways and safety measures.\n",
    "\n",
    "- ```Public and Drivers```: The general public will benefit indirectly through increased safety, fewer severe accidents, and enhanced traffic management.\n",
    "\n",
    "- ```Insurance Companies```: Insurers could use severity predictions to optimize their pricing models, assess risk in real-time, and process claims more efficiently.\n",
    "- ```Weather Services```: Weather data providers may collaborate for deeper insights and provide better real-time forecasts for integrating into the system.\n",
    "\n",
    "- ```Technology Providers```: Companies providing machine learning infrastructure, cloud services, and data collection tools will play a role in the development and deployment of the model."
   ]
  },
  {
   "cell_type": "markdown",
   "metadata": {},
   "source": [
    "## **2.0 Data Loading and Data Understanding**"
   ]
  },
  {
   "cell_type": "code",
   "execution_count": 1,
   "metadata": {},
   "outputs": [],
   "source": [
    "# importing the necessary libraries\n",
    "import pandas as pd\n",
    "import numpy as np\n",
    "import warnings\n",
    "import matplotlib.pyplot as plt\n",
    "import seaborn as sns\n",
    "from mpl_toolkits.mplot3d import Axes3D\n",
    "from sklearn.impute import SimpleImputer\n",
    "from sklearn.model_selection import train_test_split, GridSearchCV\n",
    "from sklearn.preprocessing import MinMaxScaler, OneHotEncoder, LabelEncoder\n",
    "from sklearn.compose import ColumnTransformer\n",
    "from sklearn.pipeline import Pipeline\n",
    "from sklearn.ensemble import RandomForestClassifier\n",
    "from sklearn.svm import SVC\n",
    "from sklearn.linear_model import LogisticRegression\n",
    "from sklearn.neighbors import KNeighborsClassifier\n",
    "from sklearn.metrics import classification_report, confusion_matrix\n",
    "from xgboost import XGBClassifier\n",
    "from imblearn.over_sampling import SMOTE\n",
    "from imblearn.pipeline import Pipeline as imbaPipeline\n",
    "\n",
    "\n",
    "# Suppress all warnings\n",
    "warnings.filterwarnings('ignore')"
   ]
  },
  {
   "cell_type": "code",
   "execution_count": 2,
   "metadata": {},
   "outputs": [
    {
     "data": {
      "text/html": [
       "<div>\n",
       "<style scoped>\n",
       "    .dataframe tbody tr th:only-of-type {\n",
       "        vertical-align: middle;\n",
       "    }\n",
       "\n",
       "    .dataframe tbody tr th {\n",
       "        vertical-align: top;\n",
       "    }\n",
       "\n",
       "    .dataframe thead th {\n",
       "        text-align: right;\n",
       "    }\n",
       "</style>\n",
       "<table border=\"1\" class=\"dataframe\">\n",
       "  <thead>\n",
       "    <tr style=\"text-align: right;\">\n",
       "      <th></th>\n",
       "      <th>unique_id</th>\n",
       "      <th>cnn_intrsctn_fkey</th>\n",
       "      <th>cnn_sgmt_fkey</th>\n",
       "      <th>case_id_pkey</th>\n",
       "      <th>tb_latitude</th>\n",
       "      <th>tb_longitude</th>\n",
       "      <th>geocode_source</th>\n",
       "      <th>geocode_location</th>\n",
       "      <th>collision_datetime</th>\n",
       "      <th>collision_date</th>\n",
       "      <th>...</th>\n",
       "      <th>data_updated_at</th>\n",
       "      <th>data_loaded_at</th>\n",
       "      <th>analysis_neighborhood</th>\n",
       "      <th>supervisor_district</th>\n",
       "      <th>police_district</th>\n",
       "      <th>Current Police Districts</th>\n",
       "      <th>Current Supervisor Districts</th>\n",
       "      <th>Analysis Neighborhoods</th>\n",
       "      <th>Neighborhoods</th>\n",
       "      <th>SF Find Neighborhoods</th>\n",
       "    </tr>\n",
       "  </thead>\n",
       "  <tbody>\n",
       "    <tr>\n",
       "      <th>0</th>\n",
       "      <td>82049</td>\n",
       "      <td>20208000.0</td>\n",
       "      <td>8087000.0</td>\n",
       "      <td>230041955</td>\n",
       "      <td>37.734019</td>\n",
       "      <td>-122.388046</td>\n",
       "      <td>SFPD-INTERIM DB</td>\n",
       "      <td>CITY STREET</td>\n",
       "      <td>01/18/2023 05:53:00 PM</td>\n",
       "      <td>2023 January 18</td>\n",
       "      <td>...</td>\n",
       "      <td>01/21/2025 12:00:00 AM</td>\n",
       "      <td>02/10/2025 01:42:44 PM</td>\n",
       "      <td>Bayview Hunters Point</td>\n",
       "      <td>10.0</td>\n",
       "      <td>BAYVIEW</td>\n",
       "      <td>2.0</td>\n",
       "      <td>9.0</td>\n",
       "      <td>1.0</td>\n",
       "      <td>86.0</td>\n",
       "      <td>86.0</td>\n",
       "    </tr>\n",
       "    <tr>\n",
       "      <th>1</th>\n",
       "      <td>82166</td>\n",
       "      <td>25723000.0</td>\n",
       "      <td>805000.0</td>\n",
       "      <td>230111655</td>\n",
       "      <td>37.762886</td>\n",
       "      <td>-122.428578</td>\n",
       "      <td>SFPD-INTERIM DB</td>\n",
       "      <td>CITY STREET</td>\n",
       "      <td>02/15/2023 09:30:00 AM</td>\n",
       "      <td>2023 February 15</td>\n",
       "      <td>...</td>\n",
       "      <td>01/21/2025 12:00:00 AM</td>\n",
       "      <td>02/10/2025 01:42:44 PM</td>\n",
       "      <td>Castro/Upper Market</td>\n",
       "      <td>8.0</td>\n",
       "      <td>MISSION</td>\n",
       "      <td>3.0</td>\n",
       "      <td>5.0</td>\n",
       "      <td>5.0</td>\n",
       "      <td>37.0</td>\n",
       "      <td>37.0</td>\n",
       "    </tr>\n",
       "    <tr>\n",
       "      <th>2</th>\n",
       "      <td>41951</td>\n",
       "      <td>32862000.0</td>\n",
       "      <td>7826101.0</td>\n",
       "      <td>3491922</td>\n",
       "      <td>37.768636</td>\n",
       "      <td>-122.454858</td>\n",
       "      <td>SFPD-CROSSROADS</td>\n",
       "      <td>CITY STREET</td>\n",
       "      <td>11/11/2007 03:50:00 PM</td>\n",
       "      <td>2007 November 11</td>\n",
       "      <td>...</td>\n",
       "      <td>04/26/2023 12:00:00 AM</td>\n",
       "      <td>02/10/2025 01:42:44 PM</td>\n",
       "      <td>Golden Gate Park</td>\n",
       "      <td>5.0</td>\n",
       "      <td>PARK</td>\n",
       "      <td>7.0</td>\n",
       "      <td>11.0</td>\n",
       "      <td>12.0</td>\n",
       "      <td>9.0</td>\n",
       "      <td>9.0</td>\n",
       "    </tr>\n",
       "    <tr>\n",
       "      <th>3</th>\n",
       "      <td>48546</td>\n",
       "      <td>23904000.0</td>\n",
       "      <td>NaN</td>\n",
       "      <td>190523857</td>\n",
       "      <td>37.780363</td>\n",
       "      <td>-122.399080</td>\n",
       "      <td>SFPD-INTERIM DB</td>\n",
       "      <td>CITY STREET</td>\n",
       "      <td>07/19/2019 01:50:00 PM</td>\n",
       "      <td>2019 July 19</td>\n",
       "      <td>...</td>\n",
       "      <td>04/26/2023 12:00:00 AM</td>\n",
       "      <td>02/10/2025 01:42:44 PM</td>\n",
       "      <td>South of Market</td>\n",
       "      <td>6.0</td>\n",
       "      <td>SOUTHERN</td>\n",
       "      <td>1.0</td>\n",
       "      <td>10.0</td>\n",
       "      <td>34.0</td>\n",
       "      <td>32.0</td>\n",
       "      <td>32.0</td>\n",
       "    </tr>\n",
       "    <tr>\n",
       "      <th>4</th>\n",
       "      <td>35692</td>\n",
       "      <td>26705000.0</td>\n",
       "      <td>NaN</td>\n",
       "      <td>170390767</td>\n",
       "      <td>37.804146</td>\n",
       "      <td>-122.425110</td>\n",
       "      <td>SFPD-CROSSROADS</td>\n",
       "      <td>CITY STREET</td>\n",
       "      <td>05/11/2017 07:53:00 AM</td>\n",
       "      <td>2017 May 11</td>\n",
       "      <td>...</td>\n",
       "      <td>04/26/2023 12:00:00 AM</td>\n",
       "      <td>02/10/2025 01:42:44 PM</td>\n",
       "      <td>Russian Hill</td>\n",
       "      <td>2.0</td>\n",
       "      <td>CENTRAL</td>\n",
       "      <td>6.0</td>\n",
       "      <td>6.0</td>\n",
       "      <td>32.0</td>\n",
       "      <td>98.0</td>\n",
       "      <td>98.0</td>\n",
       "    </tr>\n",
       "  </tbody>\n",
       "</table>\n",
       "<p>5 rows × 63 columns</p>\n",
       "</div>"
      ],
      "text/plain": [
       "   unique_id  cnn_intrsctn_fkey  cnn_sgmt_fkey case_id_pkey  tb_latitude  \\\n",
       "0      82049         20208000.0      8087000.0    230041955    37.734019   \n",
       "1      82166         25723000.0       805000.0    230111655    37.762886   \n",
       "2      41951         32862000.0      7826101.0      3491922    37.768636   \n",
       "3      48546         23904000.0            NaN    190523857    37.780363   \n",
       "4      35692         26705000.0            NaN    170390767    37.804146   \n",
       "\n",
       "   tb_longitude   geocode_source geocode_location      collision_datetime  \\\n",
       "0   -122.388046  SFPD-INTERIM DB      CITY STREET  01/18/2023 05:53:00 PM   \n",
       "1   -122.428578  SFPD-INTERIM DB      CITY STREET  02/15/2023 09:30:00 AM   \n",
       "2   -122.454858  SFPD-CROSSROADS      CITY STREET  11/11/2007 03:50:00 PM   \n",
       "3   -122.399080  SFPD-INTERIM DB      CITY STREET  07/19/2019 01:50:00 PM   \n",
       "4   -122.425110  SFPD-CROSSROADS      CITY STREET  05/11/2017 07:53:00 AM   \n",
       "\n",
       "     collision_date  ...         data_updated_at          data_loaded_at  \\\n",
       "0   2023 January 18  ...  01/21/2025 12:00:00 AM  02/10/2025 01:42:44 PM   \n",
       "1  2023 February 15  ...  01/21/2025 12:00:00 AM  02/10/2025 01:42:44 PM   \n",
       "2  2007 November 11  ...  04/26/2023 12:00:00 AM  02/10/2025 01:42:44 PM   \n",
       "3      2019 July 19  ...  04/26/2023 12:00:00 AM  02/10/2025 01:42:44 PM   \n",
       "4       2017 May 11  ...  04/26/2023 12:00:00 AM  02/10/2025 01:42:44 PM   \n",
       "\n",
       "   analysis_neighborhood supervisor_district police_district  \\\n",
       "0  Bayview Hunters Point                10.0         BAYVIEW   \n",
       "1    Castro/Upper Market                 8.0         MISSION   \n",
       "2       Golden Gate Park                 5.0            PARK   \n",
       "3        South of Market                 6.0        SOUTHERN   \n",
       "4           Russian Hill                 2.0         CENTRAL   \n",
       "\n",
       "  Current Police Districts Current Supervisor Districts  \\\n",
       "0                      2.0                          9.0   \n",
       "1                      3.0                          5.0   \n",
       "2                      7.0                         11.0   \n",
       "3                      1.0                         10.0   \n",
       "4                      6.0                          6.0   \n",
       "\n",
       "  Analysis Neighborhoods Neighborhoods SF Find Neighborhoods  \n",
       "0                    1.0          86.0                  86.0  \n",
       "1                    5.0          37.0                  37.0  \n",
       "2                   12.0           9.0                   9.0  \n",
       "3                   34.0          32.0                  32.0  \n",
       "4                   32.0          98.0                  98.0  \n",
       "\n",
       "[5 rows x 63 columns]"
      ]
     },
     "execution_count": 2,
     "metadata": {},
     "output_type": "execute_result"
    }
   ],
   "source": [
    "# Loading the data and printing out the head\n",
    "data = pd.read_csv('Data\\Traffic_Crashes_Resulting_in_Injury_20250305.csv')\n",
    "data.head()"
   ]
  },
  {
   "cell_type": "code",
   "execution_count": 3,
   "metadata": {},
   "outputs": [
    {
     "name": "stdout",
     "output_type": "stream",
     "text": [
      "(61229, 63)\n",
      "the traffic data set has 61229 rows and 63 columns\n"
     ]
    }
   ],
   "source": [
    "# understanding the shape of the data\n",
    "shape = data.shape\n",
    "print(shape)\n",
    "print(f'the traffic data set has',shape[0] ,'rows and',shape[1],'columns')"
   ]
  },
  {
   "cell_type": "code",
   "execution_count": 4,
   "metadata": {},
   "outputs": [
    {
     "name": "stdout",
     "output_type": "stream",
     "text": [
      "Index(['unique_id', 'cnn_intrsctn_fkey', 'cnn_sgmt_fkey', 'case_id_pkey',\n",
      "       'tb_latitude', 'tb_longitude', 'geocode_source', 'geocode_location',\n",
      "       'collision_datetime', 'collision_date', 'collision_time',\n",
      "       'accident_year', 'month', 'day_of_week', 'time_cat', 'juris',\n",
      "       'officer_id', 'reporting_district', 'beat_number', 'primary_rd',\n",
      "       'secondary_rd', 'distance', 'direction', 'weather_1', 'weather_2',\n",
      "       'collision_severity', 'type_of_collision', 'mviw', 'ped_action',\n",
      "       'road_surface', 'road_cond_1', 'road_cond_2', 'lighting',\n",
      "       'control_device', 'intersection', 'vz_pcf_code', 'vz_pcf_group',\n",
      "       'vz_pcf_description', 'vz_pcf_link', 'number_killed', 'number_injured',\n",
      "       'street_view', 'dph_col_grp', 'dph_col_grp_description',\n",
      "       'party_at_fault', 'party1_type', 'party1_dir_of_travel',\n",
      "       'party1_move_pre_acc', 'party2_type', 'party2_dir_of_travel',\n",
      "       'party2_move_pre_acc', 'point', 'data_as_of', 'data_updated_at',\n",
      "       'data_loaded_at', 'analysis_neighborhood', 'supervisor_district',\n",
      "       'police_district', 'Current Police Districts',\n",
      "       'Current Supervisor Districts', 'Analysis Neighborhoods',\n",
      "       'Neighborhoods', 'SF Find Neighborhoods'],\n",
      "      dtype='object')\n"
     ]
    }
   ],
   "source": [
    "# inspecting the columns\n",
    "columns = data.columns\n",
    "print(columns)"
   ]
  },
  {
   "cell_type": "code",
   "execution_count": 5,
   "metadata": {},
   "outputs": [
    {
     "name": "stdout",
     "output_type": "stream",
     "text": [
      "<class 'pandas.core.frame.DataFrame'>\n",
      "RangeIndex: 61229 entries, 0 to 61228\n",
      "Data columns (total 63 columns):\n",
      " #   Column                        Non-Null Count  Dtype  \n",
      "---  ------                        --------------  -----  \n",
      " 0   unique_id                     61229 non-null  int64  \n",
      " 1   cnn_intrsctn_fkey             61207 non-null  float64\n",
      " 2   cnn_sgmt_fkey                 27336 non-null  float64\n",
      " 3   case_id_pkey                  61229 non-null  object \n",
      " 4   tb_latitude                   61062 non-null  float64\n",
      " 5   tb_longitude                  61062 non-null  float64\n",
      " 6   geocode_source                61229 non-null  object \n",
      " 7   geocode_location              61229 non-null  object \n",
      " 8   collision_datetime            61229 non-null  object \n",
      " 9   collision_date                61229 non-null  object \n",
      " 10  collision_time                61169 non-null  object \n",
      " 11  accident_year                 61229 non-null  int64  \n",
      " 12  month                         61229 non-null  object \n",
      " 13  day_of_week                   61220 non-null  object \n",
      " 14  time_cat                      61177 non-null  object \n",
      " 15  juris                         61228 non-null  object \n",
      " 16  officer_id                    60139 non-null  object \n",
      " 17  reporting_district            54719 non-null  object \n",
      " 18  beat_number                   56554 non-null  object \n",
      " 19  primary_rd                    61229 non-null  object \n",
      " 20  secondary_rd                  61087 non-null  object \n",
      " 21  distance                      61150 non-null  float64\n",
      " 22  direction                     61228 non-null  object \n",
      " 23  weather_1                     61229 non-null  object \n",
      " 24  weather_2                     60433 non-null  object \n",
      " 25  collision_severity            61229 non-null  object \n",
      " 26  type_of_collision             61229 non-null  object \n",
      " 27  mviw                          61229 non-null  object \n",
      " 28  ped_action                    61229 non-null  object \n",
      " 29  road_surface                  61229 non-null  object \n",
      " 30  road_cond_1                   61229 non-null  object \n",
      " 31  road_cond_2                   61229 non-null  object \n",
      " 32  lighting                      61229 non-null  object \n",
      " 33  control_device                61229 non-null  object \n",
      " 34  intersection                  61228 non-null  object \n",
      " 35  vz_pcf_code                   60883 non-null  object \n",
      " 36  vz_pcf_group                  60791 non-null  object \n",
      " 37  vz_pcf_description            61229 non-null  object \n",
      " 38  vz_pcf_link                   60375 non-null  object \n",
      " 39  number_killed                 61226 non-null  float64\n",
      " 40  number_injured                61229 non-null  int64  \n",
      " 41  street_view                   61103 non-null  object \n",
      " 42  dph_col_grp                   61228 non-null  object \n",
      " 43  dph_col_grp_description       61228 non-null  object \n",
      " 44  party_at_fault                55163 non-null  float64\n",
      " 45  party1_type                   61218 non-null  object \n",
      " 46  party1_dir_of_travel          61218 non-null  object \n",
      " 47  party1_move_pre_acc           61219 non-null  object \n",
      " 48  party2_type                   56843 non-null  object \n",
      " 49  party2_dir_of_travel          56845 non-null  object \n",
      " 50  party2_move_pre_acc           56846 non-null  object \n",
      " 51  point                         61062 non-null  object \n",
      " 52  data_as_of                    61229 non-null  object \n",
      " 53  data_updated_at               61229 non-null  object \n",
      " 54  data_loaded_at                61229 non-null  object \n",
      " 55  analysis_neighborhood         61006 non-null  object \n",
      " 56  supervisor_district           60988 non-null  float64\n",
      " 57  police_district               60978 non-null  object \n",
      " 58  Current Police Districts      60994 non-null  float64\n",
      " 59  Current Supervisor Districts  61015 non-null  float64\n",
      " 60  Analysis Neighborhoods        60998 non-null  float64\n",
      " 61  Neighborhoods                 59961 non-null  float64\n",
      " 62  SF Find Neighborhoods         59961 non-null  float64\n",
      "dtypes: float64(13), int64(3), object(47)\n",
      "memory usage: 29.4+ MB\n",
      "None\n"
     ]
    }
   ],
   "source": [
    "# checking info\n",
    "info = data.info()\n",
    "print(info)"
   ]
  },
  {
   "cell_type": "markdown",
   "metadata": {},
   "source": [
    "### 2.1 Dataset Description\n",
    "\n",
    "#### Overview\n",
    "This dataset contains information about traffic accidents, with a total of 61,229 entries. It includes various attributes related to the accident details, such as location, time, collision type, and injury data. The dataset is valuable for analysis related to traffic safety, accident severity, and patterns across different areas and conditions.\n",
    "\n",
    "#### Features\n",
    "The dataset consists of the following columns:\n",
    "\n",
    "- **unique_id**: Unique identifier for each accident (int64).\n",
    "- **cnn_intrsctn_fkey**: Foreign key linking to intersection data (float64).\n",
    "- **cnn_sgmt_fkey**: Foreign key linking to segment data (float64).\n",
    "- **case_id_pkey**: Primary key for case ID (object).\n",
    "- **tb_latitude**: Latitude of the accident (float64).\n",
    "- **tb_longitude**: Longitude of the accident (float64).\n",
    "- **geocode_source**: Source of geocoding data (object).\n",
    "- **geocode_location**: Geocoded location information (object).\n",
    "- **collision_datetime**: Date and time of the collision (object).\n",
    "- **collision_date**: Date of the collision (object).\n",
    "- **collision_time**: Time of the collision (object).\n",
    "- **accident_year**: Year of the accident (int64).\n",
    "- **month**: Month of the accident (object).\n",
    "- **day_of_week**: Day of the week when the accident occurred (object).\n",
    "- **time_cat**: Time category of the accident (object).\n",
    "- **juris**: Jurisdiction (object).\n",
    "- **officer_id**: ID of the officer reporting the accident (object).\n",
    "- **reporting_district**: District from which the report originated (object).\n",
    "- **beat_number**: Beat number assigned to the report (object).\n",
    "- **primary_rd**: Primary road involved in the accident (object).\n",
    "- **secondary_rd**: Secondary road involved in the accident (object).\n",
    "- **distance**: Distance from the reference point (float64).\n",
    "- **direction**: Direction of travel (object).\n",
    "- **weather_1**: Primary weather condition at the time of the accident (object).\n",
    "- **weather_2**: Secondary weather condition (object).\n",
    "- **collision_severity**: Severity of the collision (object).\n",
    "- **type_of_collision**: Type of collision (object).\n",
    "- **mviw**: Motor vehicle involvement (object).\n",
    "- **ped_action**: Pedestrian action (object).\n",
    "- **road_surface**: Condition of the road surface (object).\n",
    "- **road_cond_1**: Primary road condition (object).\n",
    "- **road_cond_2**: Secondary road condition (object).\n",
    "- **lighting**: Lighting condition at the time of the accident (object).\n",
    "- **control_device**: Type of traffic control device at the intersection (object).\n",
    "- **intersection**: Whether the accident occurred at an intersection (object).\n",
    "- **vz_pcf_code**: Code for the Vehicle-Zone Potential Conflict (object).\n",
    "- **vz_pcf_group**: Grouping of the Vehicle-Zone Potential Conflict (object).\n",
    "- **vz_pcf_description**: Description of the Vehicle-Zone Potential Conflict (object).\n",
    "- **vz_pcf_link**: Link to more information about the potential conflict (object).\n",
    "- **number_killed**: Number of people killed in the accident (float64).\n",
    "- **number_injured**: Number of people injured in the accident (int64).\n",
    "- **street_view**: Street view image URL of the accident location (object).\n",
    "- **dph_col_grp**: Department of Public Health collision group (object).\n",
    "- **dph_col_grp_description**: Description of the Department of Public Health collision group (object).\n",
    "- **party_at_fault**: Party at fault for the accident (float64).\n",
    "- **party1_type**: Type of the first party involved in the accident (object).\n",
    "- **party1_dir_of_travel**: Direction of travel for the first party (object).\n",
    "- **party1_move_pre_acc**: Movement of the first party before the accident (object).\n",
    "- **party2_type**: Type of the second party involved in the accident (object).\n",
    "- **party2_dir_of_travel**: Direction of travel for the second party (object).\n",
    "- **party2_move_pre_acc**: Movement of the second party before the accident (object).\n",
    "- **point**: Geospatial point data for the accident (object).\n",
    "- **data_as_of**: Date the data was last updated (object).\n",
    "- **data_updated_at**: Timestamp when the data was last updated (object).\n",
    "- **data_loaded_at**: Timestamp when the data was loaded (object).\n",
    "- **analysis_neighborhood**: Neighborhood where the accident occurred (object).\n",
    "- **supervisor_district**: Supervisor district where the accident occurred (float64).\n",
    "- **police_district**: Police district where the accident occurred (object).\n",
    "- **Current Police Districts**: Police districts for the current data (float64).\n",
    "- **Current Supervisor Districts**: Supervisor districts for the current data (float64).\n",
    "- **Analysis Neighborhoods**: Neighborhoods relevant for analysis (float64).\n",
    "- **Neighborhoods**: Neighborhoods associated with the accident (float64).\n",
    "- **SF Find Neighborhoods**: Neighborhoods found by the SF Find algorithm (float64).\n",
    "\n",
    "- **Missing values**: Some columns contain missing values. For example, `cnn_sgmt_fkey`, `party_at_fault`, and `party2_type` have missing data for some records.\n",
    "  \n",
    "#### Data Source\n",
    "This dataset is sourced from San Fransisco Open data source\n",
    "\n",
    "#### Usage\n",
    "This dataset will be used for various analyses related to traffic accidents, including:\n",
    "- Accident severity analysis\n",
    "- Geospatial analysis of accident hotspots\n",
    "- Study of weather, road conditions, and lighting effects on accidents\n",
    "- Machine learning for predicting accident severity based on features like weather, location, and vehicle type\n",
    "\n"
   ]
  },
  {
   "cell_type": "code",
   "execution_count": 6,
   "metadata": {},
   "outputs": [
    {
     "name": "stdout",
     "output_type": "stream",
     "text": [
      "                                count          mean           std  \\\n",
      "unique_id                     61229.0  3.551137e+04  2.455893e+04   \n",
      "cnn_intrsctn_fkey             61207.0  2.585379e+07  4.916555e+06   \n",
      "cnn_sgmt_fkey                 27336.0  6.975567e+06  4.068037e+06   \n",
      "tb_latitude                   61062.0  3.776579e+01  2.444219e-02   \n",
      "tb_longitude                  61062.0 -1.224287e+02  2.834483e-02   \n",
      "accident_year                 61229.0  2.014422e+03  5.705362e+00   \n",
      "distance                      61150.0  5.596129e+01  2.638240e+02   \n",
      "number_killed                 61226.0  9.799758e-03  1.016098e-01   \n",
      "number_injured                61229.0  1.252903e+00  6.998025e-01   \n",
      "party_at_fault                55163.0  1.013270e+00  1.247372e-01   \n",
      "supervisor_district           60988.0  6.074342e+00  2.913055e+00   \n",
      "Current Police Districts      60994.0  5.139833e+00  2.980160e+00   \n",
      "Current Supervisor Districts  61015.0  6.688732e+00  3.365241e+00   \n",
      "Analysis Neighborhoods        60998.0  2.063530e+01  1.237913e+01   \n",
      "Neighborhoods                 59961.0  5.340952e+01  3.275673e+01   \n",
      "SF Find Neighborhoods         59961.0  5.340952e+01  3.275673e+01   \n",
      "\n",
      "                                       min           25%           50%  \\\n",
      "unique_id                     1.000000e+00  1.599100e+04  3.187800e+04   \n",
      "cnn_intrsctn_fkey             2.000600e+07  2.385600e+07  2.493400e+07   \n",
      "cnn_sgmt_fkey                 1.000000e+05  3.454000e+06  7.301000e+06   \n",
      "tb_latitude                   3.770746e+01  3.774890e+01  3.777253e+01   \n",
      "tb_longitude                 -1.225136e+02 -1.224428e+02 -1.224215e+02   \n",
      "accident_year                 2.005000e+03  2.010000e+03  2.014000e+03   \n",
      "distance                      0.000000e+00  0.000000e+00  0.000000e+00   \n",
      "number_killed                 0.000000e+00  0.000000e+00  0.000000e+00   \n",
      "number_injured                0.000000e+00  1.000000e+00  1.000000e+00   \n",
      "party_at_fault                1.000000e+00  1.000000e+00  1.000000e+00   \n",
      "supervisor_district           1.000000e+00  4.000000e+00  6.000000e+00   \n",
      "Current Police Districts      1.000000e+00  3.000000e+00  4.000000e+00   \n",
      "Current Supervisor Districts  1.000000e+00  3.000000e+00  7.000000e+00   \n",
      "Analysis Neighborhoods        1.000000e+00  9.000000e+00  2.000000e+01   \n",
      "Neighborhoods                 1.000000e+00  2.700000e+01  4.600000e+01   \n",
      "SF Find Neighborhoods         1.000000e+00  2.700000e+01  4.600000e+01   \n",
      "\n",
      "                                       75%           max  \n",
      "unique_id                     4.841300e+04  8.918600e+04  \n",
      "cnn_intrsctn_fkey             2.669600e+07  5.436600e+07  \n",
      "cnn_sgmt_fkey                 1.015675e+07  1.999910e+07  \n",
      "tb_latitude                   3.778382e+01  3.782999e+01  \n",
      "tb_longitude                 -1.224084e+02 -1.223583e+02  \n",
      "accident_year                 2.019000e+03  2.024000e+03  \n",
      "distance                      5.100000e+01  2.640000e+04  \n",
      "number_killed                 0.000000e+00  4.000000e+00  \n",
      "number_injured                1.000000e+00  1.900000e+01  \n",
      "party_at_fault                1.000000e+00  5.000000e+00  \n",
      "supervisor_district           9.000000e+00  1.100000e+01  \n",
      "Current Police Districts      8.000000e+00  1.000000e+01  \n",
      "Current Supervisor Districts  1.000000e+01  1.100000e+01  \n",
      "Analysis Neighborhoods        3.400000e+01  4.100000e+01  \n",
      "Neighborhoods                 8.600000e+01  1.170000e+02  \n",
      "SF Find Neighborhoods         8.600000e+01  1.170000e+02  \n"
     ]
    }
   ],
   "source": [
    "summury = data.describe().T\n",
    "print(summury)"
   ]
  },
  {
   "cell_type": "code",
   "execution_count": 7,
   "metadata": {},
   "outputs": [
    {
     "data": {
      "text/html": [
       "<div>\n",
       "<style scoped>\n",
       "    .dataframe tbody tr th:only-of-type {\n",
       "        vertical-align: middle;\n",
       "    }\n",
       "\n",
       "    .dataframe tbody tr th {\n",
       "        vertical-align: top;\n",
       "    }\n",
       "\n",
       "    .dataframe thead th {\n",
       "        text-align: right;\n",
       "    }\n",
       "</style>\n",
       "<table border=\"1\" class=\"dataframe\">\n",
       "  <thead>\n",
       "    <tr style=\"text-align: right;\">\n",
       "      <th></th>\n",
       "      <th>collision_date</th>\n",
       "      <th>collision_time</th>\n",
       "      <th>accident_year</th>\n",
       "      <th>month</th>\n",
       "      <th>day_of_week</th>\n",
       "      <th>primary_rd</th>\n",
       "      <th>secondary_rd</th>\n",
       "      <th>distance</th>\n",
       "      <th>direction</th>\n",
       "      <th>weather_1</th>\n",
       "      <th>...</th>\n",
       "      <th>control_device</th>\n",
       "      <th>number_killed</th>\n",
       "      <th>number_injured</th>\n",
       "      <th>party1_type</th>\n",
       "      <th>party1_dir_of_travel</th>\n",
       "      <th>party1_move_pre_acc</th>\n",
       "      <th>party2_type</th>\n",
       "      <th>party2_dir_of_travel</th>\n",
       "      <th>party2_move_pre_acc</th>\n",
       "      <th>time_cat</th>\n",
       "    </tr>\n",
       "  </thead>\n",
       "  <tbody>\n",
       "    <tr>\n",
       "      <th>0</th>\n",
       "      <td>2023 January 18</td>\n",
       "      <td>17:53:00</td>\n",
       "      <td>2023</td>\n",
       "      <td>January</td>\n",
       "      <td>Wednesday</td>\n",
       "      <td>LANE ST</td>\n",
       "      <td>NEWCOMB AVE</td>\n",
       "      <td>68.0</td>\n",
       "      <td>South</td>\n",
       "      <td>Clear</td>\n",
       "      <td>...</td>\n",
       "      <td>None</td>\n",
       "      <td>0.0</td>\n",
       "      <td>1</td>\n",
       "      <td>Driver</td>\n",
       "      <td>West</td>\n",
       "      <td>Proceeding Straight</td>\n",
       "      <td>NaN</td>\n",
       "      <td>NaN</td>\n",
       "      <td>NaN</td>\n",
       "      <td>2:01 pm to 6:00 pm</td>\n",
       "    </tr>\n",
       "    <tr>\n",
       "      <th>1</th>\n",
       "      <td>2023 February 15</td>\n",
       "      <td>09:30:00</td>\n",
       "      <td>2023</td>\n",
       "      <td>February</td>\n",
       "      <td>Wednesday</td>\n",
       "      <td>17TH ST</td>\n",
       "      <td>CHURCH ST</td>\n",
       "      <td>20.0</td>\n",
       "      <td>West</td>\n",
       "      <td>Clear</td>\n",
       "      <td>...</td>\n",
       "      <td>None</td>\n",
       "      <td>0.0</td>\n",
       "      <td>1</td>\n",
       "      <td>Bicyclist</td>\n",
       "      <td>East</td>\n",
       "      <td>Proceeding Straight</td>\n",
       "      <td>NaN</td>\n",
       "      <td>NaN</td>\n",
       "      <td>NaN</td>\n",
       "      <td>6:01 am to 10:00 am</td>\n",
       "    </tr>\n",
       "    <tr>\n",
       "      <th>2</th>\n",
       "      <td>2007 November 11</td>\n",
       "      <td>15:50:00</td>\n",
       "      <td>2007</td>\n",
       "      <td>November</td>\n",
       "      <td>Sunday</td>\n",
       "      <td>KEZAR DR</td>\n",
       "      <td>WALLER ST</td>\n",
       "      <td>210.0</td>\n",
       "      <td>North</td>\n",
       "      <td>Clear</td>\n",
       "      <td>...</td>\n",
       "      <td>None</td>\n",
       "      <td>0.0</td>\n",
       "      <td>2</td>\n",
       "      <td>Driver</td>\n",
       "      <td>North</td>\n",
       "      <td>Proceeding Straight</td>\n",
       "      <td>NaN</td>\n",
       "      <td>NaN</td>\n",
       "      <td>NaN</td>\n",
       "      <td>2:01 pm to 6:00 pm</td>\n",
       "    </tr>\n",
       "    <tr>\n",
       "      <th>3</th>\n",
       "      <td>2019 July 19</td>\n",
       "      <td>13:50:00</td>\n",
       "      <td>2019</td>\n",
       "      <td>July</td>\n",
       "      <td>Friday</td>\n",
       "      <td>PERRY ST</td>\n",
       "      <td>04TH ST</td>\n",
       "      <td>0.0</td>\n",
       "      <td>Not Stated</td>\n",
       "      <td>Clear</td>\n",
       "      <td>...</td>\n",
       "      <td>Functioning</td>\n",
       "      <td>0.0</td>\n",
       "      <td>1</td>\n",
       "      <td>Bicyclist</td>\n",
       "      <td>East</td>\n",
       "      <td>Making Left Turn</td>\n",
       "      <td>Driver</td>\n",
       "      <td>East</td>\n",
       "      <td>Making Left Turn</td>\n",
       "      <td>10:01 am to 2:00 pm</td>\n",
       "    </tr>\n",
       "    <tr>\n",
       "      <th>4</th>\n",
       "      <td>2017 May 11</td>\n",
       "      <td>07:53:00</td>\n",
       "      <td>2017</td>\n",
       "      <td>May</td>\n",
       "      <td>Thursday</td>\n",
       "      <td>BAY ST</td>\n",
       "      <td>VAN NESS AVE</td>\n",
       "      <td>0.0</td>\n",
       "      <td>Not Stated</td>\n",
       "      <td>Not Stated</td>\n",
       "      <td>...</td>\n",
       "      <td>Not Stated</td>\n",
       "      <td>0.0</td>\n",
       "      <td>1</td>\n",
       "      <td>Driver</td>\n",
       "      <td>North</td>\n",
       "      <td>Not Stated</td>\n",
       "      <td>Pedestrian</td>\n",
       "      <td>West</td>\n",
       "      <td>Not Stated</td>\n",
       "      <td>6:01 am to 10:00 am</td>\n",
       "    </tr>\n",
       "  </tbody>\n",
       "</table>\n",
       "<p>5 rows × 28 columns</p>\n",
       "</div>"
      ],
      "text/plain": [
       "     collision_date collision_time  accident_year     month day_of_week  \\\n",
       "0   2023 January 18       17:53:00           2023   January   Wednesday   \n",
       "1  2023 February 15       09:30:00           2023  February   Wednesday   \n",
       "2  2007 November 11       15:50:00           2007  November      Sunday   \n",
       "3      2019 July 19       13:50:00           2019      July      Friday   \n",
       "4       2017 May 11       07:53:00           2017       May    Thursday   \n",
       "\n",
       "  primary_rd  secondary_rd  distance   direction   weather_1  ...  \\\n",
       "0    LANE ST   NEWCOMB AVE      68.0       South       Clear  ...   \n",
       "1    17TH ST     CHURCH ST      20.0        West       Clear  ...   \n",
       "2   KEZAR DR     WALLER ST     210.0       North       Clear  ...   \n",
       "3   PERRY ST       04TH ST       0.0  Not Stated       Clear  ...   \n",
       "4     BAY ST  VAN NESS AVE       0.0  Not Stated  Not Stated  ...   \n",
       "\n",
       "  control_device number_killed number_injured party1_type  \\\n",
       "0           None           0.0              1      Driver   \n",
       "1           None           0.0              1   Bicyclist   \n",
       "2           None           0.0              2      Driver   \n",
       "3    Functioning           0.0              1   Bicyclist   \n",
       "4     Not Stated           0.0              1      Driver   \n",
       "\n",
       "  party1_dir_of_travel  party1_move_pre_acc party2_type party2_dir_of_travel  \\\n",
       "0                 West  Proceeding Straight         NaN                  NaN   \n",
       "1                 East  Proceeding Straight         NaN                  NaN   \n",
       "2                North  Proceeding Straight         NaN                  NaN   \n",
       "3                 East     Making Left Turn      Driver                 East   \n",
       "4                North           Not Stated  Pedestrian                 West   \n",
       "\n",
       "  party2_move_pre_acc             time_cat  \n",
       "0                 NaN   2:01 pm to 6:00 pm  \n",
       "1                 NaN  6:01 am to 10:00 am  \n",
       "2                 NaN   2:01 pm to 6:00 pm  \n",
       "3    Making Left Turn  10:01 am to 2:00 pm  \n",
       "4          Not Stated  6:01 am to 10:00 am  \n",
       "\n",
       "[5 rows x 28 columns]"
      ]
     },
     "execution_count": 7,
     "metadata": {},
     "output_type": "execute_result"
    }
   ],
   "source": [
    "# droping the unnecessary columns\n",
    "data = data[['collision_date', 'collision_time','accident_year','month','day_of_week','primary_rd','secondary_rd','distance','direction','weather_1','collision_severity','type_of_collision','mviw','ped_action','road_surface','road_cond_1','lighting','dph_col_grp_description','control_device','number_killed','number_injured','party1_type', 'party1_dir_of_travel','party1_move_pre_acc','party2_type','party2_dir_of_travel','party2_move_pre_acc','time_cat']]\n",
    "data.head()"
   ]
  },
  {
   "cell_type": "code",
   "execution_count": 8,
   "metadata": {},
   "outputs": [
    {
     "name": "stdout",
     "output_type": "stream",
     "text": [
      "collision_date                0\n",
      "collision_time               60\n",
      "accident_year                 0\n",
      "month                         0\n",
      "day_of_week                   9\n",
      "primary_rd                    0\n",
      "secondary_rd                142\n",
      "distance                     79\n",
      "direction                     1\n",
      "weather_1                     0\n",
      "collision_severity            0\n",
      "type_of_collision             0\n",
      "mviw                          0\n",
      "ped_action                    0\n",
      "road_surface                  0\n",
      "road_cond_1                   0\n",
      "lighting                      0\n",
      "dph_col_grp_description       1\n",
      "control_device                0\n",
      "number_killed                 3\n",
      "number_injured                0\n",
      "party1_type                  11\n",
      "party1_dir_of_travel         11\n",
      "party1_move_pre_acc          10\n",
      "party2_type                4386\n",
      "party2_dir_of_travel       4384\n",
      "party2_move_pre_acc        4383\n",
      "time_cat                     52\n",
      "dtype: int64\n"
     ]
    }
   ],
   "source": [
    "# checking for null values\n",
    "null = data.isna().sum()\n",
    "print(null)"
   ]
  },
  {
   "cell_type": "markdown",
   "metadata": {},
   "source": [
    "## 2.2 Data Cleaning\n",
    "\n"
   ]
  },
  {
   "cell_type": "code",
   "execution_count": 9,
   "metadata": {},
   "outputs": [],
   "source": [
    "# Convert all column names to lowercase\n",
    "data.columns =data.columns.str.lower()"
   ]
  },
  {
   "cell_type": "code",
   "execution_count": 10,
   "metadata": {},
   "outputs": [
    {
     "data": {
      "text/plain": [
       "accident_year          0.0\n",
       "distance         2515101.0\n",
       "dtype: float64"
      ]
     },
     "execution_count": 10,
     "metadata": {},
     "output_type": "execute_result"
    }
   ],
   "source": [
    "# checking for outliers\n",
    "outliers_multiple_columns = pd.DataFrame()\n",
    "\n",
    "\n",
    "exclude_columns = ['number_injured', 'number_killed']\n",
    "\n",
    "for col in data.select_dtypes(include=['float64', 'int64']).columns:\n",
    "    \n",
    "    if col not in exclude_columns:\n",
    "        Q1 = data[col].quantile(0.25)\n",
    "        Q3 = data[col].quantile(0.75)\n",
    "        IQR = Q3 - Q1\n",
    "        lower_bound = Q1 - 1.5 * IQR\n",
    "        upper_bound = Q3 + 1.5 * IQR\n",
    "        \n",
    "        # Identify outliers\n",
    "        outliers = data[(data[col] < lower_bound) | (data[col] > upper_bound)]\n",
    "        outliers_multiple_columns[col] = outliers[col]\n",
    "\n",
    "# Calculate the sum of outliers for each column (excluding 'number_injured' and 'number_killed')\n",
    "outliers_multiple_columns.sum()"
   ]
  },
  {
   "cell_type": "code",
   "execution_count": 11,
   "metadata": {},
   "outputs": [],
   "source": [
    "# caping outliers\n",
    "for col in outliers_multiple_columns.columns:\n",
    "    Q1 = data[col].quantile(0.25)\n",
    "    Q3 = data[col].quantile(0.75)\n",
    "    IQR = Q3 - Q1\n",
    "    lower_bound = Q1 - 1.5 * IQR\n",
    "    upper_bound = Q3 + 1.5 * IQR\n",
    "\n",
    "    # Cap the outliers to the upper and lower bounds\n",
    "    data[col] = np.where(data[col] < lower_bound, lower_bound, data[col])\n",
    "    data[col] = np.where(data[col] > upper_bound, upper_bound, data[col])"
   ]
  },
  {
   "cell_type": "code",
   "execution_count": 12,
   "metadata": {},
   "outputs": [],
   "source": [
    "numeric_cols = ['distance', 'number_killed']\n",
    "imputer = SimpleImputer(strategy='median')  # use median\n",
    "data[numeric_cols] = imputer.fit_transform(data[numeric_cols])\n",
    "\n",
    "# Impute categorical columns with 'Unknown' \n",
    "categorical_cols = ['party2_type', 'party2_dir_of_travel', 'party2_move_pre_acc']\n",
    "data[categorical_cols] = data[categorical_cols].fillna('Unknown')\n",
    "\n",
    "# For small missing data, impute with mode\n",
    "data['day_of_week'] = data['day_of_week'].fillna(data['day_of_week'].mode()[0])\n",
    "\n",
    "# Drop rows with small missing data\n",
    "data = data.dropna(subset=['secondary_rd','collision_date', 'collision_time', 'party1_type', 'party1_dir_of_travel','party1_move_pre_acc','dph_col_grp_description','direction'])"
   ]
  },
  {
   "cell_type": "code",
   "execution_count": 13,
   "metadata": {},
   "outputs": [
    {
     "data": {
      "text/plain": [
       "collision_date             0\n",
       "collision_time             0\n",
       "accident_year              0\n",
       "month                      0\n",
       "day_of_week                0\n",
       "primary_rd                 0\n",
       "secondary_rd               0\n",
       "distance                   0\n",
       "direction                  0\n",
       "weather_1                  0\n",
       "collision_severity         0\n",
       "type_of_collision          0\n",
       "mviw                       0\n",
       "ped_action                 0\n",
       "road_surface               0\n",
       "road_cond_1                0\n",
       "lighting                   0\n",
       "dph_col_grp_description    0\n",
       "control_device             0\n",
       "number_killed              0\n",
       "number_injured             0\n",
       "party1_type                0\n",
       "party1_dir_of_travel       0\n",
       "party1_move_pre_acc        0\n",
       "party2_type                0\n",
       "party2_dir_of_travel       0\n",
       "party2_move_pre_acc        0\n",
       "time_cat                   0\n",
       "dtype: int64"
      ]
     },
     "execution_count": 13,
     "metadata": {},
     "output_type": "execute_result"
    }
   ],
   "source": [
    "data.isna().sum()"
   ]
  },
  {
   "cell_type": "code",
   "execution_count": 14,
   "metadata": {},
   "outputs": [],
   "source": [
    "# Converting collision_date and collision_time to datetime\n",
    "data['collision_date'] =pd.to_datetime(data['collision_date'])\n",
    "data['collision_time'] = pd.to_datetime(data['collision_time'])"
   ]
  },
  {
   "cell_type": "code",
   "execution_count": 15,
   "metadata": {},
   "outputs": [],
   "source": [
    "# Converting columns with repeated values to categorical type\n",
    "categorical_columns = [ 'month', 'day_of_week',\n",
    "    'direction', 'weather_1', 'collision_severity', \n",
    "    'type_of_collision', 'mviw', 'ped_action', 'road_surface', 'road_cond_1', 'lighting',\n",
    "    'dph_col_grp_description', 'control_device', 'party1_type', 'party1_dir_of_travel',\n",
    "    'party1_move_pre_acc', 'party2_type', 'party2_dir_of_travel', 'party2_move_pre_acc'\n",
    "]\n",
    "data[categorical_columns] = data[categorical_columns].apply(lambda x: x.astype('category'))\n"
   ]
  },
  {
   "cell_type": "code",
   "execution_count": 16,
   "metadata": {},
   "outputs": [
    {
     "data": {
      "text/plain": [
       "Injury (Complaint of Pain)    38821\n",
       "Injury (Other Visible)        17343\n",
       "Injury (Severe)                4275\n",
       "Fatal                           577\n",
       "Medical                           1\n",
       "Name: collision_severity, dtype: int64"
      ]
     },
     "execution_count": 16,
     "metadata": {},
     "output_type": "execute_result"
    }
   ],
   "source": [
    "#checking value counts for the target column\n",
    "data['collision_severity'].value_counts()"
   ]
  },
  {
   "cell_type": "code",
   "execution_count": 17,
   "metadata": {},
   "outputs": [],
   "source": [
    "#Drop rows where 'collision_severity' is 'Medical'\n",
    "data = data[data['collision_severity'] != 'Medical']"
   ]
  },
  {
   "cell_type": "code",
   "execution_count": 18,
   "metadata": {},
   "outputs": [
    {
     "name": "stdout",
     "output_type": "stream",
     "text": [
      "Pain       38821\n",
      "Visible    17343\n",
      "Severe      4275\n",
      "Fatal        577\n",
      "Name: collision_severity, dtype: int64\n"
     ]
    }
   ],
   "source": [
    "# converting the entries in the collision_severity column into simplified labels like Pain, Visible, Severe,and Fatal.\n",
    "severity_mapping = {\n",
    "    'Injury (Complaint of Pain)': 'Pain',\n",
    "    'Injury (Other Visible)': 'Visible',\n",
    "    'Injury (Severe)': 'Severe',\n",
    "    'Fatal': 'Fatal',\n",
    "}\n",
    "\n",
    "# Apply the mapping to the 'collision_severity' column\n",
    "data['collision_severity'] = data['collision_severity'].replace(severity_mapping)\n",
    "\n",
    "print(data['collision_severity'].value_counts())"
   ]
  },
  {
   "cell_type": "code",
   "execution_count": 19,
   "metadata": {},
   "outputs": [
    {
     "data": {
      "text/plain": [
       "Clear                       50263\n",
       "Cloudy                       5940\n",
       "Raining                      3607\n",
       "Not Stated                    659\n",
       "Fog                           258\n",
       "Other                         231\n",
       "Wind                           49\n",
       "Snowing                         2\n",
       "Other: Unknown                  1\n",
       "Other: NOT ON SCENE             1\n",
       "Other: NOT AT SCENE             1\n",
       "Other: MISTING                  1\n",
       "Fog / Visibility: 800 ft        1\n",
       "Fog / Visibility: 10 ft         1\n",
       "Fog / Visibility                1\n",
       "Name: weather_1, dtype: int64"
      ]
     },
     "execution_count": 19,
     "metadata": {},
     "output_type": "execute_result"
    }
   ],
   "source": [
    "data['weather_1'].value_counts()"
   ]
  },
  {
   "cell_type": "code",
   "execution_count": 20,
   "metadata": {},
   "outputs": [
    {
     "name": "stdout",
     "output_type": "stream",
     "text": [
      "Clear         50263\n",
      "Cloudy         5940\n",
      "Raining        3607\n",
      "Not Stated      659\n",
      "Fog             261\n",
      "Other           237\n",
      "Windy            49\n",
      "Name: weather_1, dtype: int64\n"
     ]
    }
   ],
   "source": [
    "# Replace less informative or rare values with a more general category\n",
    "data['weather_1'] = data['weather_1'].replace({\n",
    "    'Other: Unknown': 'Other',\n",
    "    'Other: NOT ON SCENE': 'Other',\n",
    "    'Other: NOT AT SCENE': 'Other',\n",
    "    'Other: MISTING': 'Other',\n",
    "    'Fog / Visibility: 800 ft': 'Fog',\n",
    "    'Fog / Visibility: 10 ft': 'Fog',\n",
    "    'Fog / Visibility': 'Fog',\n",
    "    'Snowing': 'Snow',  # Grouping different snow-related entries\n",
    "    'Wind': 'Windy',  # Grouping wind-related values\n",
    "})\n",
    "\n",
    "# o drop values with very low frequency (e.g., 1 or 2 occurrences)\n",
    "# Count the frequency of each value in the column\n",
    "value_counts = data['weather_1'].value_counts()\n",
    "\n",
    "# Filter out values that appear only once or twice and replace them with 'Other'\n",
    "data['weather_1'] = data['weather_1'].apply(lambda x: x if value_counts[x] > 2 else 'Other')\n",
    "\n",
    "# Check the cleaned column\n",
    "print(data['weather_1'].value_counts())"
   ]
  },
  {
   "cell_type": "code",
   "execution_count": 21,
   "metadata": {},
   "outputs": [
    {
     "data": {
      "text/plain": [
       "Not Stated    33719\n",
       "South          7390\n",
       "West           6771\n",
       "East           6703\n",
       "North          6432\n",
       "North Nor         1\n",
       "Name: direction, dtype: int64"
      ]
     },
     "execution_count": 21,
     "metadata": {},
     "output_type": "execute_result"
    }
   ],
   "source": [
    "data['direction'].value_counts()"
   ]
  },
  {
   "cell_type": "code",
   "execution_count": 22,
   "metadata": {},
   "outputs": [
    {
     "name": "stdout",
     "output_type": "stream",
     "text": [
      "Unknown    33719\n",
      "South       7390\n",
      "West        6771\n",
      "East        6703\n",
      "North       6433\n",
      "Name: direction, dtype: int64\n"
     ]
    }
   ],
   "source": [
    "data['direction'] = data['direction'].replace({\n",
    "    'North Nor': 'North',\n",
    "})\n",
    "\n",
    "# Group 'Not Stated' into a more general 'Unknown' category\n",
    "data['direction'] = data['direction'].replace({\n",
    "    'Not Stated': 'Unknown',\n",
    "})\n",
    "\n",
    "\n",
    "# Check the cleaned column\n",
    "print(data['direction'].value_counts())"
   ]
  },
  {
   "cell_type": "code",
   "execution_count": 23,
   "metadata": {},
   "outputs": [
    {
     "data": {
      "text/plain": [
       "Daylight                                39351\n",
       "Dark - Street Lights                    18383\n",
       "Dusk - Dawn                              2138\n",
       "Not Stated                                596\n",
       "Dark - No Street Lights                   439\n",
       "Dark - Street Lights Not Functioning      109\n",
       "Name: lighting, dtype: int64"
      ]
     },
     "execution_count": 23,
     "metadata": {},
     "output_type": "execute_result"
    }
   ],
   "source": [
    "data['lighting'].value_counts()"
   ]
  },
  {
   "cell_type": "code",
   "execution_count": 24,
   "metadata": {},
   "outputs": [
    {
     "name": "stdout",
     "output_type": "stream",
     "text": [
      "Daylight                41489\n",
      "Dark - Street Lights    18383\n",
      "Unknown                   596\n",
      "Dark                      548\n",
      "Name: lighting, dtype: int64\n"
     ]
    }
   ],
   "source": [
    "data['lighting'] = data['lighting'].replace({\n",
    "    'Dark - Street Lights Not Functioning': 'Dark',  \n",
    "    'Dark - No Street Lights': 'Dark',  \n",
    "    'Not Stated': 'Unknown',  \n",
    "})\n",
    "\n",
    "#merge 'Dusk - Dawn' with 'Daylight' \n",
    "data['lighting'] = data['lighting'].replace({\n",
    "    'Dusk - Dawn': 'Daylight',  \n",
    "})\n",
    "\n",
    "# Check the cleaned column\n",
    "print(data['lighting'].value_counts())"
   ]
  },
  {
   "cell_type": "markdown",
   "metadata": {},
   "source": [
    "## 3.0 **Exploratory Data Analysis**\n",
    "\n",
    "#### 3.1 Univariate Analysis"
   ]
  },
  {
   "cell_type": "code",
   "execution_count": 25,
   "metadata": {},
   "outputs": [
    {
     "data": {
      "text/html": [
       "<div>\n",
       "<style scoped>\n",
       "    .dataframe tbody tr th:only-of-type {\n",
       "        vertical-align: middle;\n",
       "    }\n",
       "\n",
       "    .dataframe tbody tr th {\n",
       "        vertical-align: top;\n",
       "    }\n",
       "\n",
       "    .dataframe thead th {\n",
       "        text-align: right;\n",
       "    }\n",
       "</style>\n",
       "<table border=\"1\" class=\"dataframe\">\n",
       "  <thead>\n",
       "    <tr style=\"text-align: right;\">\n",
       "      <th>collision_severity</th>\n",
       "      <th>Fatal</th>\n",
       "      <th>Pain</th>\n",
       "      <th>Severe</th>\n",
       "      <th>Visible</th>\n",
       "    </tr>\n",
       "    <tr>\n",
       "      <th>day_of_week</th>\n",
       "      <th></th>\n",
       "      <th></th>\n",
       "      <th></th>\n",
       "      <th></th>\n",
       "    </tr>\n",
       "  </thead>\n",
       "  <tbody>\n",
       "    <tr>\n",
       "      <th>Friday</th>\n",
       "      <td>87</td>\n",
       "      <td>6086</td>\n",
       "      <td>697</td>\n",
       "      <td>2687</td>\n",
       "    </tr>\n",
       "    <tr>\n",
       "      <th>Monday</th>\n",
       "      <td>68</td>\n",
       "      <td>5315</td>\n",
       "      <td>544</td>\n",
       "      <td>2338</td>\n",
       "    </tr>\n",
       "    <tr>\n",
       "      <th>Saturday</th>\n",
       "      <td>90</td>\n",
       "      <td>5170</td>\n",
       "      <td>606</td>\n",
       "      <td>2517</td>\n",
       "    </tr>\n",
       "    <tr>\n",
       "      <th>Sunday</th>\n",
       "      <td>74</td>\n",
       "      <td>4701</td>\n",
       "      <td>562</td>\n",
       "      <td>2159</td>\n",
       "    </tr>\n",
       "    <tr>\n",
       "      <th>Thursday</th>\n",
       "      <td>89</td>\n",
       "      <td>5849</td>\n",
       "      <td>636</td>\n",
       "      <td>2498</td>\n",
       "    </tr>\n",
       "    <tr>\n",
       "      <th>Tuesday</th>\n",
       "      <td>86</td>\n",
       "      <td>5821</td>\n",
       "      <td>626</td>\n",
       "      <td>2533</td>\n",
       "    </tr>\n",
       "    <tr>\n",
       "      <th>Wednesday</th>\n",
       "      <td>83</td>\n",
       "      <td>5879</td>\n",
       "      <td>604</td>\n",
       "      <td>2611</td>\n",
       "    </tr>\n",
       "  </tbody>\n",
       "</table>\n",
       "</div>"
      ],
      "text/plain": [
       "collision_severity  Fatal  Pain  Severe  Visible\n",
       "day_of_week                                     \n",
       "Friday                 87  6086     697     2687\n",
       "Monday                 68  5315     544     2338\n",
       "Saturday               90  5170     606     2517\n",
       "Sunday                 74  4701     562     2159\n",
       "Thursday               89  5849     636     2498\n",
       "Tuesday                86  5821     626     2533\n",
       "Wednesday              83  5879     604     2611"
      ]
     },
     "execution_count": 25,
     "metadata": {},
     "output_type": "execute_result"
    }
   ],
   "source": [
    "day_severity_count=data.groupby(['day_of_week','collision_severity']).size().reset_index(name='count')\n",
    "pvt_table=pd.pivot_table(day_severity_count,values='count',index=['day_of_week'],columns=['collision_severity'],aggfunc='sum')\n",
    "pvt_table"
   ]
  },
  {
   "cell_type": "markdown",
   "metadata": {},
   "source": [
    "- The higher numbers of accidents on Friday and Saturday, particularly for \"Pain\" and \"Visible\" categories, might be related to increased social activity, weekend travel, or other factors associated with the end of the work week and the weekend.\n",
    "\n",
    "- The higher number of fatal collisions on these days is also worth noting and investigating.\n",
    "\n",
    "- The lower numbers on Sunday could be attributed to reduced traffic volume, different driving patterns, or other factors.\n",
    "\n",
    "- Across all days, \"Pain\" and \"Visible\" collisions are much more frequent than \"Severe\" and \"Fatal\" collisions, which aligns with the general understanding that minor accidents are more common."
   ]
  },
  {
   "cell_type": "code",
   "execution_count": 26,
   "metadata": {},
   "outputs": [
    {
     "data": {
      "text/html": [
       "<div>\n",
       "<style scoped>\n",
       "    .dataframe tbody tr th:only-of-type {\n",
       "        vertical-align: middle;\n",
       "    }\n",
       "\n",
       "    .dataframe tbody tr th {\n",
       "        vertical-align: top;\n",
       "    }\n",
       "\n",
       "    .dataframe thead th {\n",
       "        text-align: right;\n",
       "    }\n",
       "</style>\n",
       "<table border=\"1\" class=\"dataframe\">\n",
       "  <thead>\n",
       "    <tr style=\"text-align: right;\">\n",
       "      <th>collision_severity</th>\n",
       "      <th>Fatal</th>\n",
       "      <th>Pain</th>\n",
       "      <th>Severe</th>\n",
       "      <th>Visible</th>\n",
       "    </tr>\n",
       "    <tr>\n",
       "      <th>month</th>\n",
       "      <th></th>\n",
       "      <th></th>\n",
       "      <th></th>\n",
       "      <th></th>\n",
       "    </tr>\n",
       "  </thead>\n",
       "  <tbody>\n",
       "    <tr>\n",
       "      <th>April</th>\n",
       "      <td>34</td>\n",
       "      <td>3089</td>\n",
       "      <td>330</td>\n",
       "      <td>1455</td>\n",
       "    </tr>\n",
       "    <tr>\n",
       "      <th>August</th>\n",
       "      <td>56</td>\n",
       "      <td>3290</td>\n",
       "      <td>351</td>\n",
       "      <td>1484</td>\n",
       "    </tr>\n",
       "    <tr>\n",
       "      <th>December</th>\n",
       "      <td>63</td>\n",
       "      <td>3406</td>\n",
       "      <td>338</td>\n",
       "      <td>1219</td>\n",
       "    </tr>\n",
       "    <tr>\n",
       "      <th>February</th>\n",
       "      <td>42</td>\n",
       "      <td>3118</td>\n",
       "      <td>329</td>\n",
       "      <td>1298</td>\n",
       "    </tr>\n",
       "    <tr>\n",
       "      <th>January</th>\n",
       "      <td>39</td>\n",
       "      <td>3194</td>\n",
       "      <td>299</td>\n",
       "      <td>1317</td>\n",
       "    </tr>\n",
       "    <tr>\n",
       "      <th>July</th>\n",
       "      <td>42</td>\n",
       "      <td>2949</td>\n",
       "      <td>387</td>\n",
       "      <td>1478</td>\n",
       "    </tr>\n",
       "    <tr>\n",
       "      <th>June</th>\n",
       "      <td>47</td>\n",
       "      <td>3022</td>\n",
       "      <td>362</td>\n",
       "      <td>1490</td>\n",
       "    </tr>\n",
       "    <tr>\n",
       "      <th>March</th>\n",
       "      <td>57</td>\n",
       "      <td>3292</td>\n",
       "      <td>376</td>\n",
       "      <td>1439</td>\n",
       "    </tr>\n",
       "    <tr>\n",
       "      <th>May</th>\n",
       "      <td>50</td>\n",
       "      <td>3136</td>\n",
       "      <td>338</td>\n",
       "      <td>1440</td>\n",
       "    </tr>\n",
       "    <tr>\n",
       "      <th>November</th>\n",
       "      <td>38</td>\n",
       "      <td>3251</td>\n",
       "      <td>378</td>\n",
       "      <td>1350</td>\n",
       "    </tr>\n",
       "    <tr>\n",
       "      <th>October</th>\n",
       "      <td>56</td>\n",
       "      <td>3671</td>\n",
       "      <td>410</td>\n",
       "      <td>1720</td>\n",
       "    </tr>\n",
       "    <tr>\n",
       "      <th>September</th>\n",
       "      <td>53</td>\n",
       "      <td>3403</td>\n",
       "      <td>377</td>\n",
       "      <td>1653</td>\n",
       "    </tr>\n",
       "  </tbody>\n",
       "</table>\n",
       "</div>"
      ],
      "text/plain": [
       "collision_severity  Fatal  Pain  Severe  Visible\n",
       "month                                           \n",
       "April                  34  3089     330     1455\n",
       "August                 56  3290     351     1484\n",
       "December               63  3406     338     1219\n",
       "February               42  3118     329     1298\n",
       "January                39  3194     299     1317\n",
       "July                   42  2949     387     1478\n",
       "June                   47  3022     362     1490\n",
       "March                  57  3292     376     1439\n",
       "May                    50  3136     338     1440\n",
       "November               38  3251     378     1350\n",
       "October                56  3671     410     1720\n",
       "September              53  3403     377     1653"
      ]
     },
     "execution_count": 26,
     "metadata": {},
     "output_type": "execute_result"
    }
   ],
   "source": [
    "month_severity_count=data.groupby(['month','collision_severity']).size().reset_index(name='count')\n",
    "pvt_table_m=pd.pivot_table(month_severity_count,values='count',index=['month'],columns=['collision_severity'],aggfunc='sum')\n",
    "pvt_table_m"
   ]
  },
  {
   "cell_type": "markdown",
   "metadata": {},
   "source": [
    "- The high number of accidents in October could be due to various factors, such as:\n",
    "Changes in weather conditions (e.g., increased rainfall, fog in some regions)\n",
    "Increased traffic volume due to specific events or activities\n",
    "Reduced daylight hours in some areas\n",
    "\n",
    "- June and July's Lower Accident Rate: The lower numbers in June and July might be attributed to factors such as:\n",
    "  - School holidays, which could lead to changes in commuting patterns\n",
    "  - More daylight hours\n",
    "  - Potentially drier weather conditions in some areas\n",
    "\n",
    "- Similar to the day-of-week data, \"Pain\" and \"Visible\" collisions are much more frequent than \"Severe\" and \"Fatal\" collisions across all months, reinforcing the general trend that less severe accidents are more common."
   ]
  },
  {
   "cell_type": "code",
   "execution_count": 27,
   "metadata": {},
   "outputs": [
    {
     "data": {
      "text/html": [
       "<div>\n",
       "<style scoped>\n",
       "    .dataframe tbody tr th:only-of-type {\n",
       "        vertical-align: middle;\n",
       "    }\n",
       "\n",
       "    .dataframe tbody tr th {\n",
       "        vertical-align: top;\n",
       "    }\n",
       "\n",
       "    .dataframe thead th {\n",
       "        text-align: right;\n",
       "    }\n",
       "</style>\n",
       "<table border=\"1\" class=\"dataframe\">\n",
       "  <thead>\n",
       "    <tr style=\"text-align: right;\">\n",
       "      <th>collision_severity</th>\n",
       "      <th>Fatal</th>\n",
       "      <th>Pain</th>\n",
       "      <th>Severe</th>\n",
       "      <th>Visible</th>\n",
       "    </tr>\n",
       "    <tr>\n",
       "      <th>weather_1</th>\n",
       "      <th></th>\n",
       "      <th></th>\n",
       "      <th></th>\n",
       "      <th></th>\n",
       "    </tr>\n",
       "  </thead>\n",
       "  <tbody>\n",
       "    <tr>\n",
       "      <th>Clear</th>\n",
       "      <td>455.0</td>\n",
       "      <td>31831.0</td>\n",
       "      <td>3563.0</td>\n",
       "      <td>14414.0</td>\n",
       "    </tr>\n",
       "    <tr>\n",
       "      <th>Cloudy</th>\n",
       "      <td>64.0</td>\n",
       "      <td>3731.0</td>\n",
       "      <td>403.0</td>\n",
       "      <td>1742.0</td>\n",
       "    </tr>\n",
       "    <tr>\n",
       "      <th>Fog</th>\n",
       "      <td>5.0</td>\n",
       "      <td>143.0</td>\n",
       "      <td>22.0</td>\n",
       "      <td>91.0</td>\n",
       "    </tr>\n",
       "    <tr>\n",
       "      <th>Not Stated</th>\n",
       "      <td>16.0</td>\n",
       "      <td>431.0</td>\n",
       "      <td>50.0</td>\n",
       "      <td>162.0</td>\n",
       "    </tr>\n",
       "    <tr>\n",
       "      <th>Other</th>\n",
       "      <td>5.0</td>\n",
       "      <td>148.0</td>\n",
       "      <td>22.0</td>\n",
       "      <td>62.0</td>\n",
       "    </tr>\n",
       "    <tr>\n",
       "      <th>Raining</th>\n",
       "      <td>32.0</td>\n",
       "      <td>2505.0</td>\n",
       "      <td>208.0</td>\n",
       "      <td>862.0</td>\n",
       "    </tr>\n",
       "    <tr>\n",
       "      <th>Windy</th>\n",
       "      <td>NaN</td>\n",
       "      <td>32.0</td>\n",
       "      <td>7.0</td>\n",
       "      <td>10.0</td>\n",
       "    </tr>\n",
       "  </tbody>\n",
       "</table>\n",
       "</div>"
      ],
      "text/plain": [
       "collision_severity  Fatal     Pain  Severe  Visible\n",
       "weather_1                                          \n",
       "Clear               455.0  31831.0  3563.0  14414.0\n",
       "Cloudy               64.0   3731.0   403.0   1742.0\n",
       "Fog                   5.0    143.0    22.0     91.0\n",
       "Not Stated           16.0    431.0    50.0    162.0\n",
       "Other                 5.0    148.0    22.0     62.0\n",
       "Raining              32.0   2505.0   208.0    862.0\n",
       "Windy                 NaN     32.0     7.0     10.0"
      ]
     },
     "execution_count": 27,
     "metadata": {},
     "output_type": "execute_result"
    }
   ],
   "source": [
    "weather_severity_count=data.groupby(['weather_1','collision_severity']).size().reset_index(name='count')\n",
    "pvt_table_w=pd.pivot_table(weather_severity_count,values='count',index=['weather_1'],columns=['collision_severity'],aggfunc='sum')\n",
    "pvt_table_w\n"
   ]
  },
  {
   "cell_type": "markdown",
   "metadata": {},
   "source": [
    "- The high number of accidents in clear weather emphasizes that weather is not the only, or even primary, cause of many accidents. Driver behavior, traffic density, and other factors are crucial.\n",
    "\n",
    "- The \"Not Stated\" category highlights the need for better data collection practices to ensure accurate and complete information.\n",
    "\n",
    "- While clear weather dominates, the data shows that adverse weather conditions like \"Cloudy,\" \"Raining,\" and \"Fog\" do correlate with accidents, as expected.\n",
    "\n",
    "- The low number of accidents in windy conditions might suggest that extreme wind is less frequently a direct cause of accidents."
   ]
  },
  {
   "cell_type": "code",
   "execution_count": 28,
   "metadata": {},
   "outputs": [
    {
     "data": {
      "image/png": "[encoded data removed]",
      "text/plain": [
       "<Figure size 1080x864 with 6 Axes>"
      ]
     },
     "metadata": {
      "needs_background": "light"
     },
     "output_type": "display_data"
    }
   ],
   "source": [
    "# Bar plot for categorical columns\n",
    "\n",
    "categorical_columns = ['collision_severity', 'weather_1', 'day_of_week', 'type_of_collision', 'road_surface', 'lighting']\n",
    "\n",
    "plt.figure(figsize=(15, 12))\n",
    "for i, col in enumerate(categorical_columns, 1):\n",
    "    plt.subplot(3, 2, i)\n",
    "    sns.countplot(x=data[col], palette='Set2')\n",
    "    plt.title(f'Frequency of {col}')\n",
    "    plt.xticks(rotation=45)\n",
    "plt.tight_layout()\n",
    "plt.show()\n"
   ]
  },
  {
   "cell_type": "markdown",
   "metadata": {},
   "source": [
    "`Key Takeaways:`\n",
    "\n",
    "- Clear Weather and Dry Roads: Collisions most often occur in clear weather and on dry roads, suggesting that weather and road conditions are not the only factors contributing to accidents.\n",
    "\n",
    "- Daylight Hours: Collisions are more frequent during daylight hours, which likely correlates with higher traffic volume.\n",
    "\n",
    "- Data Completeness: The \"Not Stated\" categories in some charts highlight potential data gaps and the need for more complete information in future studies.\n",
    "\n",
    "- Collision Types: Broadside and rear-end collisions are common types of accidents."
   ]
  },
  {
   "cell_type": "code",
   "execution_count": 29,
   "metadata": {},
   "outputs": [
    {
     "data": {
      "image/png": "[encoded data removed]",
      "text/plain": [
       "<Figure size 720x432 with 1 Axes>"
      ]
     },
     "metadata": {
      "needs_background": "light"
     },
     "output_type": "display_data"
    }
   ],
   "source": [
    "#Time of day versus severity\n",
    "time_severity = data.groupby(['time_cat', 'collision_severity']).size().unstack(fill_value=0)\n",
    "time_severity.plot(kind='line', figsize=(10, 6), marker='o', colormap='viridis')\n",
    "plt.title('Collision Severity Across Time Categories', fontsize=14)\n",
    "plt.xlabel('Time Categories', fontsize=12)\n",
    "plt.ylabel('Count', fontsize=12)\n",
    "plt.legend(title='Collision Severity', bbox_to_anchor=(1.05, 1), loc='upper left')\n",
    "plt.xticks(rotation=45)\n",
    "plt.tight_layout()\n",
    "plt.show()"
   ]
  },
  {
   "cell_type": "markdown",
   "metadata": {},
   "source": [
    "**Time category \"2:01 pm to 6:00 pm\" is the most critical period:**\n",
    "\n",
    " It shows the highest collision counts for multiple severities. Specifically, injuries categorized as \" Pain\" peak with over 10,000 collisions, and \"Visible\" injuries also see significant numbers near 4,000. This indicates a high concentration of traffic activity or risk factors during this period, possibly due to peak hours or increased road usage.\n",
    "\n",
    "**\"6:01 am to 10:00 am\" also shows elevated activity:**\n",
    "\n",
    "Likely corresponding to morning commute hours, this interval ranks second in terms of injury counts, making it another key focus for safety measures.\n",
    "\n",
    "**Low collision counts during late night and early morning hours:**\n",
    "\n",
    "Time intervals like \"10:01 pm to 2:00 am\" and \"2:01 am to 6:00 am\" show comparatively fewer collisions across all severities. This might reflect decreased traffic volume during these hours.\n",
    "\n",
    "**Fatalities (purple line)  remain low throughout:**\n",
    "\n",
    "These category show near-constant low counts across all time intervals, suggesting they are rarer events compared to injuries.\n",
    "\n",
    "**Take out:**\n",
    "\n",
    "Overall, the plot suggests traffic safety interventions might be most effective if targeted at the afternoon to early evening and morning commute periods. It also highlights that less severe injuries dominate traffic incidents across all time categories, potentially pointing to areas where preventative measures could reduce overall collision rates."
   ]
  },
  {
   "cell_type": "code",
   "execution_count": 30,
   "metadata": {},
   "outputs": [
    {
     "data": {
      "text/plain": [
       "Index(['collision_date', 'collision_time', 'accident_year', 'month',\n",
       "       'day_of_week', 'primary_rd', 'secondary_rd', 'distance', 'direction',\n",
       "       'weather_1', 'collision_severity', 'type_of_collision', 'mviw',\n",
       "       'ped_action', 'road_surface', 'road_cond_1', 'lighting',\n",
       "       'dph_col_grp_description', 'control_device', 'number_killed',\n",
       "       'number_injured', 'party1_type', 'party1_dir_of_travel',\n",
       "       'party1_move_pre_acc', 'party2_type', 'party2_dir_of_travel',\n",
       "       'party2_move_pre_acc', 'time_cat'],\n",
       "      dtype='object')"
      ]
     },
     "execution_count": 30,
     "metadata": {},
     "output_type": "execute_result"
    }
   ],
   "source": [
    "data.columns"
   ]
  },
  {
   "cell_type": "code",
   "execution_count": 31,
   "metadata": {},
   "outputs": [
    {
     "data": {
      "image/png": "[encoded data removed]",
      "text/plain": [
       "<Figure size 864x432 with 1 Axes>"
      ]
     },
     "metadata": {
      "needs_background": "light"
     },
     "output_type": "display_data"
    }
   ],
   "source": [
    "#Direction of parties involved in accidents\n",
    "plt.figure(figsize=(12, 6))\n",
    "sns.countplot(data=data, x='party1_dir_of_travel', hue='collision_severity', palette='tab20c')\n",
    "plt.title('Direction of Travel for Party 1 by Collision Severity', fontsize=14)\n",
    "plt.xlabel('Direction of Travel', fontsize=12)\n",
    "plt.ylabel('Count', fontsize=12)\n",
    "plt.xticks(rotation=45, ha='right')\n",
    "plt.legend(title='Collision Severity', bbox_to_anchor=(1.05, 1), loc='upper left')\n",
    "plt.tight_layout()\n",
    "plt.show()"
   ]
  },
  {
   "cell_type": "markdown",
   "metadata": {},
   "source": [
    "\n",
    "\n",
    "- Across all directions of travel (West, East, North, South), \"Pain\" is the most common collision severity. This could indicate that minor injuries are far more frequent than severe outcomes for all directions.\n",
    "\n",
    "\n",
    "- Categories like \"Severe\",\" \"Fatal,\" and \"Visible\" show much lower counts in all directions. This could be indicative of either improved road safety measures or the rarity of severe accidents.\n",
    "\n",
    "\n",
    "- Certain directions (e.g., West or East) may show relatively higher counts of collisions. This could warrant further exploration—do these directions correspond to busier roads or specific times of day?\n",
    "\n",
    "\n",
    "- The \"Not Stated\" category has significantly lower counts across all severities. This could be due to incomplete reporting or cases where direction wasn't a contributing factor."
   ]
  },
  {
   "cell_type": "code",
   "execution_count": 32,
   "metadata": {},
   "outputs": [
    {
     "data": {
      "image/png": "[encoded data removed]",
      "text/plain": [
       "<Figure size 720x432 with 1 Axes>"
      ]
     },
     "metadata": {
      "needs_background": "light"
     },
     "output_type": "display_data"
    }
   ],
   "source": [
    "#Effect of pedestrian action on collision severity\n",
    "plt.figure(figsize=(10, 6))\n",
    "sns.countplot(data=data, y='ped_action', hue='collision_severity', palette='cubehelix')\n",
    "plt.title('Effect of Pedestrian Actions on Collision Severity', fontsize=14)\n",
    "plt.xlabel('Count', fontsize=12)\n",
    "plt.ylabel('Pedestrian Actions', fontsize=12)\n",
    "plt.legend(title='Collision Severity', bbox_to_anchor=(1.05, 1), loc='upper left')\n",
    "plt.tight_layout()\n",
    "plt.show()"
   ]
  },
  {
   "cell_type": "markdown",
   "metadata": {},
   "source": [
    "**No Pedestrian Involved dominates the data:** \n",
    "This category shows the highest number of collisions, which likely reflects the majority of incidents where pedestrians are not a factor. It highlights the predominance of vehicle-to-vehicle collisions.\n",
    "\n",
    "**Crossing in Crosswalk at Intersection is the second-largest contributor:** \n",
    "Among pedestrian-specific actions, this category stands out. This may indicate higher pedestrian activity at intersections, which are often busy and complex traffic zones.\n",
    "\n",
    "**Crossing Not in Crosswalk also shows notable collision counts:** \n",
    "This suggests that jaywalking or crossing outside designated zones can increase collision risks, though it remains less frequent than crosswalk-related incidents.\n",
    "\n",
    "**Rare pedestrian actions like Approaching/Leaving School Bus have minimal data:**\n",
    "These categories show very few collisions, possibly because they are less common pedestrian behaviors or reflect successful safety measures in these scenarios.\n",
    "\n",
    "**Severe injuries and fatalities are relatively small across all categories:**\n",
    "The purple and yellow segments (representing fatal and severe injuries) are minor compared to less severe outcomes like \"Pain,\" suggesting that while severe outcomes exist, they are less frequent.\n",
    "\n",
    "This analysis highlights the importance of focusing safety interventions on high-risk pedestrian behaviors and locations, such as crosswalks at intersections."
   ]
  },
  {
   "cell_type": "code",
   "execution_count": 33,
   "metadata": {},
   "outputs": [
    {
     "data": {
      "image/png": "[encoded data removed]",
      "text/plain": [
       "<Figure size 720x432 with 1 Axes>"
      ]
     },
     "metadata": {
      "needs_background": "light"
     },
     "output_type": "display_data"
    },
    {
     "data": {
      "image/png": "[encoded data removed]",
      "text/plain": [
       "<Figure size 720x432 with 1 Axes>"
      ]
     },
     "metadata": {
      "needs_background": "light"
     },
     "output_type": "display_data"
    },
    {
     "data": {
      "image/png": "[encoded data removed]",
      "text/plain": [
       "<Figure size 720x432 with 1 Axes>"
      ]
     },
     "metadata": {
      "needs_background": "light"
     },
     "output_type": "display_data"
    }
   ],
   "source": [
    "# Distribution of accidents over the year\n",
    "plt.figure(figsize=(10, 6))\n",
    "sns.countplot(x=data['accident_year'], palette='coolwarm')\n",
    "plt.title('Number of Accidents per Year')\n",
    "plt.xticks(rotation=45)\n",
    "plt.show()\n",
    "\n",
    "# Distribution of accidents by month\n",
    "plt.figure(figsize=(10, 6))\n",
    "sns.countplot(x=data['month'], palette='Set1')\n",
    "plt.title('Number of Accidents per Month')\n",
    "plt.xticks(rotation=45)\n",
    "plt.show()\n",
    "\n",
    "# Distribution of accidents by day of week\n",
    "plt.figure(figsize=(10, 6))\n",
    "sns.countplot(x=data['day_of_week'], palette='Set2')\n",
    "plt.title('Number of Accidents by Day of Week')\n",
    "plt.xticks(rotation=45)\n",
    "plt.show()\n"
   ]
  },
  {
   "cell_type": "markdown",
   "metadata": {},
   "source": [
    "- There appears to be a noticeable increase in accidents in the later years (around 2017-2019).\n",
    "\n",
    "- There's a visible drop in accidents in the most recent years (2020-2023). This could potentially be related to external factors or changes in data collection.\n",
    "\n",
    "- Friday shows the highest number of accidents, suggesting it's the most accident-prone day of the week.\n",
    "\n",
    "- Sunday has the lowest number of accidents, indicating it's the safest day (in terms of accident frequency).\n",
    "\n",
    "- Thursday, Tuesday, and Wednesday also have relatively high accident counts, comparable to Friday.\n",
    "\n",
    "- Monday and Saturday fall somewhere in the middle, with a moderate number of accidents.\n",
    "\n",
    "- October shows the highest number of accidents, indicating it's the most accident-prone month.\n",
    "\n",
    "- June and July have relatively lower accident counts compared to other months.\n",
    "Relatively High Counts: August, September, April, and November also show relatively high accident counts.\n",
    "\n",
    "- The remaining months (December, February, January, March, May) have moderate accident counts."
   ]
  },
  {
   "cell_type": "code",
   "execution_count": 34,
   "metadata": {},
   "outputs": [
    {
     "data": {
      "image/png": "[encoded data removed]",
      "text/plain": [
       "<Figure size 720x432 with 1 Axes>"
      ]
     },
     "metadata": {
      "needs_background": "light"
     },
     "output_type": "display_data"
    }
   ],
   "source": [
    "# weather and collision severity\n",
    "plt.figure(figsize=(10, 6))\n",
    "sns.countplot(x='weather_1', hue='collision_severity', data=data, palette='Set1')\n",
    "plt.title('Collision Severity by Weather Conditions')\n",
    "plt.xticks(rotation=45)\n",
    "plt.show()"
   ]
  },
  {
   "cell_type": "markdown",
   "metadata": {},
   "source": [
    "- Clear Weather Risk: While seemingly safe, clear weather can still lead to a high number of collisions, likely due to factors like increased traffic volume or driver complacency.\n",
    "\n",
    "- Adverse Weather Impact: While less frequent, adverse weather conditions like rain can still contribute to collisions, particularly those with less severe injuries.\n",
    "\n",
    "- Data Quality: The \"Not Stated\" category highlights the importance of accurate data collection for meaningful analysis."
   ]
  },
  {
   "cell_type": "code",
   "execution_count": 35,
   "metadata": {},
   "outputs": [
    {
     "data": {
      "image/png": "[encoded data removed]",
      "text/plain": [
       "<Figure size 864x576 with 1 Axes>"
      ]
     },
     "metadata": {
      "needs_background": "light"
     },
     "output_type": "display_data"
    }
   ],
   "source": [
    "fig = plt.figure(figsize=(12, 8))\n",
    "ax = fig.add_subplot(111, projection='3d')\n",
    "ax.scatter(data['distance'], data['number_killed'],data['number_injured'], alpha=0.5, color='green')\n",
    "ax.set_xlabel('Distance')\n",
    "ax.set_ylabel('Number Killed')\n",
    "ax.set_zlabel('Number Injured')\n",
    "plt.title('3D Scatter: Distance vs Killed vs Injured')\n",
    "plt.show()"
   ]
  },
  {
   "cell_type": "markdown",
   "metadata": {},
   "source": [
    "- Severity Clustering: The clustering of data points at low values suggests that incidents with low numbers of fatalities and injuries are more common.\n",
    "\n",
    "- Potential for High-Severity Outliers: The presence of outliers indicates the possibility of events with unusually high numbers of casualties, which might warrant further investigation.\n",
    "\n",
    "- Limited Distance Correlation: The lack of a clear pattern with distance suggests that distance alone may not be a strong predictor of the severity of an incident (number of killed or injured)."
   ]
  },
  {
   "cell_type": "markdown",
   "metadata": {},
   "source": [
    "**droping more columns**"
   ]
  },
  {
   "cell_type": "code",
   "execution_count": 36,
   "metadata": {},
   "outputs": [],
   "source": [
    "data = data.drop(columns = ['collision_date', 'collision_time','accident_year','primary_rd', 'secondary_rd','direction', 'mviw','road_cond_1','dph_col_grp_description','party1_type','party2_type','time_cat'], axis = 1)"
   ]
  },
  {
   "cell_type": "code",
   "execution_count": 37,
   "metadata": {},
   "outputs": [
    {
     "data": {
      "text/plain": [
       "Index(['month', 'day_of_week', 'distance', 'weather_1', 'collision_severity',\n",
       "       'type_of_collision', 'ped_action', 'road_surface', 'lighting',\n",
       "       'control_device', 'number_killed', 'number_injured',\n",
       "       'party1_dir_of_travel', 'party1_move_pre_acc', 'party2_dir_of_travel',\n",
       "       'party2_move_pre_acc'],\n",
       "      dtype='object')"
      ]
     },
     "execution_count": 37,
     "metadata": {},
     "output_type": "execute_result"
    }
   ],
   "source": [
    "data.columns"
   ]
  },
  {
   "cell_type": "markdown",
   "metadata": {},
   "source": [
    "## 4.0 **Hypothesis testing**\n",
    "\n",
    "#### 4.1 Chi-Square Test for Weather and Collision Severity"
   ]
  },
  {
   "cell_type": "code",
   "execution_count": 38,
   "metadata": {},
   "outputs": [
    {
     "name": "stdout",
     "output_type": "stream",
     "text": [
      "Chi2 Stat: 100.94079250555873\n",
      "P-Value: 1.4889686165316802e-13\n",
      "Reject the null hypothesis: Weather significantly affects collision severity.\n"
     ]
    }
   ],
   "source": [
    "\n",
    "import scipy.stats as stats\n",
    "\n",
    "\n",
    "contingency_table = pd.crosstab(data['weather_1'], data['collision_severity'])\n",
    "\n",
    "chi2_stat, p_value, dof, expected = stats.chi2_contingency(contingency_table)\n",
    "\n",
    "print(f\"Chi2 Stat: {chi2_stat}\")\n",
    "print(f\"P-Value: {p_value}\")\n",
    "\n",
    "\n",
    "alpha = 0.05\n",
    "if p_value <= alpha:\n",
    "    print(\"Reject the null hypothesis: Weather significantly affects collision severity.\")\n",
    "else:\n",
    "    print(\"Fail to reject the null hypothesis: No significant effect of weather on collision severity.\")"
   ]
  },
  {
   "cell_type": "markdown",
   "metadata": {},
   "source": [
    "#### 4.2 ANOVA for Road Surface and Number of Injuries"
   ]
  },
  {
   "cell_type": "code",
   "execution_count": 39,
   "metadata": {},
   "outputs": [
    {
     "name": "stdout",
     "output_type": "stream",
     "text": [
      "F-statistic: 5.782776049218737\n",
      "P-value: 0.00011943359812118098\n",
      "Reject the null hypothesis: Road surface conditions affect the number of injuries.\n"
     ]
    }
   ],
   "source": [
    "\n",
    "road_surface_groups = [data[data['road_surface'] == road_surface]['number_injured'] for road_surface in data['road_surface'].unique()]\n",
    "\n",
    "# Conducting ANOVA\n",
    "f_stat, p_value = stats.f_oneway(*road_surface_groups)\n",
    "\n",
    "print(f\"F-statistic: {f_stat}\")\n",
    "print(f\"P-value: {p_value}\")\n",
    "\n",
    "# Interpreting the result\n",
    "alpha = 0.05\n",
    "if p_value <= alpha:\n",
    "    print(\"Reject the null hypothesis: Road surface conditions affect the number of injuries.\")\n",
    "else:\n",
    "    print(\"Fail to reject the null hypothesis: No significant effect of road surface on the number of injuries.\")\n",
    "\n"
   ]
  },
  {
   "cell_type": "code",
   "execution_count": 40,
   "metadata": {},
   "outputs": [
    {
     "data": {
      "text/html": [
       "<div>\n",
       "<style scoped>\n",
       "    .dataframe tbody tr th:only-of-type {\n",
       "        vertical-align: middle;\n",
       "    }\n",
       "\n",
       "    .dataframe tbody tr th {\n",
       "        vertical-align: top;\n",
       "    }\n",
       "\n",
       "    .dataframe thead th {\n",
       "        text-align: right;\n",
       "    }\n",
       "</style>\n",
       "<table border=\"1\" class=\"dataframe\">\n",
       "  <thead>\n",
       "    <tr style=\"text-align: right;\">\n",
       "      <th></th>\n",
       "      <th>month</th>\n",
       "      <th>day_of_week</th>\n",
       "      <th>weather_1</th>\n",
       "      <th>collision_severity</th>\n",
       "      <th>type_of_collision</th>\n",
       "      <th>ped_action</th>\n",
       "      <th>road_surface</th>\n",
       "      <th>lighting</th>\n",
       "      <th>control_device</th>\n",
       "      <th>party1_dir_of_travel</th>\n",
       "      <th>party1_move_pre_acc</th>\n",
       "      <th>party2_dir_of_travel</th>\n",
       "      <th>party2_move_pre_acc</th>\n",
       "    </tr>\n",
       "  </thead>\n",
       "  <tbody>\n",
       "    <tr>\n",
       "      <th>0</th>\n",
       "      <td>January</td>\n",
       "      <td>Wednesday</td>\n",
       "      <td>Clear</td>\n",
       "      <td>Pain</td>\n",
       "      <td>Overturned</td>\n",
       "      <td>No Pedestrian Involved</td>\n",
       "      <td>Dry</td>\n",
       "      <td>Dark - Street Lights</td>\n",
       "      <td>None</td>\n",
       "      <td>West</td>\n",
       "      <td>Proceeding Straight</td>\n",
       "      <td>Unknown</td>\n",
       "      <td>Unknown</td>\n",
       "    </tr>\n",
       "    <tr>\n",
       "      <th>1</th>\n",
       "      <td>February</td>\n",
       "      <td>Wednesday</td>\n",
       "      <td>Clear</td>\n",
       "      <td>Pain</td>\n",
       "      <td>Other</td>\n",
       "      <td>No Pedestrian Involved</td>\n",
       "      <td>Dry</td>\n",
       "      <td>Daylight</td>\n",
       "      <td>None</td>\n",
       "      <td>East</td>\n",
       "      <td>Proceeding Straight</td>\n",
       "      <td>Unknown</td>\n",
       "      <td>Unknown</td>\n",
       "    </tr>\n",
       "    <tr>\n",
       "      <th>2</th>\n",
       "      <td>November</td>\n",
       "      <td>Sunday</td>\n",
       "      <td>Clear</td>\n",
       "      <td>Visible</td>\n",
       "      <td>Hit Object</td>\n",
       "      <td>No Pedestrian Involved</td>\n",
       "      <td>Dry</td>\n",
       "      <td>Daylight</td>\n",
       "      <td>None</td>\n",
       "      <td>North</td>\n",
       "      <td>Proceeding Straight</td>\n",
       "      <td>Unknown</td>\n",
       "      <td>Unknown</td>\n",
       "    </tr>\n",
       "    <tr>\n",
       "      <th>3</th>\n",
       "      <td>July</td>\n",
       "      <td>Friday</td>\n",
       "      <td>Clear</td>\n",
       "      <td>Pain</td>\n",
       "      <td>Broadside</td>\n",
       "      <td>No Pedestrian Involved</td>\n",
       "      <td>Dry</td>\n",
       "      <td>Daylight</td>\n",
       "      <td>Functioning</td>\n",
       "      <td>East</td>\n",
       "      <td>Making Left Turn</td>\n",
       "      <td>East</td>\n",
       "      <td>Making Left Turn</td>\n",
       "    </tr>\n",
       "    <tr>\n",
       "      <th>4</th>\n",
       "      <td>May</td>\n",
       "      <td>Thursday</td>\n",
       "      <td>Not Stated</td>\n",
       "      <td>Pain</td>\n",
       "      <td>Not Stated</td>\n",
       "      <td>Not Stated</td>\n",
       "      <td>Not Stated</td>\n",
       "      <td>Unknown</td>\n",
       "      <td>Not Stated</td>\n",
       "      <td>North</td>\n",
       "      <td>Not Stated</td>\n",
       "      <td>West</td>\n",
       "      <td>Not Stated</td>\n",
       "    </tr>\n",
       "  </tbody>\n",
       "</table>\n",
       "</div>"
      ],
      "text/plain": [
       "      month day_of_week   weather_1 collision_severity type_of_collision  \\\n",
       "0   January   Wednesday       Clear               Pain        Overturned   \n",
       "1  February   Wednesday       Clear               Pain             Other   \n",
       "2  November      Sunday       Clear            Visible        Hit Object   \n",
       "3      July      Friday       Clear               Pain         Broadside   \n",
       "4       May    Thursday  Not Stated               Pain        Not Stated   \n",
       "\n",
       "               ped_action road_surface              lighting control_device  \\\n",
       "0  No Pedestrian Involved          Dry  Dark - Street Lights           None   \n",
       "1  No Pedestrian Involved          Dry              Daylight           None   \n",
       "2  No Pedestrian Involved          Dry              Daylight           None   \n",
       "3  No Pedestrian Involved          Dry              Daylight    Functioning   \n",
       "4              Not Stated   Not Stated               Unknown     Not Stated   \n",
       "\n",
       "  party1_dir_of_travel  party1_move_pre_acc party2_dir_of_travel  \\\n",
       "0                 West  Proceeding Straight              Unknown   \n",
       "1                 East  Proceeding Straight              Unknown   \n",
       "2                North  Proceeding Straight              Unknown   \n",
       "3                 East     Making Left Turn                 East   \n",
       "4                North           Not Stated                 West   \n",
       "\n",
       "  party2_move_pre_acc  \n",
       "0             Unknown  \n",
       "1             Unknown  \n",
       "2             Unknown  \n",
       "3    Making Left Turn  \n",
       "4          Not Stated  "
      ]
     },
     "execution_count": 40,
     "metadata": {},
     "output_type": "execute_result"
    }
   ],
   "source": [
    "# Separating the categorical and numerical columns\n",
    "categorical_cols = data.drop(columns =['number_killed','number_injured','distance'])\n",
    "categorical_cols.head()"
   ]
  },
  {
   "cell_type": "code",
   "execution_count": 41,
   "metadata": {},
   "outputs": [
    {
     "data": {
      "text/html": [
       "<div>\n",
       "<style scoped>\n",
       "    .dataframe tbody tr th:only-of-type {\n",
       "        vertical-align: middle;\n",
       "    }\n",
       "\n",
       "    .dataframe tbody tr th {\n",
       "        vertical-align: top;\n",
       "    }\n",
       "\n",
       "    .dataframe thead th {\n",
       "        text-align: right;\n",
       "    }\n",
       "</style>\n",
       "<table border=\"1\" class=\"dataframe\">\n",
       "  <thead>\n",
       "    <tr style=\"text-align: right;\">\n",
       "      <th></th>\n",
       "      <th>number_killed</th>\n",
       "      <th>number_injured</th>\n",
       "      <th>distance</th>\n",
       "    </tr>\n",
       "  </thead>\n",
       "  <tbody>\n",
       "    <tr>\n",
       "      <th>0</th>\n",
       "      <td>0.0</td>\n",
       "      <td>1</td>\n",
       "      <td>68.0</td>\n",
       "    </tr>\n",
       "    <tr>\n",
       "      <th>1</th>\n",
       "      <td>0.0</td>\n",
       "      <td>1</td>\n",
       "      <td>20.0</td>\n",
       "    </tr>\n",
       "    <tr>\n",
       "      <th>2</th>\n",
       "      <td>0.0</td>\n",
       "      <td>2</td>\n",
       "      <td>127.5</td>\n",
       "    </tr>\n",
       "    <tr>\n",
       "      <th>3</th>\n",
       "      <td>0.0</td>\n",
       "      <td>1</td>\n",
       "      <td>0.0</td>\n",
       "    </tr>\n",
       "    <tr>\n",
       "      <th>4</th>\n",
       "      <td>0.0</td>\n",
       "      <td>1</td>\n",
       "      <td>0.0</td>\n",
       "    </tr>\n",
       "  </tbody>\n",
       "</table>\n",
       "</div>"
      ],
      "text/plain": [
       "   number_killed  number_injured  distance\n",
       "0            0.0               1      68.0\n",
       "1            0.0               1      20.0\n",
       "2            0.0               2     127.5\n",
       "3            0.0               1       0.0\n",
       "4            0.0               1       0.0"
      ]
     },
     "execution_count": 41,
     "metadata": {},
     "output_type": "execute_result"
    }
   ],
   "source": [
    "numeric_cols = data[['number_killed','number_injured','distance']]\n",
    "numeric_cols.head()"
   ]
  },
  {
   "cell_type": "code",
   "execution_count": 42,
   "metadata": {},
   "outputs": [
    {
     "data": {
      "text/plain": [
       "<AxesSubplot:>"
      ]
     },
     "execution_count": 42,
     "metadata": {},
     "output_type": "execute_result"
    },
    {
     "data": {
      "image/png": "[encoded data removed]",
      "text/plain": [
       "<Figure size 432x288 with 2 Axes>"
      ]
     },
     "metadata": {
      "needs_background": "light"
     },
     "output_type": "display_data"
    }
   ],
   "source": [
    "# Using the numerical columns to explore correlations since the correlation is only useful for quantitative variables. \n",
    "# Correlation shows they relate to each other.Because regression techniques represent the relationship in which the independent variable affects the dependent variable, \n",
    "# the weight for that variable in the regression formula may vary depending on the direction and strength of the correlation.\n",
    "\n",
    "corr = numeric_cols.corr()\n",
    "sns.heatmap(corr,annot = True)"
   ]
  },
  {
   "cell_type": "markdown",
   "metadata": {},
   "source": [
    "The formula used to calculate the correlation above is the pearson correlation coefficient that shows the linear relationship between two variables. 1 means a perfect positive linear correlation, -1 means that there is a perfect negative correlation and 0 meand thet there is no linear correlation. the graph above shows that the variable that shows the strongest linear with number killed is number injured though a negative relationship."
   ]
  },
  {
   "cell_type": "markdown",
   "metadata": {},
   "source": [
    "It is recommended that we use the pair plot together with the correlation graph to comprehensively investigate correlation between variables.The pairplot provided by the seaborn library visualizes and shows the correlation of seach variable below:"
   ]
  },
  {
   "cell_type": "code",
   "execution_count": 43,
   "metadata": {},
   "outputs": [
    {
     "data": {
      "text/plain": [
       "<seaborn.axisgrid.PairGrid at 0x1f3bfd36a90>"
      ]
     },
     "execution_count": 43,
     "metadata": {},
     "output_type": "execute_result"
    },
    {
     "data": {
      "image/png": "[encoded data removed]",
      "text/plain": [
       "<Figure size 540x540 with 12 Axes>"
      ]
     },
     "metadata": {
      "needs_background": "light"
     },
     "output_type": "display_data"
    }
   ],
   "source": [
    "sns.pairplot(numeric_cols,markers = 'x',diag_kind= 'kde')"
   ]
  },
  {
   "cell_type": "markdown",
   "metadata": {},
   "source": [
    "Lookingg at the pairplot we can see that most of the data is skewed to the left rater than evenly distributed.\n",
    "\n",
    "We can therefore visualize the distribution through a histogram."
   ]
  },
  {
   "cell_type": "code",
   "execution_count": 44,
   "metadata": {},
   "outputs": [
    {
     "data": {
      "text/plain": [
       "array([[<AxesSubplot:title={'center':'number_killed'}>,\n",
       "        <AxesSubplot:title={'center':'number_injured'}>],\n",
       "       [<AxesSubplot:title={'center':'distance'}>, <AxesSubplot:>]],\n",
       "      dtype=object)"
      ]
     },
     "execution_count": 44,
     "metadata": {},
     "output_type": "execute_result"
    },
    {
     "data": {
      "image/png": "[encoded data removed]",
      "text/plain": [
       "<Figure size 1080x720 with 4 Axes>"
      ]
     },
     "metadata": {
      "needs_background": "light"
     },
     "output_type": "display_data"
    }
   ],
   "source": [
    "numeric_cols.hist(figsize=(15,10))"
   ]
  },
  {
   "cell_type": "markdown",
   "metadata": {},
   "source": [
    "Logistic regression is an appropriate regression technique for a data closer to a normal distribution therefore data shown above isn't appropriate for applying it. \n",
    "\n",
    "We can apply the Log Transformation to bring such extreme data close to a normal distribution."
   ]
  },
  {
   "cell_type": "code",
   "execution_count": 45,
   "metadata": {},
   "outputs": [
    {
     "data": {
      "text/plain": [
       "array([[<AxesSubplot:title={'center':'number_killed'}>,\n",
       "        <AxesSubplot:title={'center':'number_injured'}>],\n",
       "       [<AxesSubplot:title={'center':'distance'}>, <AxesSubplot:>]],\n",
       "      dtype=object)"
      ]
     },
     "execution_count": 45,
     "metadata": {},
     "output_type": "execute_result"
    },
    {
     "data": {
      "image/png": "[encoded data removed]",
      "text/plain": [
       "<Figure size 1080x720 with 4 Axes>"
      ]
     },
     "metadata": {
      "needs_background": "light"
     },
     "output_type": "display_data"
    }
   ],
   "source": [
    "numeric_data_log = np.log(numeric_cols +1) #Since the values of 0 and 1 return negative values we add 1 to the whole data and apply the function\n",
    "numeric_data_log.hist(figsize=(15,10))"
   ]
  },
  {
   "cell_type": "code",
   "execution_count": 46,
   "metadata": {},
   "outputs": [
    {
     "data": {
      "text/plain": [
       "<AxesSubplot:>"
      ]
     },
     "execution_count": 46,
     "metadata": {},
     "output_type": "execute_result"
    },
    {
     "data": {
      "image/png": "[encoded data removed]",
      "text/plain": [
       "<Figure size 432x288 with 2 Axes>"
      ]
     },
     "metadata": {
      "needs_background": "light"
     },
     "output_type": "display_data"
    }
   ],
   "source": [
    "corr = numeric_data_log.corr()\n",
    "sns.heatmap(corr,annot = True)"
   ]
  },
  {
   "cell_type": "markdown",
   "metadata": {},
   "source": [
    "There is a notable change in the distribution after applying  log transformation on the numerical columns"
   ]
  },
  {
   "cell_type": "code",
   "execution_count": 47,
   "metadata": {},
   "outputs": [
    {
     "data": {
      "text/html": [
       "<div>\n",
       "<style scoped>\n",
       "    .dataframe tbody tr th:only-of-type {\n",
       "        vertical-align: middle;\n",
       "    }\n",
       "\n",
       "    .dataframe tbody tr th {\n",
       "        vertical-align: top;\n",
       "    }\n",
       "\n",
       "    .dataframe thead th {\n",
       "        text-align: right;\n",
       "    }\n",
       "</style>\n",
       "<table border=\"1\" class=\"dataframe\">\n",
       "  <thead>\n",
       "    <tr style=\"text-align: right;\">\n",
       "      <th></th>\n",
       "      <th>month</th>\n",
       "      <th>day_of_week</th>\n",
       "      <th>weather_1</th>\n",
       "      <th>collision_severity</th>\n",
       "      <th>type_of_collision</th>\n",
       "      <th>ped_action</th>\n",
       "      <th>road_surface</th>\n",
       "      <th>lighting</th>\n",
       "      <th>control_device</th>\n",
       "      <th>party1_dir_of_travel</th>\n",
       "      <th>party1_move_pre_acc</th>\n",
       "      <th>party2_dir_of_travel</th>\n",
       "      <th>party2_move_pre_acc</th>\n",
       "      <th>number_killed</th>\n",
       "      <th>number_injured</th>\n",
       "      <th>distance</th>\n",
       "    </tr>\n",
       "  </thead>\n",
       "  <tbody>\n",
       "    <tr>\n",
       "      <th>0</th>\n",
       "      <td>January</td>\n",
       "      <td>Wednesday</td>\n",
       "      <td>Clear</td>\n",
       "      <td>Pain</td>\n",
       "      <td>Overturned</td>\n",
       "      <td>No Pedestrian Involved</td>\n",
       "      <td>Dry</td>\n",
       "      <td>Dark - Street Lights</td>\n",
       "      <td>None</td>\n",
       "      <td>West</td>\n",
       "      <td>Proceeding Straight</td>\n",
       "      <td>Unknown</td>\n",
       "      <td>Unknown</td>\n",
       "      <td>0.0</td>\n",
       "      <td>0.693147</td>\n",
       "      <td>4.234107</td>\n",
       "    </tr>\n",
       "    <tr>\n",
       "      <th>1</th>\n",
       "      <td>February</td>\n",
       "      <td>Wednesday</td>\n",
       "      <td>Clear</td>\n",
       "      <td>Pain</td>\n",
       "      <td>Other</td>\n",
       "      <td>No Pedestrian Involved</td>\n",
       "      <td>Dry</td>\n",
       "      <td>Daylight</td>\n",
       "      <td>None</td>\n",
       "      <td>East</td>\n",
       "      <td>Proceeding Straight</td>\n",
       "      <td>Unknown</td>\n",
       "      <td>Unknown</td>\n",
       "      <td>0.0</td>\n",
       "      <td>0.693147</td>\n",
       "      <td>3.044522</td>\n",
       "    </tr>\n",
       "    <tr>\n",
       "      <th>2</th>\n",
       "      <td>November</td>\n",
       "      <td>Sunday</td>\n",
       "      <td>Clear</td>\n",
       "      <td>Visible</td>\n",
       "      <td>Hit Object</td>\n",
       "      <td>No Pedestrian Involved</td>\n",
       "      <td>Dry</td>\n",
       "      <td>Daylight</td>\n",
       "      <td>None</td>\n",
       "      <td>North</td>\n",
       "      <td>Proceeding Straight</td>\n",
       "      <td>Unknown</td>\n",
       "      <td>Unknown</td>\n",
       "      <td>0.0</td>\n",
       "      <td>1.098612</td>\n",
       "      <td>4.855929</td>\n",
       "    </tr>\n",
       "    <tr>\n",
       "      <th>3</th>\n",
       "      <td>July</td>\n",
       "      <td>Friday</td>\n",
       "      <td>Clear</td>\n",
       "      <td>Pain</td>\n",
       "      <td>Broadside</td>\n",
       "      <td>No Pedestrian Involved</td>\n",
       "      <td>Dry</td>\n",
       "      <td>Daylight</td>\n",
       "      <td>Functioning</td>\n",
       "      <td>East</td>\n",
       "      <td>Making Left Turn</td>\n",
       "      <td>East</td>\n",
       "      <td>Making Left Turn</td>\n",
       "      <td>0.0</td>\n",
       "      <td>0.693147</td>\n",
       "      <td>0.000000</td>\n",
       "    </tr>\n",
       "    <tr>\n",
       "      <th>4</th>\n",
       "      <td>May</td>\n",
       "      <td>Thursday</td>\n",
       "      <td>Not Stated</td>\n",
       "      <td>Pain</td>\n",
       "      <td>Not Stated</td>\n",
       "      <td>Not Stated</td>\n",
       "      <td>Not Stated</td>\n",
       "      <td>Unknown</td>\n",
       "      <td>Not Stated</td>\n",
       "      <td>North</td>\n",
       "      <td>Not Stated</td>\n",
       "      <td>West</td>\n",
       "      <td>Not Stated</td>\n",
       "      <td>0.0</td>\n",
       "      <td>0.693147</td>\n",
       "      <td>0.000000</td>\n",
       "    </tr>\n",
       "  </tbody>\n",
       "</table>\n",
       "</div>"
      ],
      "text/plain": [
       "      month day_of_week   weather_1 collision_severity type_of_collision  \\\n",
       "0   January   Wednesday       Clear               Pain        Overturned   \n",
       "1  February   Wednesday       Clear               Pain             Other   \n",
       "2  November      Sunday       Clear            Visible        Hit Object   \n",
       "3      July      Friday       Clear               Pain         Broadside   \n",
       "4       May    Thursday  Not Stated               Pain        Not Stated   \n",
       "\n",
       "               ped_action road_surface              lighting control_device  \\\n",
       "0  No Pedestrian Involved          Dry  Dark - Street Lights           None   \n",
       "1  No Pedestrian Involved          Dry              Daylight           None   \n",
       "2  No Pedestrian Involved          Dry              Daylight           None   \n",
       "3  No Pedestrian Involved          Dry              Daylight    Functioning   \n",
       "4              Not Stated   Not Stated               Unknown     Not Stated   \n",
       "\n",
       "  party1_dir_of_travel  party1_move_pre_acc party2_dir_of_travel  \\\n",
       "0                 West  Proceeding Straight              Unknown   \n",
       "1                 East  Proceeding Straight              Unknown   \n",
       "2                North  Proceeding Straight              Unknown   \n",
       "3                 East     Making Left Turn                 East   \n",
       "4                North           Not Stated                 West   \n",
       "\n",
       "  party2_move_pre_acc  number_killed  number_injured  distance  \n",
       "0             Unknown            0.0        0.693147  4.234107  \n",
       "1             Unknown            0.0        0.693147  3.044522  \n",
       "2             Unknown            0.0        1.098612  4.855929  \n",
       "3    Making Left Turn            0.0        0.693147  0.000000  \n",
       "4          Not Stated            0.0        0.693147  0.000000  "
      ]
     },
     "execution_count": 47,
     "metadata": {},
     "output_type": "execute_result"
    }
   ],
   "source": [
    "# Combine Categorical data and the numeric_data_log in preparation of modelling\n",
    "\n",
    "data = pd.concat([categorical_cols , numeric_data_log], axis=1) \n",
    "data.head()"
   ]
  },
  {
   "cell_type": "markdown",
   "metadata": {},
   "source": [
    "### **5.0 Modeling**"
   ]
  },
  {
   "cell_type": "code",
   "execution_count": 48,
   "metadata": {},
   "outputs": [
    {
     "name": "stdout",
     "output_type": "stream",
     "text": [
      "\n",
      "Random Forest - Classification Report:\n",
      "              precision    recall  f1-score   support\n",
      "\n",
      "       Fatal       0.98      1.00      0.99       103\n",
      "        Pain       0.67      0.88      0.76      7850\n",
      "      Severe       0.09      0.01      0.02       832\n",
      "     Visible       0.38      0.19      0.25      3419\n",
      "\n",
      "    accuracy                           0.63     12204\n",
      "   macro avg       0.53      0.52      0.51     12204\n",
      "weighted avg       0.55      0.63      0.57     12204\n",
      "\n",
      "Random Forest - Confusion Matrix:\n",
      "[[ 103    0    0    0]\n",
      " [   1 6896   63  890]\n",
      " [   0  640   11  181]\n",
      " [   1 2726   45  647]]\n",
      "\n",
      "Logistic Regression - Classification Report:\n",
      "              precision    recall  f1-score   support\n",
      "\n",
      "       Fatal       0.98      1.00      0.99       103\n",
      "        Pain       0.67      0.95      0.78      7850\n",
      "      Severe       0.00      0.00      0.00       832\n",
      "     Visible       0.43      0.11      0.18      3419\n",
      "\n",
      "    accuracy                           0.65     12204\n",
      "   macro avg       0.52      0.52      0.49     12204\n",
      "weighted avg       0.56      0.65      0.56     12204\n",
      "\n",
      "Logistic Regression - Confusion Matrix:\n",
      "[[ 103    0    0    0]\n",
      " [   1 7467    0  382]\n",
      " [   0  715    0  117]\n",
      " [   1 3035    2  381]]\n",
      "\n",
      "Support Vector Classifier - Classification Report:\n",
      "              precision    recall  f1-score   support\n",
      "\n",
      "       Fatal       0.98      1.00      0.99       103\n",
      "        Pain       0.66      0.95      0.78      7850\n",
      "      Severe       0.00      0.00      0.00       832\n",
      "     Visible       0.42      0.10      0.16      3419\n",
      "\n",
      "    accuracy                           0.65     12204\n",
      "   macro avg       0.52      0.51      0.48     12204\n",
      "weighted avg       0.55      0.65      0.56     12204\n",
      "\n",
      "Support Vector Classifier - Confusion Matrix:\n",
      "[[ 103    0    0    0]\n",
      " [   1 7445    0  404]\n",
      " [   0  755    0   77]\n",
      " [   1 3069    0  349]]\n",
      "\n",
      "k-Nearest Neighbors - Classification Report:\n",
      "              precision    recall  f1-score   support\n",
      "\n",
      "       Fatal       0.62      0.10      0.17       103\n",
      "        Pain       0.66      0.84      0.74      7850\n",
      "      Severe       0.13      0.04      0.06       832\n",
      "     Visible       0.34      0.19      0.25      3419\n",
      "\n",
      "    accuracy                           0.60     12204\n",
      "   macro avg       0.44      0.29      0.30     12204\n",
      "weighted avg       0.54      0.60      0.55     12204\n",
      "\n",
      "k-Nearest Neighbors - Confusion Matrix:\n",
      "[[  10   80    4    9]\n",
      " [   4 6617  133 1096]\n",
      " [   1  617   33  181]\n",
      " [   1 2683   76  659]]\n",
      "[09:59:26] WARNING: C:\\Users\\Administrator\\workspace\\xgboost-win64_release_1.2.0\\src\\learner.cc:516: \n",
      "Parameters: { use_label_encoder } might not be used.\n",
      "\n",
      "  This may not be accurate due to some parameters are only used in language bindings but\n",
      "  passed down to XGBoost core.  Or some parameters are not used but slip through this\n",
      "  verification. Please open an issue if you find above cases.\n",
      "\n",
      "\n",
      "\n",
      "XGBoost - Classification Report:\n",
      "              precision    recall  f1-score   support\n",
      "\n",
      "       Fatal       0.98      1.00      0.99       103\n",
      "        Pain       0.67      0.93      0.78      7850\n",
      "      Severe       0.18      0.01      0.02       832\n",
      "     Visible       0.41      0.14      0.21      3419\n",
      "\n",
      "    accuracy                           0.65     12204\n",
      "   macro avg       0.56      0.52      0.50     12204\n",
      "weighted avg       0.57      0.65      0.57     12204\n",
      "\n",
      "XGBoost - Confusion Matrix:\n",
      "[[ 103    0    0    0]\n",
      " [   1 7282   20  547]\n",
      " [   0  668   10  154]\n",
      " [   1 2908   26  484]]\n"
     ]
    }
   ],
   "source": [
    "# Define the target and features\n",
    "X = data.drop(columns=['collision_severity'])\n",
    "y = data['collision_severity']\n",
    "\n",
    "# Encode target variable using Label Encoding\n",
    "label_encoder = LabelEncoder()\n",
    "y_encoded = label_encoder.fit_transform(y)  # This will encode 'fatal', 'severe', 'visible', 'pain' into 0, 1, 2, 3\n",
    "\n",
    "# Define categorical and numerical columns\n",
    "categorical_cols = ['weather_1','type_of_collision','ped_action','road_surface','lighting', \n",
    "                   'control_device','party1_dir_of_travel', \n",
    "                    'party1_move_pre_acc','party2_dir_of_travel','party2_move_pre_acc', \n",
    "                    'month','day_of_week']\n",
    "numerical_cols = ['distance','number_killed','number_injured']\n",
    "\n",
    "# Preprocessing for numerical data: Impute missing values and scale the data\n",
    "numerical_transformer = Pipeline(steps=[\n",
    "    ('imputer', SimpleImputer(strategy='mean')),\n",
    "    ('scaler', MinMaxScaler())\n",
    "])\n",
    "\n",
    "# Preprocessing for categorical data: Impute missing values and one-hot encode\n",
    "categorical_transformer = Pipeline(steps=[\n",
    "    ('imputer', SimpleImputer(strategy='most_frequent')),\n",
    "    ('onehot', OneHotEncoder(handle_unknown='ignore'))\n",
    "])\n",
    "\n",
    "# Bundle preprocessing for numerical and categorical data\n",
    "preprocessor = ColumnTransformer(\n",
    "    transformers=[\n",
    "        ('num', numerical_transformer, numerical_cols),\n",
    "        ('cat', categorical_transformer, categorical_cols)\n",
    "    ])\n",
    "\n",
    "# Split data into train and test sets\n",
    "X_train, X_test, y_train, y_test = train_test_split(X, y_encoded, test_size=0.2, random_state=42)\n",
    "\n",
    "# Helper function to train and evaluate models\n",
    "def train_and_evaluate_model(model, X_train, X_test, y_train, y_test, model_name):\n",
    "    # Create and evaluate the pipeline\n",
    "    clf = Pipeline(steps=[('preprocessor', preprocessor),\n",
    "                           ('model', model)])\n",
    "    \n",
    "    # Train the model\n",
    "    clf.fit(X_train, y_train)\n",
    "    \n",
    "    # Make predictions\n",
    "    y_pred = clf.predict(X_test)\n",
    "    \n",
    "    # Decode the predicted labels back to original target labels\n",
    "    y_pred_decoded = label_encoder.inverse_transform(y_pred)\n",
    "    y_test_decoded = label_encoder.inverse_transform(y_test)\n",
    "\n",
    "    # Print evaluation metrics\n",
    "    print(f\"\\n{model_name} - Classification Report:\")\n",
    "    print(classification_report(y_test_decoded, y_pred_decoded))\n",
    "    print(f\"{model_name} - Confusion Matrix:\")\n",
    "    print(confusion_matrix(y_test_decoded, y_pred_decoded))\n",
    " # 1. Random Forest Classifier\n",
    "rf_model = RandomForestClassifier(n_estimators=100, random_state=42)\n",
    "train_and_evaluate_model(rf_model, X_train, X_test, y_train, y_test, \"Random Forest\")\n",
    "\n",
    "# 2. Logistic Regression (Multinomial)\n",
    "log_reg_model = LogisticRegression(multi_class='multinomial', solver='lbfgs', max_iter=1000, random_state=42)\n",
    "train_and_evaluate_model(log_reg_model, X_train, X_test, y_train, y_test, \"Logistic Regression\")\n",
    "\n",
    "# 3. Support Vector Classifier (SVC)\n",
    "svc_model = SVC(kernel='linear', decision_function_shape='ovr', random_state=42)\n",
    "train_and_evaluate_model(svc_model, X_train, X_test, y_train, y_test, \"Support Vector Classifier\")\n",
    "\n",
    "# 4. k-Nearest Neighbors (k-NN)\n",
    "knn_model = KNeighborsClassifier(n_neighbors=5)\n",
    "train_and_evaluate_model(knn_model, X_train, X_test, y_train, y_test, \"k-Nearest Neighbors\")\n",
    "\n",
    "# 5. XGBoost Classifier\n",
    "xgb_model = XGBClassifier(use_label_encoder=False, eval_metric='mlogloss', random_state=42)\n",
    "train_and_evaluate_model(xgb_model, X_train, X_test, y_train, y_test, \"XGBoost\")"
   ]
  },
  {
   "cell_type": "markdown",
   "metadata": {},
   "source": [
    "**Key Insights:**\n",
    "\n",
    "`Fatal accidents:` All models perform well in predicting fatal accidents (high precision and recall). This is likely because fatal accidents are rare but distinct, making them easier to classify.\n",
    "\n",
    "`Pain accidents:` Most models perform decently on this class, with high recall but moderate precision (especially in Random Forest, Logistic Regression, and SVC).\n",
    "\n",
    "`Severe and Visible accidents:` All models struggle with these classes, especially Severe, where recall and precision are very low. The low recall for Visible also suggests that the models are misclassifying a large portion of these cases.\n",
    "\n",
    "`Class imbalance:` Pain accidents dominate the dataset (given their high support), and the models may struggle to differentiate between Severe and Visible accidents due to this imbalance.\n",
    "\n",
    "**Handling Class Imbalance:**\n",
    "\n",
    "- SMOTE (Synthetic Minority Over-sampling Technique) or undersampling to balance the class distribution.\n",
    "\n",
    "**Model Tuning:**\n",
    "\n",
    "Perform hyperparameter tuning (using GridSearchCV ) to optimize the models and improve performance, especially for the Severe and Visible classes.\n",
    "Model Ensemble:\n",
    "\n",
    "**Conclusion:**\n",
    "\n",
    "XGBoost, Logistic regression and SVC iare the better models overall in terms of accuracy (65%).\n",
    "\n",
    "XGBoost seems to be the better choice overall, but further improvements can be made by addressing class imbalance and model tuning for the models"
   ]
  },
  {
   "cell_type": "markdown",
   "metadata": {},
   "source": [
    "**Checking for feature importance**\n",
    "\n",
    "- Before applying Smote and Gridsearch, it is important to reduce the number of columns and this can be achieaved by checking for feature importance\n",
    "\n",
    "- random forest and XGBoost will be used to get the most important features for further modeling because it is easy to obtain the importance of features through ```feature_importances_``` attribute"
   ]
  },
  {
   "cell_type": "code",
   "execution_count": 49,
   "metadata": {},
   "outputs": [
    {
     "name": "stdout",
     "output_type": "stream",
     "text": [
      "\n",
      "Sorted Feature Importances for Random Forest:\n",
      "                                               Feature  Random Forest\n",
      "0                                             distance       0.077285\n",
      "2                                       number_injured       0.048433\n",
      "109                                 day_of_week_Friday       0.022093\n",
      "115                              day_of_week_Wednesday       0.021825\n",
      "113                               day_of_week_Thursday       0.021649\n",
      "..                                                 ...            ...\n",
      "77      party2_move_pre_acc_Crossed Into Opposing Lane       0.000085\n",
      "25                              ped_action_Not In Road       0.000061\n",
      "86            party2_move_pre_acc_Other Unsafe Turning       0.000057\n",
      "78   party2_move_pre_acc_Crossed Into Opposing Lane...       0.000053\n",
      "68         party1_move_pre_acc_Xing into Opposing Lane       0.000003\n",
      "\n",
      "[116 rows x 2 columns]\n",
      "\n",
      "Sorted Feature Importances for XGBoost:\n",
      "                                              Feature   XGBoost\n",
      "1                                       number_killed  0.174715\n",
      "16                         type_of_collision_Rear End  0.090619\n",
      "73                       party2_dir_of_travel_Unknown  0.046718\n",
      "24                  ped_action_No Pedestrian Involved  0.024898\n",
      "20               ped_action_Crossing Not in Crosswalk  0.023585\n",
      "..                                                ...       ...\n",
      "41                            control_device_Obscured  0.001579\n",
      "91                   party2_move_pre_acc_Ran Off Road  0.001235\n",
      "78  party2_move_pre_acc_Crossed Into Opposing Lane...  0.000913\n",
      "19          ped_action_Approaching/Leaving School Bus  0.000633\n",
      "68        party1_move_pre_acc_Xing into Opposing Lane  0.000000\n",
      "\n",
      "[116 rows x 2 columns]\n"
     ]
    }
   ],
   "source": [
    "# 1. Extract feature importance for Random Forest and XGBoost\n",
    "rf_importance = rf_model.feature_importances_\n",
    "xgb_importance = xgb_model.feature_importances_\n",
    "\n",
    "# 2. Get the feature names after preprocessing (after one-hot encoding)\n",
    "categorical_columns = categorical_cols  # List of categorical columns\n",
    "num_columns = numerical_cols  # List of numerical columns\n",
    "\n",
    "# Fit the preprocessor to the full dataset \n",
    "preprocessor.fit(X, y_encoded)\n",
    "\n",
    "# Get feature names after one-hot encoding\n",
    "num_features = num_columns  # Numerical features stay the same\n",
    "cat_features = preprocessor.transformers_[1][1].named_steps['onehot'].get_feature_names(categorical_columns)\n",
    "\n",
    "# Combine numerical and categorical feature names\n",
    "all_feature_names = np.concatenate([num_features, cat_features])\n",
    "\n",
    "# Ensure feature importance arrays match the number of features\n",
    "assert len(all_feature_names) == len(rf_importance), \"Mismatch in feature lengths for Random Forest\"\n",
    "assert len(all_feature_names) == len(xgb_importance), \"Mismatch in feature lengths for XGBoost\"\n",
    "\n",
    "# 3. Combine feature importances into a DataFrame\n",
    "importance_data = {\n",
    "    'Feature': all_feature_names,\n",
    "    'Random Forest': rf_importance,\n",
    "    'XGBoost': xgb_importance\n",
    "}\n",
    "\n",
    "importance_df = pd.DataFrame(importance_data)\n",
    "\n",
    "# 4. Sort the feature importances by 'Random Forest' (descending order)\n",
    "rf_sorted = importance_df.sort_values(by='Random Forest', ascending=False)\n",
    "\n",
    "# 5. Sort the feature importances by 'XGBoost' (descending order)\n",
    "xgb_sorted = importance_df.sort_values(by='XGBoost', ascending=False)\n",
    "\n",
    "# Display the sorted DataFrames\n",
    "print(\"\\nSorted Feature Importances for Random Forest:\")\n",
    "print(rf_sorted[['Feature', 'Random Forest']])\n",
    "\n",
    "print(\"\\nSorted Feature Importances for XGBoost:\")\n",
    "print(xgb_sorted[['Feature', 'XGBoost']])"
   ]
  },
  {
   "cell_type": "markdown",
   "metadata": {},
   "source": [
    "**Top 10 most important features**\n",
    "- here we want to display the 10 most important features so that they are used for further modeling"
   ]
  },
  {
   "cell_type": "code",
   "execution_count": 50,
   "metadata": {},
   "outputs": [
    {
     "name": "stdout",
     "output_type": "stream",
     "text": [
      "Top 10 Features for Random Forest:\n",
      "                        Feature  Random Forest\n",
      "0                      distance       0.077285\n",
      "2                number_injured       0.048433\n",
      "109          day_of_week_Friday       0.022093\n",
      "115       day_of_week_Wednesday       0.021825\n",
      "113        day_of_week_Thursday       0.021649\n",
      "114         day_of_week_Tuesday       0.021387\n",
      "45   party1_dir_of_travel_South       0.020961\n",
      "42    party1_dir_of_travel_East       0.020876\n",
      "111        day_of_week_Saturday       0.020670\n",
      "46    party1_dir_of_travel_West       0.020646\n",
      "\n",
      "Top 10 Features for XGBoost:\n",
      "                                 Feature   XGBoost\n",
      "1                          number_killed  0.174715\n",
      "16            type_of_collision_Rear End  0.090619\n",
      "73          party2_dir_of_travel_Unknown  0.046718\n",
      "24     ped_action_No Pedestrian Involved  0.024898\n",
      "20  ped_action_Crossing Not in Crosswalk  0.023585\n",
      "87            party2_move_pre_acc_Parked  0.022097\n",
      "94   party2_move_pre_acc_Stopped In Road  0.014102\n",
      "14               type_of_collision_Other  0.013823\n",
      "93           party2_move_pre_acc_Stopped  0.013175\n",
      "15          type_of_collision_Overturned  0.012597\n"
     ]
    }
   ],
   "source": [
    "# Get the top 10 features for Random Forest\n",
    "top_rf_features = rf_sorted.head(10)\n",
    "\n",
    "# Get the top 10 features for XGBoost\n",
    "top_xgb_features = xgb_sorted.head(10)\n",
    "\n",
    "# Display the results\n",
    "print(\"Top 10 Features for Random Forest:\")\n",
    "print(top_rf_features[['Feature', 'Random Forest']])\n",
    "\n",
    "print(\"\\nTop 10 Features for XGBoost:\")\n",
    "print(top_xgb_features[['Feature', 'XGBoost']])"
   ]
  },
  {
   "cell_type": "markdown",
   "metadata": {},
   "source": [
    "- from the above top 10 most important features, we settled with 'distance', 'number_injured', 'day_of_week', \n",
    "                     'party1_dir_of_travel', 'number_killed', \n",
    "                     'type_of_collision', 'party2_dir_of_travel' as the feature to continue with for the models\n",
    "\n",
    "- Since XGBoost and Logistic perform better in terms of accuracy, we use these 10 most important features for further modeling with the two"
   ]
  },
  {
   "cell_type": "code",
   "execution_count": 52,
   "metadata": {},
   "outputs": [
    {
     "name": "stdout",
     "output_type": "stream",
     "text": [
      "\n",
      "Logistic Regression - Classification Report:\n",
      "              precision    recall  f1-score   support\n",
      "\n",
      "       Fatal       0.98      1.00      0.99       103\n",
      "        Pain       0.66      0.97      0.78      7850\n",
      "      Severe       0.00      0.00      0.00       832\n",
      "     Visible       0.44      0.07      0.12      3419\n",
      "\n",
      "    accuracy                           0.65     12204\n",
      "   macro avg       0.52      0.51      0.47     12204\n",
      "weighted avg       0.56      0.65      0.55     12204\n",
      "\n",
      "Logistic Regression - Confusion Matrix:\n",
      "[[ 103    0    0    0]\n",
      " [   1 7611    0  238]\n",
      " [   0  762    0   70]\n",
      " [   1 3175    0  243]]\n",
      "[10:02:36] WARNING: C:\\Users\\Administrator\\workspace\\xgboost-win64_release_1.2.0\\src\\learner.cc:516: \n",
      "Parameters: { use_label_encoder } might not be used.\n",
      "\n",
      "  This may not be accurate due to some parameters are only used in language bindings but\n",
      "  passed down to XGBoost core.  Or some parameters are not used but slip through this\n",
      "  verification. Please open an issue if you find above cases.\n",
      "\n",
      "\n",
      "\n",
      "XGBoost - Classification Report:\n",
      "              precision    recall  f1-score   support\n",
      "\n",
      "       Fatal       0.98      1.00      0.99       103\n",
      "        Pain       0.66      0.96      0.78      7850\n",
      "      Severe       0.22      0.00      0.00       832\n",
      "     Visible       0.40      0.08      0.13      3419\n",
      "\n",
      "    accuracy                           0.65     12204\n",
      "   macro avg       0.57      0.51      0.48     12204\n",
      "weighted avg       0.56      0.65      0.55     12204\n",
      "\n",
      "XGBoost - Confusion Matrix:\n",
      "[[ 103    0    0    0]\n",
      " [   1 7532    2  315]\n",
      " [   0  755    2   75]\n",
      " [   1 3150    5  263]]\n"
     ]
    }
   ],
   "source": [
    "# List of selected features based on importance \n",
    "selected_features = ['distance', 'number_injured', 'day_of_week', \n",
    "                     'party1_dir_of_travel', 'number_killed', \n",
    "                     'type_of_collision', 'party2_dir_of_travel']\n",
    "\n",
    "# Update the X dataframe to include only the selected features\n",
    "X_selected = data[selected_features]\n",
    "# 'party1_dir_of_travel' and 'party2_dir_of_travel' are categorical, and 'day_of_week' is also categorical\n",
    "categorical_cols_selected = ['party1_dir_of_travel', 'party2_dir_of_travel', 'day_of_week']\n",
    "numerical_cols_selected = ['distance', 'number_injured', 'number_killed']\n",
    "\n",
    "# Preprocessing for numerical data: Impute missing values and scale the data\n",
    "numerical_transformer = Pipeline(steps=[\n",
    "    ('imputer', SimpleImputer(strategy='mean')),\n",
    "    ('scaler', MinMaxScaler())\n",
    "])\n",
    "\n",
    "# Preprocessing for categorical data: Impute missing values and one-hot encode\n",
    "categorical_transformer = Pipeline(steps=[\n",
    "    ('imputer', SimpleImputer(strategy='most_frequent')),\n",
    "    ('onehot', OneHotEncoder(handle_unknown='ignore'))\n",
    "])\n",
    "\n",
    "# Bundle preprocessing for numerical and categorical data\n",
    "preprocessor = ColumnTransformer(\n",
    "    transformers=[\n",
    "        ('num', numerical_transformer, numerical_cols_selected),\n",
    "        ('cat', categorical_transformer, categorical_cols_selected)\n",
    "    ])\n",
    "\n",
    "# Split data into train and test sets\n",
    "X_train, X_test, y_train, y_test = train_test_split(X_selected, y_encoded, test_size=0.2, random_state=42)\n",
    "\n",
    "# Helper function to train and evaluate models\n",
    "def train_and_evaluate_model(model, X_train, X_test, y_train, y_test, model_name):\n",
    "    # Create and evaluate the pipeline\n",
    "    clf = Pipeline(steps=[('preprocessor', preprocessor),\n",
    "                           ('model', model)])\n",
    "    \n",
    "    # Train the model\n",
    "    clf.fit(X_train, y_train)\n",
    "    \n",
    "    # Make predictions\n",
    "    y_pred = clf.predict(X_test)\n",
    "    \n",
    "    # Decode the predicted labels back to original target labels\n",
    "    y_pred_decoded = label_encoder.inverse_transform(y_pred)\n",
    "    y_test_decoded = label_encoder.inverse_transform(y_test)\n",
    "\n",
    "    # Print evaluation metrics\n",
    "    print(f\"\\n{model_name} - Classification Report:\")\n",
    "    print(classification_report(y_test_decoded, y_pred_decoded))\n",
    "    print(f\"{model_name} - Confusion Matrix:\")\n",
    "    print(confusion_matrix(y_test_decoded, y_pred_decoded))\n",
    "\n",
    "# 1. Logistic Regression Classifier\n",
    "log_reg_model = LogisticRegression(multi_class='multinomial', solver='lbfgs', max_iter=1000, random_state=42)\n",
    "train_and_evaluate_model(log_reg_model, X_train, X_test, y_train, y_test, \"Logistic Regression\")\n",
    "\n",
    "\n",
    "# 2. XGBoost Classifier\n",
    "xgb_model = XGBClassifier(use_label_encoder=False, eval_metric='mlogloss', random_state=42)\n",
    "train_and_evaluate_model(xgb_model, X_train, X_test, y_train, y_test, \"XGBoost\")\n"
   ]
  },
  {
   "cell_type": "markdown",
   "metadata": {},
   "source": [
    "\n",
    "Logistic Regression:\n",
    "\n",
    "Fatal Class: Excellent performance with 98% precision, 100% recall, and 99% F1-score.\n",
    "\n",
    "Pain Class: High recall (97%) but low precision (66%), leading to a good identification rate but many false positives.\n",
    "\n",
    "Severe Class: Completely misclassified (0 precision, 0 recall, 0 F1-score).\n",
    "\n",
    "Visible Class: Poor performance with low precision (44%) and very low recall (7%), resulting in many misclassifications.\n",
    "\n",
    "XGBoost:\n",
    "\n",
    "Fatal Class: Similar to logistic regression, excellent performance with 98% precision, 100% recall, and 99% F1-score.\n",
    "\n",
    "Pain Class: High recall (96%) but low precision (66%), showing similar issues to logistic regression in predicting false positives.\n",
    "\n",
    "Severe Class: Poor performance with very low precision (22%) and zero recall (0), indicating no correct identification.\n",
    "\n",
    "Visible Class: Similar to logistic regression, low precision (40%) and very low recall (8%), leading to high misclassification rates.\n",
    "\n",
    "Key Insights:\n",
    "\n",
    "Both models perform very well on the Fatal class but struggle with the Pain, Severe, and Visible classes, likely due to class imbalance.\n",
    "\n",
    "The Pain class has high recall but low precision, indicating an issue with false positives.\n",
    "\n",
    "The Severe and Visible classes are largely misclassified, showing poor performance.\n",
    "\n",
    "Overall Accuracy:\n",
    "Both models have an accuracy of around 65%, driven by good performance on the Fatal class but poor handling of the Pain, Severe, and Visible classes."
   ]
  },
  {
   "cell_type": "markdown",
   "metadata": {},
   "source": [
    "**Integrating SMOTE and Hyperparameter tuning for Logistic and XGBoost models**"
   ]
  },
  {
   "cell_type": "code",
   "execution_count": 54,
   "metadata": {},
   "outputs": [
    {
     "name": "stdout",
     "output_type": "stream",
     "text": [
      "Fitting 3 folds for each of 12 candidates, totalling 36 fits\n"
     ]
    },
    {
     "name": "stderr",
     "output_type": "stream",
     "text": [
      "[Parallel(n_jobs=-1)]: Using backend LokyBackend with 2 concurrent workers.\n",
      "[Parallel(n_jobs=-1)]: Done  36 out of  36 | elapsed: 18.5min finished\n"
     ]
    },
    {
     "name": "stdout",
     "output_type": "stream",
     "text": [
      "\n",
      "Logistic Regression - Best Parameters from GridSearchCV: {'model__C': 0.01, 'model__max_iter': 500, 'model__solver': 'lbfgs'}\n",
      "\n",
      "Logistic Regression - Classification Report:\n",
      "              precision    recall  f1-score   support\n",
      "\n",
      "       Fatal       0.98      1.00      0.99       103\n",
      "        Pain       0.67      0.67      0.67      7850\n",
      "      Severe       0.09      0.27      0.14       832\n",
      "     Visible       0.28      0.15      0.19      3419\n",
      "\n",
      "    accuracy                           0.50     12204\n",
      "   macro avg       0.51      0.52      0.50     12204\n",
      "weighted avg       0.53      0.50      0.50     12204\n",
      "\n",
      "Logistic Regression - Confusion Matrix:\n",
      "[[ 103    0    0    0]\n",
      " [   1 5293 1393 1163]\n",
      " [   0  492  227  113]\n",
      " [   1 2071  850  497]]\n",
      "Fitting 3 folds for each of 16 candidates, totalling 48 fits\n"
     ]
    },
    {
     "name": "stderr",
     "output_type": "stream",
     "text": [
      "[Parallel(n_jobs=-1)]: Using backend LokyBackend with 2 concurrent workers.\n",
      "[Parallel(n_jobs=-1)]: Done  48 out of  48 | elapsed: 41.7min finished\n"
     ]
    },
    {
     "name": "stdout",
     "output_type": "stream",
     "text": [
      "[11:08:54] WARNING: C:\\Users\\Administrator\\workspace\\xgboost-win64_release_1.2.0\\src\\learner.cc:516: \n",
      "Parameters: { use_label_encoder } might not be used.\n",
      "\n",
      "  This may not be accurate due to some parameters are only used in language bindings but\n",
      "  passed down to XGBoost core.  Or some parameters are not used but slip through this\n",
      "  verification. Please open an issue if you find above cases.\n",
      "\n",
      "\n",
      "\n",
      "XGBoost - Best Parameters from GridSearchCV: {'model__learning_rate': 0.01, 'model__max_depth': 6, 'model__n_estimators': 100, 'model__subsample': 1.0}\n",
      "\n",
      "XGBoost - Classification Report:\n",
      "              precision    recall  f1-score   support\n",
      "\n",
      "       Fatal       0.98      1.00      0.99       103\n",
      "        Pain       0.67      0.82      0.74      7850\n",
      "      Severe       0.11      0.09      0.10       832\n",
      "     Visible       0.31      0.16      0.22      3419\n",
      "\n",
      "    accuracy                           0.59     12204\n",
      "   macro avg       0.52      0.52      0.51     12204\n",
      "weighted avg       0.53      0.59      0.55     12204\n",
      "\n",
      "XGBoost - Confusion Matrix:\n",
      "[[ 103    0    0    0]\n",
      " [   1 6433  310 1106]\n",
      " [   0  622   76  134]\n",
      " [   1 2555  300  563]]\n"
     ]
    }
   ],
   "source": [
    "\n",
    "\n",
    "# List of selected features based on importance (including 'day_of_week')\n",
    "selected_features = ['distance', 'number_injured', 'day_of_week', \n",
    "                     'party1_dir_of_travel', 'number_killed', \n",
    "                     'type_of_collision', 'party2_dir_of_travel']\n",
    "\n",
    "# Update the X dataframe to include only the selected features\n",
    "X_selected = data[selected_features]\n",
    "\n",
    "# Update the categorical and numerical columns based on selected features\n",
    "categorical_cols_selected = ['party1_dir_of_travel', 'party2_dir_of_travel', 'day_of_week']\n",
    "numerical_cols_selected = ['distance', 'number_injured', 'number_killed']\n",
    "\n",
    "# Preprocessing for numerical data: Impute missing values and scale the data\n",
    "numerical_transformer = Pipeline(steps=[\n",
    "    ('imputer', SimpleImputer(strategy='mean')),\n",
    "    ('scaler', MinMaxScaler())\n",
    "])\n",
    "\n",
    "# Preprocessing for categorical data: Impute missing values and one-hot encode\n",
    "categorical_transformer = Pipeline(steps=[\n",
    "    ('imputer', SimpleImputer(strategy='most_frequent')),\n",
    "    ('onehot', OneHotEncoder(handle_unknown='ignore'))\n",
    "])\n",
    "\n",
    "# Bundle preprocessing for numerical and categorical data\n",
    "preprocessor = ColumnTransformer(\n",
    "    transformers=[\n",
    "        ('num', numerical_transformer, numerical_cols_selected),\n",
    "        ('cat', categorical_transformer, categorical_cols_selected)\n",
    "    ])\n",
    "\n",
    "# Split data into train and test sets\n",
    "X_train, X_test, y_train, y_test = train_test_split(X_selected, y_encoded, test_size=0.2, random_state=42)\n",
    "\n",
    "# Helper function to train and evaluate models\n",
    "def train_and_evaluate_model(model, X_train, X_test, y_train, y_test, model_name, param_grid):\n",
    "    # Integrate SMOTE into the pipeline\n",
    "    smote = SMOTE(random_state=42)\n",
    "\n",
    "    # Create and evaluate the pipeline with SMOTE and GridSearchCV\n",
    "    clf = imbaPipeline(steps=[('preprocessor', preprocessor),\n",
    "                             ('smote', smote),\n",
    "                             ('model', model)])\n",
    "\n",
    "    # Perform GridSearchCV with limited parameters to avoid memory overload\n",
    "    grid_search = GridSearchCV(clf, param_grid, cv=3, n_jobs=-1, verbose=1, scoring='accuracy')\n",
    "\n",
    "    # Train the model with GridSearchCV\n",
    "    grid_search.fit(X_train, y_train)\n",
    "    \n",
    "    # Get the best model from grid search\n",
    "    best_model = grid_search.best_estimator_\n",
    "\n",
    "    # Make predictions\n",
    "    y_pred = best_model.predict(X_test)\n",
    "    \n",
    "    # Decode the predicted labels back to original target labels\n",
    "    y_pred_decoded = label_encoder.inverse_transform(y_pred)\n",
    "    y_test_decoded = label_encoder.inverse_transform(y_test)\n",
    "\n",
    "    # Print evaluation metrics\n",
    "    print(f\"\\n{model_name} - Best Parameters from GridSearchCV: {grid_search.best_params_}\")\n",
    "    print(f\"\\n{model_name} - Classification Report:\")\n",
    "    print(classification_report(y_test_decoded, y_pred_decoded))\n",
    "    print(f\"{model_name} - Confusion Matrix:\")\n",
    "    print(confusion_matrix(y_test_decoded, y_pred_decoded))\n",
    "\n",
    "# 1. Logistic Regression Model\n",
    "log_reg_model = LogisticRegression(multi_class='multinomial', solver='lbfgs', max_iter=1000, random_state=42)\n",
    "\n",
    "# GridSearchCV parameter grid for Logistic Regression (keeping it simple)\n",
    "log_reg_param_grid = {\n",
    "    'model__C': [0.01, 0.1, 1],  # Regularization strength\n",
    "    'model__max_iter': [500, 1000],  # Iterations limit\n",
    "    'model__solver': ['lbfgs', 'liblinear']  # Solvers to try\n",
    "}\n",
    "\n",
    "train_and_evaluate_model(log_reg_model, X_train, X_test, y_train, y_test, \"Logistic Regression\", log_reg_param_grid)\n",
    "\n",
    "# 2. XGBoost Classifier\n",
    "xgb_model = XGBClassifier(use_label_encoder=False, eval_metric='mlogloss', random_state=42)\n",
    "\n",
    "# GridSearchCV parameter grid for XGBoost (keeping it simple)\n",
    "xgb_param_grid = {\n",
    "    'model__max_depth': [3, 6],         # Limiting max depth\n",
    "    'model__learning_rate': [0.01, 0.1], # Learning rates\n",
    "    'model__n_estimators': [50, 100],  # Reduced estimators for efficiency\n",
    "    'model__subsample': [0.8, 1.0]     # Limiting subsample to avoid overfitting\n",
    "}\n",
    "\n",
    "train_and_evaluate_model(xgb_model, X_train, X_test, y_train, y_test, \"XGBoost\", xgb_param_grid)\n"
   ]
  },
  {
   "cell_type": "markdown",
   "metadata": {},
   "source": [
    "\n",
    "```Improvements:```\n",
    "\n",
    "There is a slight improvement in recall for the Severe and Visible classes with SMOTE and GridSearch, though they still lag behind in terms of precision and recall.\n",
    "\n",
    "The Pain class remains the dominant one, but recall is much lower than in the initial results (after SMOTE, recall dropped significantly for Pain).\n",
    "\n",
    "```Challenges:```\n",
    "\n",
    "Both models still struggle to correctly classify the minority classes (Severe and Visible) despite using SMOTE to balance the data.\n",
    "\n",
    "The models' overall accuracy decreased, possibly due to the more complex class imbalance, and while tuning improved recall for certain classes, it didn’t fix the fundamental imbalance in the data."
   ]
  }
 ],
 "metadata": {
  "kernelspec": {
   "display_name": "learn-env",
   "language": "python",
   "name": "python3"
  },
  "language_info": {
   "codemirror_mode": {
    "name": "ipython",
    "version": 3
   },
   "file_extension": ".py",
   "mimetype": "text/x-python",
   "name": "python",
   "nbconvert_exporter": "python",
   "pygments_lexer": "ipython3",
   "version": "3.8.5"
  }
 },
 "nbformat": 4,
 "nbformat_minor": 2
}
